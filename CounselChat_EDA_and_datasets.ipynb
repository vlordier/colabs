{
  "cells": [
    {
      "cell_type": "markdown",
      "metadata": {
        "id": "view-in-github",
        "colab_type": "text"
      },
      "source": [
        "<a href=\"https://colab.research.google.com/github/vlordier/colabs/blob/main/CounselChat_EDA_and_datasets.ipynb\" target=\"_parent\"><img src=\"https://colab.research.google.com/assets/colab-badge.svg\" alt=\"Open In Colab\"/></a>"
      ]
    },
    {
      "cell_type": "code",
      "source": [
        "import sys\n",
        "if 'google.colab' in sys.modules:\n",
        "    !pip install -Uqq transformers datasets"
      ],
      "metadata": {
        "id": "-KY7QMqN9lpq"
      },
      "id": "-KY7QMqN9lpq",
      "execution_count": null,
      "outputs": []
    },
    {
      "cell_type": "code",
      "execution_count": null,
      "id": "00c78a2f-659a-4775-9b76-4e68e55bc446",
      "metadata": {
        "id": "00c78a2f-659a-4775-9b76-4e68e55bc446"
      },
      "outputs": [],
      "source": [
        "import random\n",
        "import pandas as pd\n",
        "from IPython.display import display, HTML\n",
        "\n",
        "from transformers import AutoTokenizer\n",
        "from datasets import Dataset, DatasetDict"
      ]
    },
    {
      "cell_type": "markdown",
      "source": [
        "# Get the data"
      ],
      "metadata": {
        "id": "yw5e4jzU_vpZ"
      },
      "id": "yw5e4jzU_vpZ"
    },
    {
      "cell_type": "code",
      "source": [
        "!mkdir ./data && cd data && wget https://raw.githubusercontent.com/nbertagnolli/counsel-chat/master/data/20200325_counsel_chat.csv"
      ],
      "metadata": {
        "colab": {
          "base_uri": "https://localhost:8080/"
        },
        "id": "fMu82T0m_z4d",
        "outputId": "98a476cd-8ebb-4828-aaec-ecbe581363b4"
      },
      "id": "fMu82T0m_z4d",
      "execution_count": null,
      "outputs": [
        {
          "output_type": "stream",
          "name": "stdout",
          "text": [
            "mkdir: cannot create directory ‘./data’: File exists\n"
          ]
        }
      ]
    },
    {
      "cell_type": "code",
      "source": [
        "!ls -hl data"
      ],
      "metadata": {
        "colab": {
          "base_uri": "https://localhost:8080/"
        },
        "id": "wCz-4D1-NEJ2",
        "outputId": "35546e52-2465-4103-eac5-a158c206cb8b"
      },
      "id": "wCz-4D1-NEJ2",
      "execution_count": null,
      "outputs": [
        {
          "output_type": "stream",
          "name": "stdout",
          "text": [
            "total 6.1M\n",
            "-rw-r--r-- 1 root root 3.2M Mar 28 11:04 20200325_counsel_chat.csv\n",
            "-rw-r--r-- 1 root root 2.9M Mar 28 11:04 counselchat-data.csv\n"
          ]
        }
      ]
    },
    {
      "cell_type": "markdown",
      "source": [
        "# EDA"
      ],
      "metadata": {
        "id": "cOSskvZz2ehs"
      },
      "id": "cOSskvZz2ehs"
    },
    {
      "cell_type": "code",
      "execution_count": null,
      "id": "a54bd9b6-d814-4bb2-827b-8789b5c443b4",
      "metadata": {
        "id": "a54bd9b6-d814-4bb2-827b-8789b5c443b4"
      },
      "outputs": [],
      "source": [
        "df = pd.read_csv(\"data/20200325_counsel_chat.csv\", index_col=0)"
      ]
    },
    {
      "cell_type": "code",
      "execution_count": null,
      "id": "8121916b-a4ce-4b90-b042-4e27babab4c2",
      "metadata": {
        "colab": {
          "base_uri": "https://localhost:8080/"
        },
        "id": "8121916b-a4ce-4b90-b042-4e27babab4c2",
        "outputId": "9bd13e96-7cfb-4660-9952-e7e4b2894ee5"
      },
      "outputs": [
        {
          "output_type": "stream",
          "name": "stdout",
          "text": [
            "Total number of samples 2129, 815 unique questions on 31 topics\n"
          ]
        }
      ],
      "source": [
        "n_qs = len(df.questionID.unique())\n",
        "n_topics = len(df.topic.unique())\n",
        "print(f\"Total number of samples {df.shape[0]}, {n_qs} unique questions on {n_topics} topics\")"
      ]
    },
    {
      "cell_type": "code",
      "source": [
        "# standardise spaces\n",
        "df[\"questionTitle\"] = df.questionTitle.map(lambda x: \" \".join(x.split()))\n",
        "df[\"questionText\"] = df.questionText.map(lambda x: \" \".join(x.split()))\n",
        "df[\"answerText\"] = df.answerText.map(lambda x: \" \".join(x.split()))\n",
        "\n",
        "def mb_add_period(text):\n",
        "    if text[-1] not in {\"?\", \".\", \"!\"}:\n",
        "        return text + \".\"\n",
        "    return text\n",
        "\n",
        "df[\"questionTitle\"] = df.questionTitle.map(mb_add_period)\n",
        "assert (df.questionTitle.str.endswith(\"?\") | df.questionTitle.str.endswith(\".\") | df.questionTitle.str.endswith(\"!\")).all()\n",
        "\n",
        "df[\"prompt\"] = \"Answer like a therapist:\\n\" + df.questionTitle + \" \" + df.questionText + \"\\nAnswer: \"\n",
        "df[\"fullText\"] = df.prompt + df.answerText\n",
        "df.head(3)"
      ],
      "metadata": {
        "colab": {
          "base_uri": "https://localhost:8080/",
          "height": 372
        },
        "id": "gkzzHOksdQea",
        "outputId": "f738cf09-5307-46c5-e779-773eac29f754"
      },
      "id": "gkzzHOksdQea",
      "execution_count": null,
      "outputs": [
        {
          "output_type": "execute_result",
          "data": {
            "text/plain": [
              "   questionID                                      questionTitle  \\\n",
              "0           0  Can I change my feeling of being worthless to ...   \n",
              "1           0  Can I change my feeling of being worthless to ...   \n",
              "2           0  Can I change my feeling of being worthless to ...   \n",
              "\n",
              "                                        questionText  \\\n",
              "0  I'm going through some things with my feelings...   \n",
              "1  I'm going through some things with my feelings...   \n",
              "2  I'm going through some things with my feelings...   \n",
              "\n",
              "                                        questionLink       topic  \\\n",
              "0  https://counselchat.com/questions/can-i-change...  depression   \n",
              "1  https://counselchat.com/questions/can-i-change...  depression   \n",
              "2  https://counselchat.com/questions/can-i-change...  depression   \n",
              "\n",
              "                                       therapistInfo  \\\n",
              "0  Sherry Katz, LCSWCouples and Family Therapist,...   \n",
              "1  Robin Landwehr, DBH, LPCC, NCCMental Health in...   \n",
              "2  Lee KingI use an integrative approach to treat...   \n",
              "\n",
              "                                        therapistURL  \\\n",
              "0  https://counselchat.com/therapists/sherry-katz...   \n",
              "1  https://counselchat.com/therapists/robin-landw...   \n",
              "2        https://counselchat.com/therapists/lee-king   \n",
              "\n",
              "                                          answerText  upvotes  views  split  \\\n",
              "0  If everyone thinks you're worthless, then mayb...        1   2899  train   \n",
              "1  Hello, and thank you for your question and see...        1   3514  train   \n",
              "2  First thing I'd suggest is getting the sleep y...        0      5  train   \n",
              "\n",
              "                                              prompt  \\\n",
              "0  Answer like a therapist:\\nCan I change my feel...   \n",
              "1  Answer like a therapist:\\nCan I change my feel...   \n",
              "2  Answer like a therapist:\\nCan I change my feel...   \n",
              "\n",
              "                                            fullText  \n",
              "0  Answer like a therapist:\\nCan I change my feel...  \n",
              "1  Answer like a therapist:\\nCan I change my feel...  \n",
              "2  Answer like a therapist:\\nCan I change my feel...  "
            ],
            "text/html": [
              "\n",
              "  <div id=\"df-e380f829-05be-4b40-9691-92f599b83bbf\">\n",
              "    <div class=\"colab-df-container\">\n",
              "      <div>\n",
              "<style scoped>\n",
              "    .dataframe tbody tr th:only-of-type {\n",
              "        vertical-align: middle;\n",
              "    }\n",
              "\n",
              "    .dataframe tbody tr th {\n",
              "        vertical-align: top;\n",
              "    }\n",
              "\n",
              "    .dataframe thead th {\n",
              "        text-align: right;\n",
              "    }\n",
              "</style>\n",
              "<table border=\"1\" class=\"dataframe\">\n",
              "  <thead>\n",
              "    <tr style=\"text-align: right;\">\n",
              "      <th></th>\n",
              "      <th>questionID</th>\n",
              "      <th>questionTitle</th>\n",
              "      <th>questionText</th>\n",
              "      <th>questionLink</th>\n",
              "      <th>topic</th>\n",
              "      <th>therapistInfo</th>\n",
              "      <th>therapistURL</th>\n",
              "      <th>answerText</th>\n",
              "      <th>upvotes</th>\n",
              "      <th>views</th>\n",
              "      <th>split</th>\n",
              "      <th>prompt</th>\n",
              "      <th>fullText</th>\n",
              "    </tr>\n",
              "  </thead>\n",
              "  <tbody>\n",
              "    <tr>\n",
              "      <th>0</th>\n",
              "      <td>0</td>\n",
              "      <td>Can I change my feeling of being worthless to ...</td>\n",
              "      <td>I'm going through some things with my feelings...</td>\n",
              "      <td>https://counselchat.com/questions/can-i-change...</td>\n",
              "      <td>depression</td>\n",
              "      <td>Sherry Katz, LCSWCouples and Family Therapist,...</td>\n",
              "      <td>https://counselchat.com/therapists/sherry-katz...</td>\n",
              "      <td>If everyone thinks you're worthless, then mayb...</td>\n",
              "      <td>1</td>\n",
              "      <td>2899</td>\n",
              "      <td>train</td>\n",
              "      <td>Answer like a therapist:\\nCan I change my feel...</td>\n",
              "      <td>Answer like a therapist:\\nCan I change my feel...</td>\n",
              "    </tr>\n",
              "    <tr>\n",
              "      <th>1</th>\n",
              "      <td>0</td>\n",
              "      <td>Can I change my feeling of being worthless to ...</td>\n",
              "      <td>I'm going through some things with my feelings...</td>\n",
              "      <td>https://counselchat.com/questions/can-i-change...</td>\n",
              "      <td>depression</td>\n",
              "      <td>Robin Landwehr, DBH, LPCC, NCCMental Health in...</td>\n",
              "      <td>https://counselchat.com/therapists/robin-landw...</td>\n",
              "      <td>Hello, and thank you for your question and see...</td>\n",
              "      <td>1</td>\n",
              "      <td>3514</td>\n",
              "      <td>train</td>\n",
              "      <td>Answer like a therapist:\\nCan I change my feel...</td>\n",
              "      <td>Answer like a therapist:\\nCan I change my feel...</td>\n",
              "    </tr>\n",
              "    <tr>\n",
              "      <th>2</th>\n",
              "      <td>0</td>\n",
              "      <td>Can I change my feeling of being worthless to ...</td>\n",
              "      <td>I'm going through some things with my feelings...</td>\n",
              "      <td>https://counselchat.com/questions/can-i-change...</td>\n",
              "      <td>depression</td>\n",
              "      <td>Lee KingI use an integrative approach to treat...</td>\n",
              "      <td>https://counselchat.com/therapists/lee-king</td>\n",
              "      <td>First thing I'd suggest is getting the sleep y...</td>\n",
              "      <td>0</td>\n",
              "      <td>5</td>\n",
              "      <td>train</td>\n",
              "      <td>Answer like a therapist:\\nCan I change my feel...</td>\n",
              "      <td>Answer like a therapist:\\nCan I change my feel...</td>\n",
              "    </tr>\n",
              "  </tbody>\n",
              "</table>\n",
              "</div>\n",
              "      <button class=\"colab-df-convert\" onclick=\"convertToInteractive('df-e380f829-05be-4b40-9691-92f599b83bbf')\"\n",
              "              title=\"Convert this dataframe to an interactive table.\"\n",
              "              style=\"display:none;\">\n",
              "        \n",
              "  <svg xmlns=\"http://www.w3.org/2000/svg\" height=\"24px\"viewBox=\"0 0 24 24\"\n",
              "       width=\"24px\">\n",
              "    <path d=\"M0 0h24v24H0V0z\" fill=\"none\"/>\n",
              "    <path d=\"M18.56 5.44l.94 2.06.94-2.06 2.06-.94-2.06-.94-.94-2.06-.94 2.06-2.06.94zm-11 1L8.5 8.5l.94-2.06 2.06-.94-2.06-.94L8.5 2.5l-.94 2.06-2.06.94zm10 10l.94 2.06.94-2.06 2.06-.94-2.06-.94-.94-2.06-.94 2.06-2.06.94z\"/><path d=\"M17.41 7.96l-1.37-1.37c-.4-.4-.92-.59-1.43-.59-.52 0-1.04.2-1.43.59L10.3 9.45l-7.72 7.72c-.78.78-.78 2.05 0 2.83L4 21.41c.39.39.9.59 1.41.59.51 0 1.02-.2 1.41-.59l7.78-7.78 2.81-2.81c.8-.78.8-2.07 0-2.86zM5.41 20L4 18.59l7.72-7.72 1.47 1.35L5.41 20z\"/>\n",
              "  </svg>\n",
              "      </button>\n",
              "      \n",
              "  <style>\n",
              "    .colab-df-container {\n",
              "      display:flex;\n",
              "      flex-wrap:wrap;\n",
              "      gap: 12px;\n",
              "    }\n",
              "\n",
              "    .colab-df-convert {\n",
              "      background-color: #E8F0FE;\n",
              "      border: none;\n",
              "      border-radius: 50%;\n",
              "      cursor: pointer;\n",
              "      display: none;\n",
              "      fill: #1967D2;\n",
              "      height: 32px;\n",
              "      padding: 0 0 0 0;\n",
              "      width: 32px;\n",
              "    }\n",
              "\n",
              "    .colab-df-convert:hover {\n",
              "      background-color: #E2EBFA;\n",
              "      box-shadow: 0px 1px 2px rgba(60, 64, 67, 0.3), 0px 1px 3px 1px rgba(60, 64, 67, 0.15);\n",
              "      fill: #174EA6;\n",
              "    }\n",
              "\n",
              "    [theme=dark] .colab-df-convert {\n",
              "      background-color: #3B4455;\n",
              "      fill: #D2E3FC;\n",
              "    }\n",
              "\n",
              "    [theme=dark] .colab-df-convert:hover {\n",
              "      background-color: #434B5C;\n",
              "      box-shadow: 0px 1px 3px 1px rgba(0, 0, 0, 0.15);\n",
              "      filter: drop-shadow(0px 1px 2px rgba(0, 0, 0, 0.3));\n",
              "      fill: #FFFFFF;\n",
              "    }\n",
              "  </style>\n",
              "\n",
              "      <script>\n",
              "        const buttonEl =\n",
              "          document.querySelector('#df-e380f829-05be-4b40-9691-92f599b83bbf button.colab-df-convert');\n",
              "        buttonEl.style.display =\n",
              "          google.colab.kernel.accessAllowed ? 'block' : 'none';\n",
              "\n",
              "        async function convertToInteractive(key) {\n",
              "          const element = document.querySelector('#df-e380f829-05be-4b40-9691-92f599b83bbf');\n",
              "          const dataTable =\n",
              "            await google.colab.kernel.invokeFunction('convertToInteractive',\n",
              "                                                     [key], {});\n",
              "          if (!dataTable) return;\n",
              "\n",
              "          const docLinkHtml = 'Like what you see? Visit the ' +\n",
              "            '<a target=\"_blank\" href=https://colab.research.google.com/notebooks/data_table.ipynb>data table notebook</a>'\n",
              "            + ' to learn more about interactive tables.';\n",
              "          element.innerHTML = '';\n",
              "          dataTable['output_type'] = 'display_data';\n",
              "          await google.colab.output.renderOutput(dataTable, element);\n",
              "          const docLink = document.createElement('div');\n",
              "          docLink.innerHTML = docLinkHtml;\n",
              "          element.appendChild(docLink);\n",
              "        }\n",
              "      </script>\n",
              "    </div>\n",
              "  </div>\n",
              "  "
            ]
          },
          "metadata": {},
          "execution_count": 19
        }
      ]
    },
    {
      "cell_type": "markdown",
      "source": [
        "Let's compute prompt and answer length length in tokens:"
      ],
      "metadata": {
        "id": "XW47nrgAd3s2"
      },
      "id": "XW47nrgAd3s2"
    },
    {
      "cell_type": "code",
      "execution_count": null,
      "id": "95e3bb9b-db09-4edf-814c-050dbc731721",
      "metadata": {
        "id": "95e3bb9b-db09-4edf-814c-050dbc731721"
      },
      "outputs": [],
      "source": [
        "tokenizer = AutoTokenizer.from_pretrained(\"EleutherAI/gpt-neo-1.3B\")\n",
        "\n",
        "def get_length(text):\n",
        "    return len(tokenizer(text)[\"input_ids\"])\n",
        "\n",
        "df[\"prompt_length\"] = df.prompt.map(get_length)\n",
        "df[\"answer_length\"] = df.answerText.map(get_length)\n",
        "df[\"full_length\"] = df.fullText.map(get_length)"
      ]
    },
    {
      "cell_type": "code",
      "execution_count": null,
      "id": "1f9bd9f9-754b-4f9e-91e7-82b0db9bb8b7",
      "metadata": {
        "colab": {
          "base_uri": "https://localhost:8080/",
          "height": 329
        },
        "id": "1f9bd9f9-754b-4f9e-91e7-82b0db9bb8b7",
        "outputId": "61c6be2e-601f-4336-ac16-b48331d290ce"
      },
      "outputs": [
        {
          "output_type": "execute_result",
          "data": {
            "text/plain": [
              "        questionID      upvotes        views  prompt_length  answer_length  \\\n",
              "count  2129.000000  2129.000000  2129.000000    2129.000000    2129.000000   \n",
              "mean    346.854861     0.489901   198.604979      84.918741     204.780648   \n",
              "std     273.706241     0.942429   300.314280      55.576545     151.817316   \n",
              "min       0.000000     0.000000     2.000000      23.000000       2.000000   \n",
              "25%      78.000000     0.000000    58.000000      53.000000     106.000000   \n",
              "50%     321.000000     0.000000   107.000000      75.000000     164.000000   \n",
              "75%     588.000000     1.000000   210.000000     102.000000     252.000000   \n",
              "max     884.000000     9.000000  3514.000000     668.000000    1108.000000   \n",
              "\n",
              "       full_length  \n",
              "count  2129.000000  \n",
              "mean    288.649131  \n",
              "std     165.083026  \n",
              "min      50.000000  \n",
              "25%     178.000000  \n",
              "50%     248.000000  \n",
              "75%     342.000000  \n",
              "max    1208.000000  "
            ],
            "text/html": [
              "\n",
              "  <div id=\"df-807b157c-1dc8-48f9-b48c-d77391d6371a\">\n",
              "    <div class=\"colab-df-container\">\n",
              "      <div>\n",
              "<style scoped>\n",
              "    .dataframe tbody tr th:only-of-type {\n",
              "        vertical-align: middle;\n",
              "    }\n",
              "\n",
              "    .dataframe tbody tr th {\n",
              "        vertical-align: top;\n",
              "    }\n",
              "\n",
              "    .dataframe thead th {\n",
              "        text-align: right;\n",
              "    }\n",
              "</style>\n",
              "<table border=\"1\" class=\"dataframe\">\n",
              "  <thead>\n",
              "    <tr style=\"text-align: right;\">\n",
              "      <th></th>\n",
              "      <th>questionID</th>\n",
              "      <th>upvotes</th>\n",
              "      <th>views</th>\n",
              "      <th>prompt_length</th>\n",
              "      <th>answer_length</th>\n",
              "      <th>full_length</th>\n",
              "    </tr>\n",
              "  </thead>\n",
              "  <tbody>\n",
              "    <tr>\n",
              "      <th>count</th>\n",
              "      <td>2129.000000</td>\n",
              "      <td>2129.000000</td>\n",
              "      <td>2129.000000</td>\n",
              "      <td>2129.000000</td>\n",
              "      <td>2129.000000</td>\n",
              "      <td>2129.000000</td>\n",
              "    </tr>\n",
              "    <tr>\n",
              "      <th>mean</th>\n",
              "      <td>346.854861</td>\n",
              "      <td>0.489901</td>\n",
              "      <td>198.604979</td>\n",
              "      <td>84.918741</td>\n",
              "      <td>204.780648</td>\n",
              "      <td>288.649131</td>\n",
              "    </tr>\n",
              "    <tr>\n",
              "      <th>std</th>\n",
              "      <td>273.706241</td>\n",
              "      <td>0.942429</td>\n",
              "      <td>300.314280</td>\n",
              "      <td>55.576545</td>\n",
              "      <td>151.817316</td>\n",
              "      <td>165.083026</td>\n",
              "    </tr>\n",
              "    <tr>\n",
              "      <th>min</th>\n",
              "      <td>0.000000</td>\n",
              "      <td>0.000000</td>\n",
              "      <td>2.000000</td>\n",
              "      <td>23.000000</td>\n",
              "      <td>2.000000</td>\n",
              "      <td>50.000000</td>\n",
              "    </tr>\n",
              "    <tr>\n",
              "      <th>25%</th>\n",
              "      <td>78.000000</td>\n",
              "      <td>0.000000</td>\n",
              "      <td>58.000000</td>\n",
              "      <td>53.000000</td>\n",
              "      <td>106.000000</td>\n",
              "      <td>178.000000</td>\n",
              "    </tr>\n",
              "    <tr>\n",
              "      <th>50%</th>\n",
              "      <td>321.000000</td>\n",
              "      <td>0.000000</td>\n",
              "      <td>107.000000</td>\n",
              "      <td>75.000000</td>\n",
              "      <td>164.000000</td>\n",
              "      <td>248.000000</td>\n",
              "    </tr>\n",
              "    <tr>\n",
              "      <th>75%</th>\n",
              "      <td>588.000000</td>\n",
              "      <td>1.000000</td>\n",
              "      <td>210.000000</td>\n",
              "      <td>102.000000</td>\n",
              "      <td>252.000000</td>\n",
              "      <td>342.000000</td>\n",
              "    </tr>\n",
              "    <tr>\n",
              "      <th>max</th>\n",
              "      <td>884.000000</td>\n",
              "      <td>9.000000</td>\n",
              "      <td>3514.000000</td>\n",
              "      <td>668.000000</td>\n",
              "      <td>1108.000000</td>\n",
              "      <td>1208.000000</td>\n",
              "    </tr>\n",
              "  </tbody>\n",
              "</table>\n",
              "</div>\n",
              "      <button class=\"colab-df-convert\" onclick=\"convertToInteractive('df-807b157c-1dc8-48f9-b48c-d77391d6371a')\"\n",
              "              title=\"Convert this dataframe to an interactive table.\"\n",
              "              style=\"display:none;\">\n",
              "        \n",
              "  <svg xmlns=\"http://www.w3.org/2000/svg\" height=\"24px\"viewBox=\"0 0 24 24\"\n",
              "       width=\"24px\">\n",
              "    <path d=\"M0 0h24v24H0V0z\" fill=\"none\"/>\n",
              "    <path d=\"M18.56 5.44l.94 2.06.94-2.06 2.06-.94-2.06-.94-.94-2.06-.94 2.06-2.06.94zm-11 1L8.5 8.5l.94-2.06 2.06-.94-2.06-.94L8.5 2.5l-.94 2.06-2.06.94zm10 10l.94 2.06.94-2.06 2.06-.94-2.06-.94-.94-2.06-.94 2.06-2.06.94z\"/><path d=\"M17.41 7.96l-1.37-1.37c-.4-.4-.92-.59-1.43-.59-.52 0-1.04.2-1.43.59L10.3 9.45l-7.72 7.72c-.78.78-.78 2.05 0 2.83L4 21.41c.39.39.9.59 1.41.59.51 0 1.02-.2 1.41-.59l7.78-7.78 2.81-2.81c.8-.78.8-2.07 0-2.86zM5.41 20L4 18.59l7.72-7.72 1.47 1.35L5.41 20z\"/>\n",
              "  </svg>\n",
              "      </button>\n",
              "      \n",
              "  <style>\n",
              "    .colab-df-container {\n",
              "      display:flex;\n",
              "      flex-wrap:wrap;\n",
              "      gap: 12px;\n",
              "    }\n",
              "\n",
              "    .colab-df-convert {\n",
              "      background-color: #E8F0FE;\n",
              "      border: none;\n",
              "      border-radius: 50%;\n",
              "      cursor: pointer;\n",
              "      display: none;\n",
              "      fill: #1967D2;\n",
              "      height: 32px;\n",
              "      padding: 0 0 0 0;\n",
              "      width: 32px;\n",
              "    }\n",
              "\n",
              "    .colab-df-convert:hover {\n",
              "      background-color: #E2EBFA;\n",
              "      box-shadow: 0px 1px 2px rgba(60, 64, 67, 0.3), 0px 1px 3px 1px rgba(60, 64, 67, 0.15);\n",
              "      fill: #174EA6;\n",
              "    }\n",
              "\n",
              "    [theme=dark] .colab-df-convert {\n",
              "      background-color: #3B4455;\n",
              "      fill: #D2E3FC;\n",
              "    }\n",
              "\n",
              "    [theme=dark] .colab-df-convert:hover {\n",
              "      background-color: #434B5C;\n",
              "      box-shadow: 0px 1px 3px 1px rgba(0, 0, 0, 0.15);\n",
              "      filter: drop-shadow(0px 1px 2px rgba(0, 0, 0, 0.3));\n",
              "      fill: #FFFFFF;\n",
              "    }\n",
              "  </style>\n",
              "\n",
              "      <script>\n",
              "        const buttonEl =\n",
              "          document.querySelector('#df-807b157c-1dc8-48f9-b48c-d77391d6371a button.colab-df-convert');\n",
              "        buttonEl.style.display =\n",
              "          google.colab.kernel.accessAllowed ? 'block' : 'none';\n",
              "\n",
              "        async function convertToInteractive(key) {\n",
              "          const element = document.querySelector('#df-807b157c-1dc8-48f9-b48c-d77391d6371a');\n",
              "          const dataTable =\n",
              "            await google.colab.kernel.invokeFunction('convertToInteractive',\n",
              "                                                     [key], {});\n",
              "          if (!dataTable) return;\n",
              "\n",
              "          const docLinkHtml = 'Like what you see? Visit the ' +\n",
              "            '<a target=\"_blank\" href=https://colab.research.google.com/notebooks/data_table.ipynb>data table notebook</a>'\n",
              "            + ' to learn more about interactive tables.';\n",
              "          element.innerHTML = '';\n",
              "          dataTable['output_type'] = 'display_data';\n",
              "          await google.colab.output.renderOutput(dataTable, element);\n",
              "          const docLink = document.createElement('div');\n",
              "          docLink.innerHTML = docLinkHtml;\n",
              "          element.appendChild(docLink);\n",
              "        }\n",
              "      </script>\n",
              "    </div>\n",
              "  </div>\n",
              "  "
            ]
          },
          "metadata": {},
          "execution_count": 9
        }
      ],
      "source": [
        "df.describe()"
      ]
    },
    {
      "cell_type": "code",
      "source": [
        "for name, group in df.groupby(\"split\"):\n",
        "    print(f\"{name} split contains {len(group)} samples ({len(group.questionID.unique())} unique questions)\")"
      ],
      "metadata": {
        "colab": {
          "base_uri": "https://localhost:8080/"
        },
        "id": "wct7ENSkVcem",
        "outputId": "7609f51b-591e-4fba-d489-9305e4c3e0d7"
      },
      "id": "wct7ENSkVcem",
      "execution_count": null,
      "outputs": [
        {
          "output_type": "stream",
          "name": "stdout",
          "text": [
            "test split contains 117 samples (39 unique questions)\n",
            "train split contains 1839 samples (695 unique questions)\n",
            "val split contains 173 samples (81 unique questions)\n"
          ]
        }
      ]
    },
    {
      "cell_type": "markdown",
      "source": [
        "# Dataset"
      ],
      "metadata": {
        "id": "f_SSnUxZ2km6"
      },
      "id": "f_SSnUxZ2km6"
    },
    {
      "cell_type": "code",
      "execution_count": null,
      "id": "6da058ac-bef8-40b2-acaf-11b6367881da",
      "metadata": {
        "id": "6da058ac-bef8-40b2-acaf-11b6367881da"
      },
      "outputs": [],
      "source": [
        "df.rename(columns={\"answerText\":\"answer\"}, inplace=True)\n",
        "dataset = DatasetDict(**{\n",
        "    k: Dataset.from_pandas(df.loc[df.split==k,[\"prompt\", \"answer\", \"topic\"]]) for k in df.split.unique()\n",
        "})"
      ]
    },
    {
      "cell_type": "code",
      "source": [
        "import random\n",
        "import pandas as pd\n",
        "from IPython.display import display, HTML\n",
        "from pprint import pprint\n",
        "\n",
        "def display_examples(dataset, num_examples=5, mode=\"pprint\"):\n",
        "    assert num_examples <= len(dataset), \"Can't pick more elements than there are in the dataset.\"\n",
        "    idx = random.sample(list(range(len(dataset))), num_examples)\n",
        "    texts = [f'{sample[\"prompt\"]}{sample[\"answer\"]}' for sample in dataset.select(idx)]\n",
        "    df = pd.DataFrame({\"text\":texts})\n",
        "    \n",
        "    if mode==\"df\":\n",
        "        display(HTML(df.to_html()))\n",
        "    elif mode==\"pprint\":\n",
        "        for text in texts:\n",
        "            pprint(text)\n",
        "            print()\n",
        "    else:\n",
        "        raise ValueError(f\"{mode} mode is not supported. Please select one of ['df' 'pprint']\")"
      ],
      "metadata": {
        "id": "i0z8Sd9zRacF"
      },
      "id": "i0z8Sd9zRacF",
      "execution_count": null,
      "outputs": []
    },
    {
      "cell_type": "code",
      "source": [
        "display_examples(dataset[\"train\"], mode=\"df\")"
      ],
      "metadata": {
        "colab": {
          "base_uri": "https://localhost:8080/",
          "height": 607
        },
        "id": "h3MoUnG1T5gs",
        "outputId": "74e7b834-362c-403f-e1ae-662b1deea526"
      },
      "id": "h3MoUnG1T5gs",
      "execution_count": null,
      "outputs": [
        {
          "output_type": "display_data",
          "data": {
            "text/plain": [
              "<IPython.core.display.HTML object>"
            ],
            "text/html": [
              "<table border=\"1\" class=\"dataframe\">\n",
              "  <thead>\n",
              "    <tr style=\"text-align: right;\">\n",
              "      <th></th>\n",
              "      <th>text</th>\n",
              "    </tr>\n",
              "  </thead>\n",
              "  <tbody>\n",
              "    <tr>\n",
              "      <th>0</th>\n",
              "      <td>Answer like a therapist:\\nHow can I not miss my boyfriend while he's in Ireland? My boyfriend is in Ireland for 11 days, and I am an emotional wreck.\\nAnswer: It sounds like you and your boyfriend are very close. Do you typically spend most of your time together? If so, it may be important to reflect on how you feel when you are apart. If any separation is difficult, you may need to examine why. Think about what it is that you miss and what you are anxious, upset or worried about. If you examine the causes of your distress you likely will experience some relief. It is important to learn how to be happy when you are alone, it will only improve the way you feel when you are with your boyfriend.</td>\n",
              "    </tr>\n",
              "    <tr>\n",
              "      <th>1</th>\n",
              "      <td>Answer like a therapist:\\nHow do I find myself? I don't know what to say. I have never really known who I am.\\nAnswer: Therapy may be an effective way for you to get a stronger sense of who you are. A competent therapist will work to create a safe and curious therapeutic relationship in which you can explore your identity. There are also many different exercises which you can do in and out of therapy which you may find helpful in this area as well.</td>\n",
              "    </tr>\n",
              "    <tr>\n",
              "      <th>2</th>\n",
              "      <td>Answer like a therapist:\\nHow can I control my anxiety? I started having anxiety three months ago. I'm new to having anxiety, and it's making me depressed.\\nAnswer: As a past sufferer of anxiety myself, I have learned that it is a natural part of life, it is a natural part of us, the longer we try to run from it the more it entangles us in its clutches, if we deny certain parts of ourselves we will become depressed or even oppressed, the only way to deal with anxiety is to embrace it and accept it, and in fighting the fight without fighting we will eventually win, I would encourage you to look into Acceptance and Commitment Therapy, your answer I think lies in that area of research. Hope this helps,C</td>\n",
              "    </tr>\n",
              "    <tr>\n",
              "      <th>3</th>\n",
              "      <td>Answer like a therapist:\\nHow can I be happy as a stay-at-home mom? Over the years, I have slowly lost everything: my jobs, my cars, my freedom, and my money. I am a stay-at-home mom who doesn't make any money, doesn't have a car, never goes out, and cleans all day long everyday.\\nAnswer: There are an infinite number of possibilities here. You included a lot of things that you don't have. Is there anyway that you can have some freedom for a few hours a week, at least? A lot of times stay at home moms have groups when they meet at different public places where their children can play together and they can talk together. I don't know how old your child or children is/are, but perhaps going back to work is something that can happen in the future.I wonder if you may consider who you have in your life who can support you. I don't know whether you have a spouse or parents or siblings who could help out with some different things. I wonder if you could consider where you would like to go if you had two or three hours that you could do whatever you wanted? If you can sort out some possible answers to that, maybe you can work together with friends or family to make it happen.Also, again depending on the age of your children, some parents can do things while the children are sleeping, even if you are in the same room. For example, if your children are sleeping for about two hours, maybe 30 minutes of that could be reserved for you and the rest could be for cleaning or other things you need to do.</td>\n",
              "    </tr>\n",
              "    <tr>\n",
              "      <th>4</th>\n",
              "      <td>Answer like a therapist:\\nHow do I fix my marriage? I have been married for 20 years. He and I both cheated. I hid my cheating for 14 years. Over that time, I let life stress me out. I became depressed. When I finally woke up, he felt I had pushed him out.\\nAnswer: Do you both want to fix the marriage?The relationship belongs to both of you so that one working without the other cooperating in this work too, will have one person who does all the changing.This dynamic itself creates problems of its own.About your husband telling you he feels pushed out, did he do anything on his own to address his problem of feeling like this?All you state is that he blames you for creating a situation he didn't like.If he did nothing because he felt unsure what to do, anything which shows he understands he has as vital a part in the marriage as you, is ok.Because affairs create mistrust between two people, the two of you would also need to be very aware to regain each other's trust.Talking as much as possible so you both know what goes on in the life of the other, how you each are feeling, what matters to you, is helpful to grow a new foundation for your marriage's future.</td>\n",
              "    </tr>\n",
              "  </tbody>\n",
              "</table>"
            ]
          },
          "metadata": {}
        }
      ]
    },
    {
      "cell_type": "code",
      "source": [
        "display_examples(dataset[\"train\"])"
      ],
      "metadata": {
        "colab": {
          "base_uri": "https://localhost:8080/"
        },
        "id": "XnjMAoMGnfuM",
        "outputId": "7643e6af-ab21-4789-ef99-13c4b890df33"
      },
      "id": "XnjMAoMGnfuM",
      "execution_count": null,
      "outputs": [
        {
          "output_type": "stream",
          "name": "stdout",
          "text": [
            "('Answer like a therapist:\\n'\n",
            " 'Why am I experiencing dfficulty maintaining an erection? A few years ago I '\n",
            " 'was making love to my wife when for no known reason I lost my erection, Now '\n",
            " \"I'm In my early 30s and my problem has become more and more frequent. This \"\n",
            " \"is causing major problems for my ego and it's diminishing my self esteem. \"\n",
            " 'This has resulted in ongoing depression and tearing apart my marriage. I am '\n",
            " 'devastated and cannot find a cause for these issues. I am very attracted to '\n",
            " 'my wife and want to express it in the bedroom like I used to. What could be '\n",
            " 'causing this, and what can I do about it?\\n'\n",
            " 'Answer: Erection maintenance is caused by connective tissue weakness as well '\n",
            " 'as lymphatic stagnation of the area and accompanying channels. A proper '\n",
            " 'detoxification is necessary to reverse the stagnation and get things flowing '\n",
            " 'again.Lower circulation and pituitary might also be indicated.Medical will '\n",
            " 'likely not recommend anything useful in the long term (pharmaceuticals do '\n",
            " 'not solve a problem, only suppress it; and, it will return again later and '\n",
            " 'worse than before);Certain herbal protocols and natural protocols would be '\n",
            " 'very warranted in getting things going again :)')\n",
            "\n",
            "('Answer like a therapist:\\n'\n",
            " 'Is it normal to cry at therapy? Is it normal for people to cry during '\n",
            " 'therapy, or is it just me?\\n'\n",
            " 'Answer: Although not everyone cries in therapy. In my opinion crying is a '\n",
            " 'emotion that some express in therapy. Crying is something that some express '\n",
            " 'when it’s hard to discuss situations that may have never been discussed, '\n",
            " 'When discussing traumatic experiences, and at times crying has even happened '\n",
            " 'to some of my past clients when they have had a breakthrough in their '\n",
            " 'therapy process.')\n",
            "\n",
            "('Answer like a therapist:\\n'\n",
            " \"How do I stop a bully who adults wouldn't recognize as bullying without \"\n",
            " 'speaking to the bully? She mostly targets me on social media. The bullying '\n",
            " 'used to be much worse, but it is still going on. The comments are so vague, '\n",
            " 'but I know that they are meant for me. Even when I confront her, she '\n",
            " 'messages me short phrases to try to get in my head. If I try to fight back, '\n",
            " 'she will ruin me.\\n'\n",
            " 'Answer: Sorry to hear of your problem situation. Feeling intimidated by '\n",
            " 'another person is very unsettling.Stop having contact with the '\n",
            " 'person.Bullies only interact with others either by intimidating someone or '\n",
            " 'by themselves feeling intimidated by someone.Bullies do not have the same '\n",
            " 'dynamics as everyone else.No one can convince or persuade or talk a bully '\n",
            " 'out of their behavior.The best protection for yourself, assuming you are not '\n",
            " 'being physically threatened by the person, is to close contact with '\n",
            " 'them.This does not take away any of the disappointment or sadness of wishing '\n",
            " 'for a better relationship with the person.Until the bully wants to interact '\n",
            " 'differently with others, only harm can result from contact with them.Step '\n",
            " 'one is to stop the bleeding, then to assess and learn to live with not '\n",
            " 'having the person in your life.')\n",
            "\n",
            "('Answer like a therapist:\\n'\n",
            " 'My ex left without fully explaining but I feel broken and empty About 5 '\n",
            " 'months ago my ex left without fully explaining why. For me it seemed out of '\n",
            " \"the blue. I don't miss her as much as I used to but I just don't trust \"\n",
            " 'people anymore, not even my friends who I have known since my childhood not '\n",
            " \"even my family. I'm so terrified of being judged or dismissed. Instead of \"\n",
            " \"acting like someone else or putting on a mask of a personality, I've just \"\n",
            " \"shut down. I haven't felt that sense of comfort and happiness with myself \"\n",
            " \"since everything fell apart. I'm scared to because I don't want it to be \"\n",
            " 'taken away from me again. I feel like ever lesson I learn only last a day. I '\n",
            " \"just don't know what to do. I'm working at a place I know I should enjoy. \"\n",
            " \"I'm keeping up with my creative passions: working out, eating healthy, etc. \"\n",
            " \"I'm doing everything the books say I should do, but I don't feel any \"\n",
            " \"different. I just don't know what to do.\\n\"\n",
            " 'Answer: since you realize your sense of trust was broken, withdrawing from '\n",
            " 'close relationships, makes sense.This may be your Self giving you natural '\n",
            " 'time to recuperate from emotional pain.Also it is your chance to think over '\n",
            " 'how to handle yourself differently in future relationships.Maybe this '\n",
            " \"process requires more time than you'd like.Having patience is very difficult \"\n",
            " 'when a person feels hurt.A therapist of your own may be a good idea so you '\n",
            " 'have someone for guidance and to chart your progress w you.This may feel '\n",
            " \"less lonely and help you tolerate the waiting period till you're better\")\n",
            "\n",
            "('Answer like a therapist:\\n'\n",
            " 'Is it appropriate to give my counselor a bottle of wine for Christmas? I am '\n",
            " 'an international student, and it is my first semester in graduate school in '\n",
            " 'the United States. I faced a cultural shock, and I was so depressed when I '\n",
            " 'arrived here. My counselor in the university was my savior. He helped me a '\n",
            " 'great deal. Now I am going back to my country for a vacation. I was thinking '\n",
            " \"to get him something special with my country's name on it, and I remembered \"\n",
            " 'that he likes wine. My country is known for that. Is it appropriate to give '\n",
            " 'him wine as a gift after Christmas?\\n'\n",
            " \"Answer: I don't think it's appropriate to give your counselor a bottle of \"\n",
            " 'wine. Your counselor helped you and supported you, which is great, But a '\n",
            " 'gift is inappropriate. I can understand that you want to show your '\n",
            " 'gratitude. There are many other ways to do that. You could drop your '\n",
            " 'counselor a note or card, thank him in person, or tell him how much he '\n",
            " 'helped you. These small gestures can be very meaningful for both of you.')\n",
            "\n"
          ]
        }
      ]
    },
    {
      "cell_type": "markdown",
      "source": [
        "Note: \"prompt\" and \"answer\" are kept as separate fields because it will be handy later for proper labeling. Tokens corresponding to \"prompt\" will be ignored at loss computation as we are interested in generating answers only."
      ],
      "metadata": {
        "id": "49iTzE2qoKnA"
      },
      "id": "49iTzE2qoKnA"
    },
    {
      "cell_type": "code",
      "source": [
        "sample = dataset[\"train\"][0]\n",
        "tokenizer(sample[\"prompt\"], sample[\"answer\"], return_token_type_ids=True)"
      ],
      "metadata": {
        "colab": {
          "base_uri": "https://localhost:8080/"
        },
        "id": "sKGut2Cgiz6o",
        "outputId": "6c41c897-4f83-476a-9fc5-2ab0f3e0671b"
      },
      "id": "sKGut2Cgiz6o",
      "execution_count": null,
      "outputs": [
        {
          "output_type": "execute_result",
          "data": {
            "text/plain": [
              "{'input_ids': [33706, 588, 257, 24636, 25, 198, 6090, 314, 1487, 616, 4203, 286, 852, 28063, 284, 2506, 30, 314, 1101, 1016, 832, 617, 1243, 351, 616, 7666, 290, 3589, 13, 314, 8523, 3993, 290, 314, 466, 2147, 475, 892, 546, 703, 314, 1101, 28063, 290, 703, 314, 6584, 470, 307, 994, 13, 314, 1053, 1239, 3088, 393, 39496, 7341, 13, 314, 1053, 1464, 2227, 284, 4259, 616, 2428, 11, 475, 314, 1239, 651, 1088, 284, 340, 13, 1374, 460, 314, 1487, 616, 4203, 286, 852, 28063, 284, 2506, 30, 198, 33706, 25, 220, 1532, 2506, 6834, 345, 821, 28063, 11, 788, 3863, 345, 761, 284, 1064, 649, 661, 284, 8181, 503, 351, 13, 42338, 11, 262, 1919, 4732, 287, 543, 257, 1048, 3160, 318, 257, 1263, 4588, 287, 2116, 12, 31869, 13, 48059, 11, 345, 460, 467, 2835, 290, 2835, 2111, 284, 1833, 1521, 345, 821, 407, 28063, 11, 788, 467, 736, 284, 262, 976, 4315, 290, 307, 13642, 866, 757, 13, 1858, 389, 867, 40840, 6218, 345, 460, 1064, 287, 1919, 2056, 13, 6674, 1100, 617, 286, 262, 3392, 543, 1181, 326, 645, 1048, 318, 28063, 11, 290, 326, 2506, 468, 257, 922, 4007, 284, 511, 1204, 13, 7583, 11, 1201, 674, 3968, 318, 523, 24725, 351, 262, 4901, 326, 611, 2130, 1595, 470, 1254, 922, 546, 2405, 326, 428, 318, 7599, 7818, 13, 22069, 7666, 389, 636, 286, 2877, 13, 1119, 389, 262, 14052, 284, 4781, 6731, 422, 7445, 290, 6958, 543, 466, 514, 517, 4419, 621, 922, 13, 22069, 7666, 466, 1254, 7818, 13, 3406, 4203, 286, 2861, 17587, 743, 307, 922, 287, 262, 2565, 286, 46891, 345, 284, 1064, 503, 326, 345, 389, 881, 1365, 621, 534, 7666, 1909, 13], 'token_type_ids': [0, 0, 0, 0, 0, 0, 0, 0, 0, 0, 0, 0, 0, 0, 0, 0, 0, 0, 0, 0, 0, 0, 0, 0, 0, 0, 0, 0, 0, 0, 0, 0, 0, 0, 0, 0, 0, 0, 0, 0, 0, 0, 0, 0, 0, 0, 0, 0, 0, 0, 0, 0, 0, 0, 0, 0, 0, 0, 0, 0, 0, 0, 0, 0, 0, 0, 0, 0, 0, 0, 0, 0, 0, 0, 0, 0, 0, 0, 0, 0, 0, 0, 0, 0, 0, 0, 0, 0, 0, 0, 0, 0, 1, 1, 1, 1, 1, 1, 1, 1, 1, 1, 1, 1, 1, 1, 1, 1, 1, 1, 1, 1, 1, 1, 1, 1, 1, 1, 1, 1, 1, 1, 1, 1, 1, 1, 1, 1, 1, 1, 1, 1, 1, 1, 1, 1, 1, 1, 1, 1, 1, 1, 1, 1, 1, 1, 1, 1, 1, 1, 1, 1, 1, 1, 1, 1, 1, 1, 1, 1, 1, 1, 1, 1, 1, 1, 1, 1, 1, 1, 1, 1, 1, 1, 1, 1, 1, 1, 1, 1, 1, 1, 1, 1, 1, 1, 1, 1, 1, 1, 1, 1, 1, 1, 1, 1, 1, 1, 1, 1, 1, 1, 1, 1, 1, 1, 1, 1, 1, 1, 1, 1, 1, 1, 1, 1, 1, 1, 1, 1, 1, 1, 1, 1, 1, 1, 1, 1, 1, 1, 1, 1, 1, 1, 1, 1, 1, 1, 1, 1, 1, 1, 1, 1, 1, 1, 1, 1, 1, 1, 1, 1, 1, 1, 1, 1, 1, 1, 1, 1, 1, 1, 1, 1, 1, 1, 1, 1, 1, 1, 1, 1, 1, 1, 1, 1, 1, 1, 1, 1, 1, 1, 1], 'attention_mask': [1, 1, 1, 1, 1, 1, 1, 1, 1, 1, 1, 1, 1, 1, 1, 1, 1, 1, 1, 1, 1, 1, 1, 1, 1, 1, 1, 1, 1, 1, 1, 1, 1, 1, 1, 1, 1, 1, 1, 1, 1, 1, 1, 1, 1, 1, 1, 1, 1, 1, 1, 1, 1, 1, 1, 1, 1, 1, 1, 1, 1, 1, 1, 1, 1, 1, 1, 1, 1, 1, 1, 1, 1, 1, 1, 1, 1, 1, 1, 1, 1, 1, 1, 1, 1, 1, 1, 1, 1, 1, 1, 1, 1, 1, 1, 1, 1, 1, 1, 1, 1, 1, 1, 1, 1, 1, 1, 1, 1, 1, 1, 1, 1, 1, 1, 1, 1, 1, 1, 1, 1, 1, 1, 1, 1, 1, 1, 1, 1, 1, 1, 1, 1, 1, 1, 1, 1, 1, 1, 1, 1, 1, 1, 1, 1, 1, 1, 1, 1, 1, 1, 1, 1, 1, 1, 1, 1, 1, 1, 1, 1, 1, 1, 1, 1, 1, 1, 1, 1, 1, 1, 1, 1, 1, 1, 1, 1, 1, 1, 1, 1, 1, 1, 1, 1, 1, 1, 1, 1, 1, 1, 1, 1, 1, 1, 1, 1, 1, 1, 1, 1, 1, 1, 1, 1, 1, 1, 1, 1, 1, 1, 1, 1, 1, 1, 1, 1, 1, 1, 1, 1, 1, 1, 1, 1, 1, 1, 1, 1, 1, 1, 1, 1, 1, 1, 1, 1, 1, 1, 1, 1, 1, 1, 1, 1, 1, 1, 1, 1, 1, 1, 1, 1, 1, 1, 1, 1, 1, 1, 1, 1, 1, 1, 1, 1, 1, 1, 1, 1, 1, 1, 1, 1, 1, 1, 1, 1, 1, 1, 1, 1, 1, 1]}"
            ]
          },
          "metadata": {},
          "execution_count": 15
        }
      ]
    },
    {
      "cell_type": "code",
      "source": [
        ""
      ],
      "metadata": {
        "id": "8xjH0TyyoCFq"
      },
      "id": "8xjH0TyyoCFq",
      "execution_count": null,
      "outputs": []
    }
  ],
  "metadata": {
    "kernelspec": {
      "display_name": "Python [conda env:torchenv]",
      "language": "python",
      "name": "conda-env-torchenv-py"
    },
    "language_info": {
      "codemirror_mode": {
        "name": "ipython",
        "version": 3
      },
      "file_extension": ".py",
      "mimetype": "text/x-python",
      "name": "python",
      "nbconvert_exporter": "python",
      "pygments_lexer": "ipython3",
      "version": "3.8.10"
    },
    "colab": {
      "name": "CounselChat EDA and datasets.ipynb",
      "provenance": [],
      "collapsed_sections": [],
      "include_colab_link": true
    }
  },
  "nbformat": 4,
  "nbformat_minor": 5
}