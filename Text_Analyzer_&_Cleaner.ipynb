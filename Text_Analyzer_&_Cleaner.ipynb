{
  "nbformat": 4,
  "nbformat_minor": 0,
  "metadata": {
    "colab": {
      "name": "Text Analyzer & Cleaner.ipynb",
      "provenance": [],
      "collapsed_sections": [
        "Uf20CY3dvr29",
        "WtE3eXC9vj-j",
        "W6CDrjw8GHnn",
        "KEl2s32jHRv-",
        "gvQHgZtzMWcR",
        "o5r3s-2LndqK",
        "iHm4hdlDLy8o",
        "OqNORsEdMpgp",
        "gbcDparjNK-j",
        "Meo3myvyKfBO",
        "i0tn1bRFKi8T",
        "_lSW-gXJL2UF",
        "uBzKU1LIMIAu",
        "6NOSVRbVzD1N",
        "87xfvgObzIGM",
        "6hfZQk3-umql",
        "31v4kb46M_Fv",
        "-sCv_g_TumM-",
        "QIyRkhZtK8kB",
        "6O6pgYyb9KqZ",
        "TGJRE8bcOZ8R",
        "-TnyoVkn7D9s"
      ],
      "machine_shape": "hm",
      "include_colab_link": true
    },
    "kernelspec": {
      "name": "python3",
      "display_name": "Python 3"
    },
    "language_info": {
      "name": "python"
    },
    "accelerator": "GPU",
    "widgets": {
      "application/vnd.jupyter.widget-state+json": {
        "991064ed46b74a0c89f1ed7eb6af992f": {
          "model_module": "@jupyter-widgets/controls",
          "model_name": "HBoxModel",
          "model_module_version": "1.5.0",
          "state": {
            "_view_name": "HBoxView",
            "_dom_classes": [],
            "_model_name": "HBoxModel",
            "_view_module": "@jupyter-widgets/controls",
            "_model_module_version": "1.5.0",
            "_view_count": null,
            "_view_module_version": "1.5.0",
            "box_style": "",
            "layout": "IPY_MODEL_5fe5af65232c4bd2834d459648be858a",
            "_model_module": "@jupyter-widgets/controls",
            "children": [
              "IPY_MODEL_7e7a0d95fc4745e98b7f4c5b248a1e4c",
              "IPY_MODEL_7368a5fdbc9846249ffb8af3a398afc8",
              "IPY_MODEL_8dbbdc286d2742beada9362894113039"
            ]
          }
        },
        "5fe5af65232c4bd2834d459648be858a": {
          "model_module": "@jupyter-widgets/base",
          "model_name": "LayoutModel",
          "model_module_version": "1.2.0",
          "state": {
            "_view_name": "LayoutView",
            "grid_template_rows": null,
            "right": null,
            "justify_content": null,
            "_view_module": "@jupyter-widgets/base",
            "overflow": null,
            "_model_module_version": "1.2.0",
            "_view_count": null,
            "flex_flow": null,
            "width": null,
            "min_width": null,
            "border": null,
            "align_items": null,
            "bottom": null,
            "_model_module": "@jupyter-widgets/base",
            "top": null,
            "grid_column": null,
            "overflow_y": null,
            "overflow_x": null,
            "grid_auto_flow": null,
            "grid_area": null,
            "grid_template_columns": null,
            "flex": null,
            "_model_name": "LayoutModel",
            "justify_items": null,
            "grid_row": null,
            "max_height": null,
            "align_content": null,
            "visibility": null,
            "align_self": null,
            "height": null,
            "min_height": null,
            "padding": null,
            "grid_auto_rows": null,
            "grid_gap": null,
            "max_width": null,
            "order": null,
            "_view_module_version": "1.2.0",
            "grid_template_areas": null,
            "object_position": null,
            "object_fit": null,
            "grid_auto_columns": null,
            "margin": null,
            "display": null,
            "left": null
          }
        },
        "7e7a0d95fc4745e98b7f4c5b248a1e4c": {
          "model_module": "@jupyter-widgets/controls",
          "model_name": "HTMLModel",
          "model_module_version": "1.5.0",
          "state": {
            "_view_name": "HTMLView",
            "style": "IPY_MODEL_12f7e5b6bec64b05b73f62d077512a9c",
            "_dom_classes": [],
            "description": "",
            "_model_name": "HTMLModel",
            "placeholder": "​",
            "_view_module": "@jupyter-widgets/controls",
            "_model_module_version": "1.5.0",
            "value": "Punctuation recovery for [corrected_title]: 100%",
            "_view_count": null,
            "_view_module_version": "1.5.0",
            "description_tooltip": null,
            "_model_module": "@jupyter-widgets/controls",
            "layout": "IPY_MODEL_ed489cbf53f1405192457ff5c5feca46"
          }
        },
        "7368a5fdbc9846249ffb8af3a398afc8": {
          "model_module": "@jupyter-widgets/controls",
          "model_name": "FloatProgressModel",
          "model_module_version": "1.5.0",
          "state": {
            "_view_name": "ProgressView",
            "style": "IPY_MODEL_f8cd448fb22f4b80b9479ae8243be2c5",
            "_dom_classes": [],
            "description": "",
            "_model_name": "FloatProgressModel",
            "bar_style": "success",
            "max": 28628,
            "_view_module": "@jupyter-widgets/controls",
            "_model_module_version": "1.5.0",
            "value": 28628,
            "_view_count": null,
            "_view_module_version": "1.5.0",
            "orientation": "horizontal",
            "min": 0,
            "description_tooltip": null,
            "_model_module": "@jupyter-widgets/controls",
            "layout": "IPY_MODEL_29dfcb44d78246adb21f3d9403fa4870"
          }
        },
        "8dbbdc286d2742beada9362894113039": {
          "model_module": "@jupyter-widgets/controls",
          "model_name": "HTMLModel",
          "model_module_version": "1.5.0",
          "state": {
            "_view_name": "HTMLView",
            "style": "IPY_MODEL_8e74a8d8ef3d402fb581f2aec14392d2",
            "_dom_classes": [],
            "description": "",
            "_model_name": "HTMLModel",
            "placeholder": "​",
            "_view_module": "@jupyter-widgets/controls",
            "_model_module_version": "1.5.0",
            "value": " 28628/28628 [52:33&lt;00:00,  9.05it/s]",
            "_view_count": null,
            "_view_module_version": "1.5.0",
            "description_tooltip": null,
            "_model_module": "@jupyter-widgets/controls",
            "layout": "IPY_MODEL_ff014df8606a47009b9eaaf4618fc5ba"
          }
        },
        "12f7e5b6bec64b05b73f62d077512a9c": {
          "model_module": "@jupyter-widgets/controls",
          "model_name": "DescriptionStyleModel",
          "model_module_version": "1.5.0",
          "state": {
            "_view_name": "StyleView",
            "_model_name": "DescriptionStyleModel",
            "description_width": "",
            "_view_module": "@jupyter-widgets/base",
            "_model_module_version": "1.5.0",
            "_view_count": null,
            "_view_module_version": "1.2.0",
            "_model_module": "@jupyter-widgets/controls"
          }
        },
        "ed489cbf53f1405192457ff5c5feca46": {
          "model_module": "@jupyter-widgets/base",
          "model_name": "LayoutModel",
          "model_module_version": "1.2.0",
          "state": {
            "_view_name": "LayoutView",
            "grid_template_rows": null,
            "right": null,
            "justify_content": null,
            "_view_module": "@jupyter-widgets/base",
            "overflow": null,
            "_model_module_version": "1.2.0",
            "_view_count": null,
            "flex_flow": null,
            "width": null,
            "min_width": null,
            "border": null,
            "align_items": null,
            "bottom": null,
            "_model_module": "@jupyter-widgets/base",
            "top": null,
            "grid_column": null,
            "overflow_y": null,
            "overflow_x": null,
            "grid_auto_flow": null,
            "grid_area": null,
            "grid_template_columns": null,
            "flex": null,
            "_model_name": "LayoutModel",
            "justify_items": null,
            "grid_row": null,
            "max_height": null,
            "align_content": null,
            "visibility": null,
            "align_self": null,
            "height": null,
            "min_height": null,
            "padding": null,
            "grid_auto_rows": null,
            "grid_gap": null,
            "max_width": null,
            "order": null,
            "_view_module_version": "1.2.0",
            "grid_template_areas": null,
            "object_position": null,
            "object_fit": null,
            "grid_auto_columns": null,
            "margin": null,
            "display": null,
            "left": null
          }
        },
        "f8cd448fb22f4b80b9479ae8243be2c5": {
          "model_module": "@jupyter-widgets/controls",
          "model_name": "ProgressStyleModel",
          "model_module_version": "1.5.0",
          "state": {
            "_view_name": "StyleView",
            "_model_name": "ProgressStyleModel",
            "description_width": "",
            "_view_module": "@jupyter-widgets/base",
            "_model_module_version": "1.5.0",
            "_view_count": null,
            "_view_module_version": "1.2.0",
            "bar_color": null,
            "_model_module": "@jupyter-widgets/controls"
          }
        },
        "29dfcb44d78246adb21f3d9403fa4870": {
          "model_module": "@jupyter-widgets/base",
          "model_name": "LayoutModel",
          "model_module_version": "1.2.0",
          "state": {
            "_view_name": "LayoutView",
            "grid_template_rows": null,
            "right": null,
            "justify_content": null,
            "_view_module": "@jupyter-widgets/base",
            "overflow": null,
            "_model_module_version": "1.2.0",
            "_view_count": null,
            "flex_flow": null,
            "width": null,
            "min_width": null,
            "border": null,
            "align_items": null,
            "bottom": null,
            "_model_module": "@jupyter-widgets/base",
            "top": null,
            "grid_column": null,
            "overflow_y": null,
            "overflow_x": null,
            "grid_auto_flow": null,
            "grid_area": null,
            "grid_template_columns": null,
            "flex": null,
            "_model_name": "LayoutModel",
            "justify_items": null,
            "grid_row": null,
            "max_height": null,
            "align_content": null,
            "visibility": null,
            "align_self": null,
            "height": null,
            "min_height": null,
            "padding": null,
            "grid_auto_rows": null,
            "grid_gap": null,
            "max_width": null,
            "order": null,
            "_view_module_version": "1.2.0",
            "grid_template_areas": null,
            "object_position": null,
            "object_fit": null,
            "grid_auto_columns": null,
            "margin": null,
            "display": null,
            "left": null
          }
        },
        "8e74a8d8ef3d402fb581f2aec14392d2": {
          "model_module": "@jupyter-widgets/controls",
          "model_name": "DescriptionStyleModel",
          "model_module_version": "1.5.0",
          "state": {
            "_view_name": "StyleView",
            "_model_name": "DescriptionStyleModel",
            "description_width": "",
            "_view_module": "@jupyter-widgets/base",
            "_model_module_version": "1.5.0",
            "_view_count": null,
            "_view_module_version": "1.2.0",
            "_model_module": "@jupyter-widgets/controls"
          }
        },
        "ff014df8606a47009b9eaaf4618fc5ba": {
          "model_module": "@jupyter-widgets/base",
          "model_name": "LayoutModel",
          "model_module_version": "1.2.0",
          "state": {
            "_view_name": "LayoutView",
            "grid_template_rows": null,
            "right": null,
            "justify_content": null,
            "_view_module": "@jupyter-widgets/base",
            "overflow": null,
            "_model_module_version": "1.2.0",
            "_view_count": null,
            "flex_flow": null,
            "width": null,
            "min_width": null,
            "border": null,
            "align_items": null,
            "bottom": null,
            "_model_module": "@jupyter-widgets/base",
            "top": null,
            "grid_column": null,
            "overflow_y": null,
            "overflow_x": null,
            "grid_auto_flow": null,
            "grid_area": null,
            "grid_template_columns": null,
            "flex": null,
            "_model_name": "LayoutModel",
            "justify_items": null,
            "grid_row": null,
            "max_height": null,
            "align_content": null,
            "visibility": null,
            "align_self": null,
            "height": null,
            "min_height": null,
            "padding": null,
            "grid_auto_rows": null,
            "grid_gap": null,
            "max_width": null,
            "order": null,
            "_view_module_version": "1.2.0",
            "grid_template_areas": null,
            "object_position": null,
            "object_fit": null,
            "grid_auto_columns": null,
            "margin": null,
            "display": null,
            "left": null
          }
        },
        "ae3fca7dc208451786204212f3b1e684": {
          "model_module": "@jupyter-widgets/controls",
          "model_name": "HBoxModel",
          "model_module_version": "1.5.0",
          "state": {
            "_view_name": "HBoxView",
            "_dom_classes": [],
            "_model_name": "HBoxModel",
            "_view_module": "@jupyter-widgets/controls",
            "_model_module_version": "1.5.0",
            "_view_count": null,
            "_view_module_version": "1.5.0",
            "box_style": "",
            "layout": "IPY_MODEL_dd71e1ac2ab14472b1191d0a21ddac87",
            "_model_module": "@jupyter-widgets/controls",
            "children": [
              "IPY_MODEL_2213eac9d8dc41828699116df9ff3469",
              "IPY_MODEL_2d001c35161647fab0f3aeb67970ad0e",
              "IPY_MODEL_9aecdbf1f6fa4311b0facbfcfa6ae5f9"
            ]
          }
        },
        "dd71e1ac2ab14472b1191d0a21ddac87": {
          "model_module": "@jupyter-widgets/base",
          "model_name": "LayoutModel",
          "model_module_version": "1.2.0",
          "state": {
            "_view_name": "LayoutView",
            "grid_template_rows": null,
            "right": null,
            "justify_content": null,
            "_view_module": "@jupyter-widgets/base",
            "overflow": null,
            "_model_module_version": "1.2.0",
            "_view_count": null,
            "flex_flow": null,
            "width": null,
            "min_width": null,
            "border": null,
            "align_items": null,
            "bottom": null,
            "_model_module": "@jupyter-widgets/base",
            "top": null,
            "grid_column": null,
            "overflow_y": null,
            "overflow_x": null,
            "grid_auto_flow": null,
            "grid_area": null,
            "grid_template_columns": null,
            "flex": null,
            "_model_name": "LayoutModel",
            "justify_items": null,
            "grid_row": null,
            "max_height": null,
            "align_content": null,
            "visibility": null,
            "align_self": null,
            "height": null,
            "min_height": null,
            "padding": null,
            "grid_auto_rows": null,
            "grid_gap": null,
            "max_width": null,
            "order": null,
            "_view_module_version": "1.2.0",
            "grid_template_areas": null,
            "object_position": null,
            "object_fit": null,
            "grid_auto_columns": null,
            "margin": null,
            "display": null,
            "left": null
          }
        },
        "2213eac9d8dc41828699116df9ff3469": {
          "model_module": "@jupyter-widgets/controls",
          "model_name": "HTMLModel",
          "model_module_version": "1.5.0",
          "state": {
            "_view_name": "HTMLView",
            "style": "IPY_MODEL_faa62088f07a45d19f5b414155fb900f",
            "_dom_classes": [],
            "description": "",
            "_model_name": "HTMLModel",
            "placeholder": "​",
            "_view_module": "@jupyter-widgets/controls",
            "_model_module_version": "1.5.0",
            "value": "Punctuation recovery for [corrected_content]: 100%",
            "_view_count": null,
            "_view_module_version": "1.5.0",
            "description_tooltip": null,
            "_model_module": "@jupyter-widgets/controls",
            "layout": "IPY_MODEL_e267a451832f49c092844d3d54cee81f"
          }
        },
        "2d001c35161647fab0f3aeb67970ad0e": {
          "model_module": "@jupyter-widgets/controls",
          "model_name": "FloatProgressModel",
          "model_module_version": "1.5.0",
          "state": {
            "_view_name": "ProgressView",
            "style": "IPY_MODEL_075a9c2909434ef7bacd63f2b87a99d5",
            "_dom_classes": [],
            "description": "",
            "_model_name": "FloatProgressModel",
            "bar_style": "success",
            "max": 28628,
            "_view_module": "@jupyter-widgets/controls",
            "_model_module_version": "1.5.0",
            "value": 28628,
            "_view_count": null,
            "_view_module_version": "1.5.0",
            "orientation": "horizontal",
            "min": 0,
            "description_tooltip": null,
            "_model_module": "@jupyter-widgets/controls",
            "layout": "IPY_MODEL_fe91707318604341beaedd69433fbe73"
          }
        },
        "9aecdbf1f6fa4311b0facbfcfa6ae5f9": {
          "model_module": "@jupyter-widgets/controls",
          "model_name": "HTMLModel",
          "model_module_version": "1.5.0",
          "state": {
            "_view_name": "HTMLView",
            "style": "IPY_MODEL_92fe4393407a41868c56876fe5afe077",
            "_dom_classes": [],
            "description": "",
            "_model_name": "HTMLModel",
            "placeholder": "​",
            "_view_module": "@jupyter-widgets/controls",
            "_model_module_version": "1.5.0",
            "value": " 28628/28628 [55:04&lt;00:00,  8.88it/s]",
            "_view_count": null,
            "_view_module_version": "1.5.0",
            "description_tooltip": null,
            "_model_module": "@jupyter-widgets/controls",
            "layout": "IPY_MODEL_3e55042321b54fbcbbe4d0819c472cbd"
          }
        },
        "faa62088f07a45d19f5b414155fb900f": {
          "model_module": "@jupyter-widgets/controls",
          "model_name": "DescriptionStyleModel",
          "model_module_version": "1.5.0",
          "state": {
            "_view_name": "StyleView",
            "_model_name": "DescriptionStyleModel",
            "description_width": "",
            "_view_module": "@jupyter-widgets/base",
            "_model_module_version": "1.5.0",
            "_view_count": null,
            "_view_module_version": "1.2.0",
            "_model_module": "@jupyter-widgets/controls"
          }
        },
        "e267a451832f49c092844d3d54cee81f": {
          "model_module": "@jupyter-widgets/base",
          "model_name": "LayoutModel",
          "model_module_version": "1.2.0",
          "state": {
            "_view_name": "LayoutView",
            "grid_template_rows": null,
            "right": null,
            "justify_content": null,
            "_view_module": "@jupyter-widgets/base",
            "overflow": null,
            "_model_module_version": "1.2.0",
            "_view_count": null,
            "flex_flow": null,
            "width": null,
            "min_width": null,
            "border": null,
            "align_items": null,
            "bottom": null,
            "_model_module": "@jupyter-widgets/base",
            "top": null,
            "grid_column": null,
            "overflow_y": null,
            "overflow_x": null,
            "grid_auto_flow": null,
            "grid_area": null,
            "grid_template_columns": null,
            "flex": null,
            "_model_name": "LayoutModel",
            "justify_items": null,
            "grid_row": null,
            "max_height": null,
            "align_content": null,
            "visibility": null,
            "align_self": null,
            "height": null,
            "min_height": null,
            "padding": null,
            "grid_auto_rows": null,
            "grid_gap": null,
            "max_width": null,
            "order": null,
            "_view_module_version": "1.2.0",
            "grid_template_areas": null,
            "object_position": null,
            "object_fit": null,
            "grid_auto_columns": null,
            "margin": null,
            "display": null,
            "left": null
          }
        },
        "075a9c2909434ef7bacd63f2b87a99d5": {
          "model_module": "@jupyter-widgets/controls",
          "model_name": "ProgressStyleModel",
          "model_module_version": "1.5.0",
          "state": {
            "_view_name": "StyleView",
            "_model_name": "ProgressStyleModel",
            "description_width": "",
            "_view_module": "@jupyter-widgets/base",
            "_model_module_version": "1.5.0",
            "_view_count": null,
            "_view_module_version": "1.2.0",
            "bar_color": null,
            "_model_module": "@jupyter-widgets/controls"
          }
        },
        "fe91707318604341beaedd69433fbe73": {
          "model_module": "@jupyter-widgets/base",
          "model_name": "LayoutModel",
          "model_module_version": "1.2.0",
          "state": {
            "_view_name": "LayoutView",
            "grid_template_rows": null,
            "right": null,
            "justify_content": null,
            "_view_module": "@jupyter-widgets/base",
            "overflow": null,
            "_model_module_version": "1.2.0",
            "_view_count": null,
            "flex_flow": null,
            "width": null,
            "min_width": null,
            "border": null,
            "align_items": null,
            "bottom": null,
            "_model_module": "@jupyter-widgets/base",
            "top": null,
            "grid_column": null,
            "overflow_y": null,
            "overflow_x": null,
            "grid_auto_flow": null,
            "grid_area": null,
            "grid_template_columns": null,
            "flex": null,
            "_model_name": "LayoutModel",
            "justify_items": null,
            "grid_row": null,
            "max_height": null,
            "align_content": null,
            "visibility": null,
            "align_self": null,
            "height": null,
            "min_height": null,
            "padding": null,
            "grid_auto_rows": null,
            "grid_gap": null,
            "max_width": null,
            "order": null,
            "_view_module_version": "1.2.0",
            "grid_template_areas": null,
            "object_position": null,
            "object_fit": null,
            "grid_auto_columns": null,
            "margin": null,
            "display": null,
            "left": null
          }
        },
        "92fe4393407a41868c56876fe5afe077": {
          "model_module": "@jupyter-widgets/controls",
          "model_name": "DescriptionStyleModel",
          "model_module_version": "1.5.0",
          "state": {
            "_view_name": "StyleView",
            "_model_name": "DescriptionStyleModel",
            "description_width": "",
            "_view_module": "@jupyter-widgets/base",
            "_model_module_version": "1.5.0",
            "_view_count": null,
            "_view_module_version": "1.2.0",
            "_model_module": "@jupyter-widgets/controls"
          }
        },
        "3e55042321b54fbcbbe4d0819c472cbd": {
          "model_module": "@jupyter-widgets/base",
          "model_name": "LayoutModel",
          "model_module_version": "1.2.0",
          "state": {
            "_view_name": "LayoutView",
            "grid_template_rows": null,
            "right": null,
            "justify_content": null,
            "_view_module": "@jupyter-widgets/base",
            "overflow": null,
            "_model_module_version": "1.2.0",
            "_view_count": null,
            "flex_flow": null,
            "width": null,
            "min_width": null,
            "border": null,
            "align_items": null,
            "bottom": null,
            "_model_module": "@jupyter-widgets/base",
            "top": null,
            "grid_column": null,
            "overflow_y": null,
            "overflow_x": null,
            "grid_auto_flow": null,
            "grid_area": null,
            "grid_template_columns": null,
            "flex": null,
            "_model_name": "LayoutModel",
            "justify_items": null,
            "grid_row": null,
            "max_height": null,
            "align_content": null,
            "visibility": null,
            "align_self": null,
            "height": null,
            "min_height": null,
            "padding": null,
            "grid_auto_rows": null,
            "grid_gap": null,
            "max_width": null,
            "order": null,
            "_view_module_version": "1.2.0",
            "grid_template_areas": null,
            "object_position": null,
            "object_fit": null,
            "grid_auto_columns": null,
            "margin": null,
            "display": null,
            "left": null
          }
        },
        "17c28d45cb8543738855844a3e8717c1": {
          "model_module": "@jupyter-widgets/controls",
          "model_name": "HBoxModel",
          "model_module_version": "1.5.0",
          "state": {
            "_view_name": "HBoxView",
            "_dom_classes": [],
            "_model_name": "HBoxModel",
            "_view_module": "@jupyter-widgets/controls",
            "_model_module_version": "1.5.0",
            "_view_count": null,
            "_view_module_version": "1.5.0",
            "box_style": "",
            "layout": "IPY_MODEL_1c6638afccd2463b8b5eb9cb2d772c5d",
            "_model_module": "@jupyter-widgets/controls",
            "children": [
              "IPY_MODEL_4d71948448874742abd96c143573aca6",
              "IPY_MODEL_d08897ca70ca430494ff58fb70bed6d7",
              "IPY_MODEL_54a367a4286c44c5a3bc5ab79816a724"
            ]
          }
        },
        "1c6638afccd2463b8b5eb9cb2d772c5d": {
          "model_module": "@jupyter-widgets/base",
          "model_name": "LayoutModel",
          "model_module_version": "1.2.0",
          "state": {
            "_view_name": "LayoutView",
            "grid_template_rows": null,
            "right": null,
            "justify_content": null,
            "_view_module": "@jupyter-widgets/base",
            "overflow": null,
            "_model_module_version": "1.2.0",
            "_view_count": null,
            "flex_flow": null,
            "width": null,
            "min_width": null,
            "border": null,
            "align_items": null,
            "bottom": null,
            "_model_module": "@jupyter-widgets/base",
            "top": null,
            "grid_column": null,
            "overflow_y": null,
            "overflow_x": null,
            "grid_auto_flow": null,
            "grid_area": null,
            "grid_template_columns": null,
            "flex": null,
            "_model_name": "LayoutModel",
            "justify_items": null,
            "grid_row": null,
            "max_height": null,
            "align_content": null,
            "visibility": null,
            "align_self": null,
            "height": null,
            "min_height": null,
            "padding": null,
            "grid_auto_rows": null,
            "grid_gap": null,
            "max_width": null,
            "order": null,
            "_view_module_version": "1.2.0",
            "grid_template_areas": null,
            "object_position": null,
            "object_fit": null,
            "grid_auto_columns": null,
            "margin": null,
            "display": null,
            "left": null
          }
        },
        "4d71948448874742abd96c143573aca6": {
          "model_module": "@jupyter-widgets/controls",
          "model_name": "HTMLModel",
          "model_module_version": "1.5.0",
          "state": {
            "_view_name": "HTMLView",
            "style": "IPY_MODEL_282781268d904ad7a720bde75d1f636f",
            "_dom_classes": [],
            "description": "",
            "_model_name": "HTMLModel",
            "placeholder": "​",
            "_view_module": "@jupyter-widgets/controls",
            "_model_module_version": "1.5.0",
            "value": "Punctuation recovery for [corrected_comment]: 100%",
            "_view_count": null,
            "_view_module_version": "1.5.0",
            "description_tooltip": null,
            "_model_module": "@jupyter-widgets/controls",
            "layout": "IPY_MODEL_624a99e6921d491a8a3116ce4dcbf313"
          }
        },
        "d08897ca70ca430494ff58fb70bed6d7": {
          "model_module": "@jupyter-widgets/controls",
          "model_name": "FloatProgressModel",
          "model_module_version": "1.5.0",
          "state": {
            "_view_name": "ProgressView",
            "style": "IPY_MODEL_f2a9f0e4595e4280a43f10d0cac8c7c1",
            "_dom_classes": [],
            "description": "",
            "_model_name": "FloatProgressModel",
            "bar_style": "success",
            "max": 28628,
            "_view_module": "@jupyter-widgets/controls",
            "_model_module_version": "1.5.0",
            "value": 28628,
            "_view_count": null,
            "_view_module_version": "1.5.0",
            "orientation": "horizontal",
            "min": 0,
            "description_tooltip": null,
            "_model_module": "@jupyter-widgets/controls",
            "layout": "IPY_MODEL_524685b4537047cf88c5569b9a8bb69a"
          }
        },
        "54a367a4286c44c5a3bc5ab79816a724": {
          "model_module": "@jupyter-widgets/controls",
          "model_name": "HTMLModel",
          "model_module_version": "1.5.0",
          "state": {
            "_view_name": "HTMLView",
            "style": "IPY_MODEL_44a2acf84efc4e168529bb38bff59132",
            "_dom_classes": [],
            "description": "",
            "_model_name": "HTMLModel",
            "placeholder": "​",
            "_view_module": "@jupyter-widgets/controls",
            "_model_module_version": "1.5.0",
            "value": " 28628/28628 [53:07&lt;00:00,  8.98it/s]",
            "_view_count": null,
            "_view_module_version": "1.5.0",
            "description_tooltip": null,
            "_model_module": "@jupyter-widgets/controls",
            "layout": "IPY_MODEL_828bbcaa7e2a40f4b7ea6d161d7e1952"
          }
        },
        "282781268d904ad7a720bde75d1f636f": {
          "model_module": "@jupyter-widgets/controls",
          "model_name": "DescriptionStyleModel",
          "model_module_version": "1.5.0",
          "state": {
            "_view_name": "StyleView",
            "_model_name": "DescriptionStyleModel",
            "description_width": "",
            "_view_module": "@jupyter-widgets/base",
            "_model_module_version": "1.5.0",
            "_view_count": null,
            "_view_module_version": "1.2.0",
            "_model_module": "@jupyter-widgets/controls"
          }
        },
        "624a99e6921d491a8a3116ce4dcbf313": {
          "model_module": "@jupyter-widgets/base",
          "model_name": "LayoutModel",
          "model_module_version": "1.2.0",
          "state": {
            "_view_name": "LayoutView",
            "grid_template_rows": null,
            "right": null,
            "justify_content": null,
            "_view_module": "@jupyter-widgets/base",
            "overflow": null,
            "_model_module_version": "1.2.0",
            "_view_count": null,
            "flex_flow": null,
            "width": null,
            "min_width": null,
            "border": null,
            "align_items": null,
            "bottom": null,
            "_model_module": "@jupyter-widgets/base",
            "top": null,
            "grid_column": null,
            "overflow_y": null,
            "overflow_x": null,
            "grid_auto_flow": null,
            "grid_area": null,
            "grid_template_columns": null,
            "flex": null,
            "_model_name": "LayoutModel",
            "justify_items": null,
            "grid_row": null,
            "max_height": null,
            "align_content": null,
            "visibility": null,
            "align_self": null,
            "height": null,
            "min_height": null,
            "padding": null,
            "grid_auto_rows": null,
            "grid_gap": null,
            "max_width": null,
            "order": null,
            "_view_module_version": "1.2.0",
            "grid_template_areas": null,
            "object_position": null,
            "object_fit": null,
            "grid_auto_columns": null,
            "margin": null,
            "display": null,
            "left": null
          }
        },
        "f2a9f0e4595e4280a43f10d0cac8c7c1": {
          "model_module": "@jupyter-widgets/controls",
          "model_name": "ProgressStyleModel",
          "model_module_version": "1.5.0",
          "state": {
            "_view_name": "StyleView",
            "_model_name": "ProgressStyleModel",
            "description_width": "",
            "_view_module": "@jupyter-widgets/base",
            "_model_module_version": "1.5.0",
            "_view_count": null,
            "_view_module_version": "1.2.0",
            "bar_color": null,
            "_model_module": "@jupyter-widgets/controls"
          }
        },
        "524685b4537047cf88c5569b9a8bb69a": {
          "model_module": "@jupyter-widgets/base",
          "model_name": "LayoutModel",
          "model_module_version": "1.2.0",
          "state": {
            "_view_name": "LayoutView",
            "grid_template_rows": null,
            "right": null,
            "justify_content": null,
            "_view_module": "@jupyter-widgets/base",
            "overflow": null,
            "_model_module_version": "1.2.0",
            "_view_count": null,
            "flex_flow": null,
            "width": null,
            "min_width": null,
            "border": null,
            "align_items": null,
            "bottom": null,
            "_model_module": "@jupyter-widgets/base",
            "top": null,
            "grid_column": null,
            "overflow_y": null,
            "overflow_x": null,
            "grid_auto_flow": null,
            "grid_area": null,
            "grid_template_columns": null,
            "flex": null,
            "_model_name": "LayoutModel",
            "justify_items": null,
            "grid_row": null,
            "max_height": null,
            "align_content": null,
            "visibility": null,
            "align_self": null,
            "height": null,
            "min_height": null,
            "padding": null,
            "grid_auto_rows": null,
            "grid_gap": null,
            "max_width": null,
            "order": null,
            "_view_module_version": "1.2.0",
            "grid_template_areas": null,
            "object_position": null,
            "object_fit": null,
            "grid_auto_columns": null,
            "margin": null,
            "display": null,
            "left": null
          }
        },
        "44a2acf84efc4e168529bb38bff59132": {
          "model_module": "@jupyter-widgets/controls",
          "model_name": "DescriptionStyleModel",
          "model_module_version": "1.5.0",
          "state": {
            "_view_name": "StyleView",
            "_model_name": "DescriptionStyleModel",
            "description_width": "",
            "_view_module": "@jupyter-widgets/base",
            "_model_module_version": "1.5.0",
            "_view_count": null,
            "_view_module_version": "1.2.0",
            "_model_module": "@jupyter-widgets/controls"
          }
        },
        "828bbcaa7e2a40f4b7ea6d161d7e1952": {
          "model_module": "@jupyter-widgets/base",
          "model_name": "LayoutModel",
          "model_module_version": "1.2.0",
          "state": {
            "_view_name": "LayoutView",
            "grid_template_rows": null,
            "right": null,
            "justify_content": null,
            "_view_module": "@jupyter-widgets/base",
            "overflow": null,
            "_model_module_version": "1.2.0",
            "_view_count": null,
            "flex_flow": null,
            "width": null,
            "min_width": null,
            "border": null,
            "align_items": null,
            "bottom": null,
            "_model_module": "@jupyter-widgets/base",
            "top": null,
            "grid_column": null,
            "overflow_y": null,
            "overflow_x": null,
            "grid_auto_flow": null,
            "grid_area": null,
            "grid_template_columns": null,
            "flex": null,
            "_model_name": "LayoutModel",
            "justify_items": null,
            "grid_row": null,
            "max_height": null,
            "align_content": null,
            "visibility": null,
            "align_self": null,
            "height": null,
            "min_height": null,
            "padding": null,
            "grid_auto_rows": null,
            "grid_gap": null,
            "max_width": null,
            "order": null,
            "_view_module_version": "1.2.0",
            "grid_template_areas": null,
            "object_position": null,
            "object_fit": null,
            "grid_auto_columns": null,
            "margin": null,
            "display": null,
            "left": null
          }
        }
      }
    }
  },
  "cells": [
    {
      "cell_type": "markdown",
      "metadata": {
        "id": "view-in-github",
        "colab_type": "text"
      },
      "source": [
        "<a href=\"https://colab.research.google.com/github/vlordier/colabs/blob/main/Text_Analyzer_%26_Cleaner.ipynb\" target=\"_parent\"><img src=\"https://colab.research.google.com/assets/colab-badge.svg\" alt=\"Open In Colab\"/></a>"
      ]
    },
    {
      "cell_type": "markdown",
      "source": [
        "# Text Analyzer & Cleaner"
      ],
      "metadata": {
        "id": "T-LrVo_Fvb9y"
      }
    },
    {
      "cell_type": "markdown",
      "source": [
        "## Dependencies"
      ],
      "metadata": {
        "id": "Uf20CY3dvr29"
      }
    },
    {
      "cell_type": "code",
      "source": [
        "!pip install -q emoji\n",
        "!pip install -q feather-format\n",
        "!pip install -q pandarallel==1.4.8\n",
        "!pip install -q pyspellchecker\n",
        "!pip install -q contractions\n",
        "!pip install -q textstat\n",
        "!pip install -q distilbert-punctuator\n",
        "# !pip install -q punctuator\n",
        "# !pip install -q pymc3==3.11.0"
      ],
      "metadata": {
        "id": "US_o5qNPvuVN",
        "colab": {
          "base_uri": "https://localhost:8080/"
        },
        "outputId": "1438f199-7762-4f1f-ddaf-d2caa676171e"
      },
      "execution_count": null,
      "outputs": [
        {
          "output_type": "stream",
          "name": "stdout",
          "text": [
            "\u001b[K     |████████████████████████████████| 776.8 MB 17 kB/s \n",
            "\u001b[K     |████████████████████████████████| 10.1 MB 77.3 MB/s \n",
            "\u001b[K     |████████████████████████████████| 3.8 MB 63.9 MB/s \n",
            "\u001b[K     |████████████████████████████████| 6.5 MB 64.2 MB/s \n",
            "\u001b[K     |████████████████████████████████| 895 kB 81.4 MB/s \n",
            "\u001b[K     |████████████████████████████████| 596 kB 87.0 MB/s \n",
            "\u001b[K     |████████████████████████████████| 67 kB 6.6 MB/s \n",
            "\u001b[31mERROR: pip's dependency resolver does not currently take into account all the packages that are installed. This behaviour is the source of the following dependency conflicts.\n",
            "torchvision 0.11.1+cu111 requires torch==1.10.0, but you have torch 1.7.1 which is incompatible.\n",
            "torchtext 0.11.0 requires torch==1.10.0, but you have torch 1.7.1 which is incompatible.\n",
            "torchaudio 0.10.0+cu111 requires torch==1.10.0, but you have torch 1.7.1 which is incompatible.\u001b[0m\n",
            "\u001b[?25h"
          ]
        }
      ]
    },
    {
      "cell_type": "markdown",
      "source": [
        "## Libraries"
      ],
      "metadata": {
        "id": "WtE3eXC9vj-j"
      }
    },
    {
      "cell_type": "code",
      "source": [
        "import os\n",
        "import time\n",
        "import datetime\n",
        "import warnings\n",
        "warnings.filterwarnings('ignore')\n",
        "import threading\n",
        "import time, timeit\n",
        "from typing import Text, Dict, List, Union, Tuple, Optional, Set\n",
        "import re\n",
        "from ast import literal_eval\n",
        "from collections import defaultdict, Counter\n",
        "\n",
        "import emoji\n",
        "\n",
        "import pandas as pd\n",
        "pd.set_option('display.max_colwidth', 200)\n",
        "warnings.filterwarnings('ignore')\n",
        "\n",
        "from pandarallel import pandarallel # Panadas Asynchronous processing\n",
        "pandarallel.initialize()\n",
        "\n",
        "import numpy as np\n",
        "\n",
        "import seaborn as sns\n",
        "import matplotlib.pylab as plt\n",
        "\n",
        "import textstat\n",
        "import contractions\n",
        "import nltk\n",
        "from nltk.corpus import stopwords, wordnet\n",
        "from nltk.stem import WordNetLemmatizer\n",
        "\n",
        "from spellchecker import SpellChecker\n",
        "# from punctuator import Punctuator\n",
        "from dbpunctuator.inference import Inference, InferenceArguments\n",
        "from dbpunctuator.utils import ALL_PUNCS, DEFAULT_ENGLISH_TAG_PUNCTUATOR_MAP\n",
        "from dbpunctuator.utils.utils import register_logger\n",
        "\n",
        "from tqdm.auto import trange, tqdm\n",
        "from IPython.display import clear_output\n",
        "%matplotlib inline"
      ],
      "metadata": {
        "colab": {
          "base_uri": "https://localhost:8080/"
        },
        "id": "f8Mdr-AUvomV",
        "outputId": "5af29c25-e1c4-42b9-9910-885143684624"
      },
      "execution_count": null,
      "outputs": [
        {
          "output_type": "stream",
          "name": "stdout",
          "text": [
            "INFO: Pandarallel will run on 4 workers.\n",
            "INFO: Pandarallel will use Memory file system to transfer data between the main process and workers.\n"
          ]
        }
      ]
    },
    {
      "cell_type": "code",
      "source": [
        "plt.rcParams['figure.figsize'] = [18, 15]\n",
        "plt.style.use('fivethirtyeight')"
      ],
      "metadata": {
        "id": "4l25HljcGIVe"
      },
      "execution_count": null,
      "outputs": []
    },
    {
      "cell_type": "code",
      "source": [
        "sns.set(rc={'figure.figsize':(18, 15)})\n",
        "sns.set_theme(style=\"darkgrid\")"
      ],
      "metadata": {
        "id": "XGOo4Y9AGKp6"
      },
      "execution_count": null,
      "outputs": []
    },
    {
      "cell_type": "markdown",
      "source": [
        "## Hardware Dependencies"
      ],
      "metadata": {
        "id": "W6CDrjw8GHnn"
      }
    },
    {
      "cell_type": "code",
      "source": [
        "# https://stackoverflow.com/a/20354129/14473118\n",
        "import multiprocessing\n",
        "pool = multiprocessing.Pool()\n",
        "print(f'Number of workers for parallelism: {pool._processes}')"
      ],
      "metadata": {
        "id": "L_HWknFZGQ5b",
        "colab": {
          "base_uri": "https://localhost:8080/"
        },
        "outputId": "b1550810-cdd5-4a27-fcc5-e3472bd7c0f0"
      },
      "execution_count": null,
      "outputs": [
        {
          "output_type": "stream",
          "name": "stdout",
          "text": [
            "Number of workers for parallelism: 4\n"
          ]
        }
      ]
    },
    {
      "cell_type": "code",
      "source": [
        "from google.colab import drive\n",
        "drive.mount('/content/drive')\n",
        "try:\n",
        "  import os\n",
        "  os.chdir('/content/drive/MyDrive/QA Generator')\n",
        "except Exception as e:\n",
        "  os.chdir('/content/drive/MyDrive/Work/QA Generator')"
      ],
      "metadata": {
        "colab": {
          "base_uri": "https://localhost:8080/"
        },
        "id": "WLJI6tm3GUJQ",
        "outputId": "a35240f2-36e4-4487-95bc-2d879e925470"
      },
      "execution_count": null,
      "outputs": [
        {
          "output_type": "stream",
          "name": "stdout",
          "text": [
            "Drive already mounted at /content/drive; to attempt to forcibly remount, call drive.mount(\"/content/drive\", force_remount=True).\n"
          ]
        }
      ]
    },
    {
      "cell_type": "markdown",
      "source": [
        "***Hardware Specs***"
      ],
      "metadata": {
        "id": "tC0M35aeKNWh"
      }
    },
    {
      "cell_type": "code",
      "source": [
        ""
      ],
      "metadata": {
        "id": "T6EtzMqwKRHf",
        "colab": {
          "base_uri": "https://localhost:8080/"
        },
        "outputId": "46ad2037-96a6-4ca1-b42b-3d9889cf69b8"
      },
      "execution_count": null,
      "outputs": [
        {
          "output_type": "stream",
          "name": "stdout",
          "text": [
            "Sat Mar  5 10:34:38 2022       \n",
            "+-----------------------------------------------------------------------------+\n",
            "| NVIDIA-SMI 460.32.03    Driver Version: 460.32.03    CUDA Version: 11.2     |\n",
            "|-------------------------------+----------------------+----------------------+\n",
            "| GPU  Name        Persistence-M| Bus-Id        Disp.A | Volatile Uncorr. ECC |\n",
            "| Fan  Temp  Perf  Pwr:Usage/Cap|         Memory-Usage | GPU-Util  Compute M. |\n",
            "|                               |                      |               MIG M. |\n",
            "|===============================+======================+======================|\n",
            "|   0  Tesla P100-PCIE...  Off  | 00000000:00:04.0 Off |                    0 |\n",
            "| N/A   38C    P0    26W / 250W |      0MiB / 16280MiB |      0%      Default |\n",
            "|                               |                      |                  N/A |\n",
            "+-------------------------------+----------------------+----------------------+\n",
            "                                                                               \n",
            "+-----------------------------------------------------------------------------+\n",
            "| Processes:                                                                  |\n",
            "|  GPU   GI   CI        PID   Type   Process name                  GPU Memory |\n",
            "|        ID   ID                                                   Usage      |\n",
            "|=============================================================================|\n",
            "|  No running processes found                                                 |\n",
            "+-----------------------------------------------------------------------------+\n"
          ]
        }
      ]
    },
    {
      "cell_type": "markdown",
      "source": [
        "## Preprocessing"
      ],
      "metadata": {
        "id": "KEl2s32jHRv-"
      }
    },
    {
      "cell_type": "code",
      "source": [
        "threads = pd.read_feather('Dataset/threads.feather')\n",
        "# threads2 = pd.read_feather('Dataset/anxiety.feather')\n",
        "comments = pd.read_feather('Dataset/comments.feather')\n",
        "comments2 = pd.read_feather('Dataset/comments2.feather')"
      ],
      "metadata": {
        "id": "sPpdcDhUHU_9"
      },
      "execution_count": null,
      "outputs": []
    },
    {
      "cell_type": "code",
      "source": [
        "threads.head()"
      ],
      "metadata": {
        "id": "nKkeiLBXIAdq",
        "colab": {
          "base_uri": "https://localhost:8080/",
          "height": 1000
        },
        "outputId": "51298fc1-f2d3-4a4f-a964-0c26be20bd21"
      },
      "execution_count": null,
      "outputs": [
        {
          "output_type": "execute_result",
          "data": {
            "text/html": [
              "\n",
              "  <div id=\"df-14c24982-627c-4b2a-9707-d3367f05f3c8\">\n",
              "    <div class=\"colab-df-container\">\n",
              "      <div>\n",
              "<style scoped>\n",
              "    .dataframe tbody tr th:only-of-type {\n",
              "        vertical-align: middle;\n",
              "    }\n",
              "\n",
              "    .dataframe tbody tr th {\n",
              "        vertical-align: top;\n",
              "    }\n",
              "\n",
              "    .dataframe thead th {\n",
              "        text-align: right;\n",
              "    }\n",
              "</style>\n",
              "<table border=\"1\" class=\"dataframe\">\n",
              "  <thead>\n",
              "    <tr style=\"text-align: right;\">\n",
              "      <th></th>\n",
              "      <th>id</th>\n",
              "      <th>subreddit</th>\n",
              "      <th>title</th>\n",
              "      <th>selftext</th>\n",
              "      <th>score</th>\n",
              "    </tr>\n",
              "  </thead>\n",
              "  <tbody>\n",
              "    <tr>\n",
              "      <th>0</th>\n",
              "      <td>sx58mp</td>\n",
              "      <td>mentalhealth</td>\n",
              "      <td>How to deal with toxic friend flexing getting richer</td>\n",
              "      <td>Hello,\\n\\n&amp;amp;#x200B;\\n\\nI had truly helped a friend over the course of 10 years to become better,\\n\\nhe always respected me and put me on a pedestal, he was a little not very wise guy, I gave hi...</td>\n",
              "      <td>1</td>\n",
              "    </tr>\n",
              "    <tr>\n",
              "      <th>1</th>\n",
              "      <td>sx56ym</td>\n",
              "      <td>mentalhealth</td>\n",
              "      <td>I have periods of extreme anger when I lose all sense of rationality- what the f is up?</td>\n",
              "      <td>For the record, I am 17F. I am going to seek proper psychological and psychiatric help once I turn 18.\\n\\nWhat brings me to write this text today is, though, .. I am extremely dumbfounded by my ow...</td>\n",
              "      <td>1</td>\n",
              "    </tr>\n",
              "    <tr>\n",
              "      <th>2</th>\n",
              "      <td>sx54zg</td>\n",
              "      <td>mentalhealth</td>\n",
              "      <td>I’m terrified of not fitting in</td>\n",
              "      <td>(F17) I’m an outcast and don’t have any friends, and while I’ve built up my personality around that, I know that I won’t get anywhere in life if I keep on like this. I’ve got nothing left to lose,...</td>\n",
              "      <td>1</td>\n",
              "    </tr>\n",
              "    <tr>\n",
              "      <th>3</th>\n",
              "      <td>sx4qbr</td>\n",
              "      <td>mentalhealth</td>\n",
              "      <td>How to ask for help</td>\n",
              "      <td>Hi all\\n\\nI've been struggling with my mental health for a long while now, but I have never been able to open up to any of my family about it. I am afraid that it would ruin the balance that we ha...</td>\n",
              "      <td>1</td>\n",
              "    </tr>\n",
              "    <tr>\n",
              "      <th>4</th>\n",
              "      <td>sx4nui</td>\n",
              "      <td>mentalhealth</td>\n",
              "      <td>How to remain kind and loving despite feeling that the world and people are sometimes unfair?</td>\n",
              "      <td>How do I remain compassionate despite the fact that the world or people are sometimes unfair or cold? Im tempted sometimes to give them a taste of their own medicine to see how they would feel but...</td>\n",
              "      <td>1</td>\n",
              "    </tr>\n",
              "  </tbody>\n",
              "</table>\n",
              "</div>\n",
              "      <button class=\"colab-df-convert\" onclick=\"convertToInteractive('df-14c24982-627c-4b2a-9707-d3367f05f3c8')\"\n",
              "              title=\"Convert this dataframe to an interactive table.\"\n",
              "              style=\"display:none;\">\n",
              "        \n",
              "  <svg xmlns=\"http://www.w3.org/2000/svg\" height=\"24px\"viewBox=\"0 0 24 24\"\n",
              "       width=\"24px\">\n",
              "    <path d=\"M0 0h24v24H0V0z\" fill=\"none\"/>\n",
              "    <path d=\"M18.56 5.44l.94 2.06.94-2.06 2.06-.94-2.06-.94-.94-2.06-.94 2.06-2.06.94zm-11 1L8.5 8.5l.94-2.06 2.06-.94-2.06-.94L8.5 2.5l-.94 2.06-2.06.94zm10 10l.94 2.06.94-2.06 2.06-.94-2.06-.94-.94-2.06-.94 2.06-2.06.94z\"/><path d=\"M17.41 7.96l-1.37-1.37c-.4-.4-.92-.59-1.43-.59-.52 0-1.04.2-1.43.59L10.3 9.45l-7.72 7.72c-.78.78-.78 2.05 0 2.83L4 21.41c.39.39.9.59 1.41.59.51 0 1.02-.2 1.41-.59l7.78-7.78 2.81-2.81c.8-.78.8-2.07 0-2.86zM5.41 20L4 18.59l7.72-7.72 1.47 1.35L5.41 20z\"/>\n",
              "  </svg>\n",
              "      </button>\n",
              "      \n",
              "  <style>\n",
              "    .colab-df-container {\n",
              "      display:flex;\n",
              "      flex-wrap:wrap;\n",
              "      gap: 12px;\n",
              "    }\n",
              "\n",
              "    .colab-df-convert {\n",
              "      background-color: #E8F0FE;\n",
              "      border: none;\n",
              "      border-radius: 50%;\n",
              "      cursor: pointer;\n",
              "      display: none;\n",
              "      fill: #1967D2;\n",
              "      height: 32px;\n",
              "      padding: 0 0 0 0;\n",
              "      width: 32px;\n",
              "    }\n",
              "\n",
              "    .colab-df-convert:hover {\n",
              "      background-color: #E2EBFA;\n",
              "      box-shadow: 0px 1px 2px rgba(60, 64, 67, 0.3), 0px 1px 3px 1px rgba(60, 64, 67, 0.15);\n",
              "      fill: #174EA6;\n",
              "    }\n",
              "\n",
              "    [theme=dark] .colab-df-convert {\n",
              "      background-color: #3B4455;\n",
              "      fill: #D2E3FC;\n",
              "    }\n",
              "\n",
              "    [theme=dark] .colab-df-convert:hover {\n",
              "      background-color: #434B5C;\n",
              "      box-shadow: 0px 1px 3px 1px rgba(0, 0, 0, 0.15);\n",
              "      filter: drop-shadow(0px 1px 2px rgba(0, 0, 0, 0.3));\n",
              "      fill: #FFFFFF;\n",
              "    }\n",
              "  </style>\n",
              "\n",
              "      <script>\n",
              "        const buttonEl =\n",
              "          document.querySelector('#df-14c24982-627c-4b2a-9707-d3367f05f3c8 button.colab-df-convert');\n",
              "        buttonEl.style.display =\n",
              "          google.colab.kernel.accessAllowed ? 'block' : 'none';\n",
              "\n",
              "        async function convertToInteractive(key) {\n",
              "          const element = document.querySelector('#df-14c24982-627c-4b2a-9707-d3367f05f3c8');\n",
              "          const dataTable =\n",
              "            await google.colab.kernel.invokeFunction('convertToInteractive',\n",
              "                                                     [key], {});\n",
              "          if (!dataTable) return;\n",
              "\n",
              "          const docLinkHtml = 'Like what you see? Visit the ' +\n",
              "            '<a target=\"_blank\" href=https://colab.research.google.com/notebooks/data_table.ipynb>data table notebook</a>'\n",
              "            + ' to learn more about interactive tables.';\n",
              "          element.innerHTML = '';\n",
              "          dataTable['output_type'] = 'display_data';\n",
              "          await google.colab.output.renderOutput(dataTable, element);\n",
              "          const docLink = document.createElement('div');\n",
              "          docLink.innerHTML = docLinkHtml;\n",
              "          element.appendChild(docLink);\n",
              "        }\n",
              "      </script>\n",
              "    </div>\n",
              "  </div>\n",
              "  "
            ],
            "text/plain": [
              "       id     subreddit  \\\n",
              "0  sx58mp  mentalhealth   \n",
              "1  sx56ym  mentalhealth   \n",
              "2  sx54zg  mentalhealth   \n",
              "3  sx4qbr  mentalhealth   \n",
              "4  sx4nui  mentalhealth   \n",
              "\n",
              "                                                                                           title  \\\n",
              "0                                           How to deal with toxic friend flexing getting richer   \n",
              "1        I have periods of extreme anger when I lose all sense of rationality- what the f is up?   \n",
              "2                                                                I’m terrified of not fitting in   \n",
              "3                                                                            How to ask for help   \n",
              "4  How to remain kind and loving despite feeling that the world and people are sometimes unfair?   \n",
              "\n",
              "                                                                                                                                                                                                  selftext  \\\n",
              "0  Hello,\\n\\n&amp;#x200B;\\n\\nI had truly helped a friend over the course of 10 years to become better,\\n\\nhe always respected me and put me on a pedestal, he was a little not very wise guy, I gave hi...   \n",
              "1  For the record, I am 17F. I am going to seek proper psychological and psychiatric help once I turn 18.\\n\\nWhat brings me to write this text today is, though, .. I am extremely dumbfounded by my ow...   \n",
              "2  (F17) I’m an outcast and don’t have any friends, and while I’ve built up my personality around that, I know that I won’t get anywhere in life if I keep on like this. I’ve got nothing left to lose,...   \n",
              "3  Hi all\\n\\nI've been struggling with my mental health for a long while now, but I have never been able to open up to any of my family about it. I am afraid that it would ruin the balance that we ha...   \n",
              "4  How do I remain compassionate despite the fact that the world or people are sometimes unfair or cold? Im tempted sometimes to give them a taste of their own medicine to see how they would feel but...   \n",
              "\n",
              "   score  \n",
              "0      1  \n",
              "1      1  \n",
              "2      1  \n",
              "3      1  \n",
              "4      1  "
            ]
          },
          "metadata": {},
          "execution_count": 8
        }
      ]
    },
    {
      "cell_type": "code",
      "source": [
        "threads.shape"
      ],
      "metadata": {
        "id": "pUXB7v4ULfHf",
        "colab": {
          "base_uri": "https://localhost:8080/"
        },
        "outputId": "ccc1fb47-be85-4eb1-c4e9-253a26319bd8"
      },
      "execution_count": null,
      "outputs": [
        {
          "output_type": "execute_result",
          "data": {
            "text/plain": [
              "(85611, 5)"
            ]
          },
          "metadata": {},
          "execution_count": 9
        }
      ]
    },
    {
      "cell_type": "code",
      "source": [
        "comments.head()"
      ],
      "metadata": {
        "id": "y1st_2TrICEz",
        "colab": {
          "base_uri": "https://localhost:8080/",
          "height": 1000
        },
        "outputId": "9415c678-e57c-4e3c-a699-3a6207c163f8"
      },
      "execution_count": null,
      "outputs": [
        {
          "output_type": "execute_result",
          "data": {
            "text/html": [
              "\n",
              "  <div id=\"df-0c121dc4-2661-40b0-b710-8f63afccc338\">\n",
              "    <div class=\"colab-df-container\">\n",
              "      <div>\n",
              "<style scoped>\n",
              "    .dataframe tbody tr th:only-of-type {\n",
              "        vertical-align: middle;\n",
              "    }\n",
              "\n",
              "    .dataframe tbody tr th {\n",
              "        vertical-align: top;\n",
              "    }\n",
              "\n",
              "    .dataframe thead th {\n",
              "        text-align: right;\n",
              "    }\n",
              "</style>\n",
              "<table border=\"1\" class=\"dataframe\">\n",
              "  <thead>\n",
              "    <tr style=\"text-align: right;\">\n",
              "      <th></th>\n",
              "      <th>post_id</th>\n",
              "      <th>body</th>\n",
              "      <th>score</th>\n",
              "    </tr>\n",
              "  </thead>\n",
              "  <tbody>\n",
              "    <tr>\n",
              "      <th>0</th>\n",
              "      <td>swijxe</td>\n",
              "      <td>Thank you for for sharing. A reminder: if you are seeking resources in your local area, please provide that in the post so that users can share appropriate links and phone numbers. *If you are in ...</td>\n",
              "      <td>1</td>\n",
              "    </tr>\n",
              "    <tr>\n",
              "      <th>1</th>\n",
              "      <td>swb9aj</td>\n",
              "      <td>Thank you for for sharing. A reminder: if you are seeking resources in your local area, please provide that in the post so that users can share appropriate links and phone numbers. *If you are in ...</td>\n",
              "      <td>1</td>\n",
              "    </tr>\n",
              "    <tr>\n",
              "      <th>2</th>\n",
              "      <td>swb9aj</td>\n",
              "      <td>I’m sorry you’re dealing with this. I’m actually going through it as well. It’s that I’m getting old and everyone still compliments me on my appearance, but idk who the heck I’m looking at. I get ...</td>\n",
              "      <td>7</td>\n",
              "    </tr>\n",
              "    <tr>\n",
              "      <th>3</th>\n",
              "      <td>swb9aj</td>\n",
              "      <td>I would seriously consider the possibility that you're depressed. Looking at things through depression glasses, everything looks worse - including what we see in the mirror.\\r  \\n\\r  \\nScreening t...</td>\n",
              "      <td>3</td>\n",
              "    </tr>\n",
              "    <tr>\n",
              "      <th>4</th>\n",
              "      <td>swb9aj</td>\n",
              "      <td>Same, I’ve been ugly all my life and first realized it when I was like 8 or 9</td>\n",
              "      <td>2</td>\n",
              "    </tr>\n",
              "  </tbody>\n",
              "</table>\n",
              "</div>\n",
              "      <button class=\"colab-df-convert\" onclick=\"convertToInteractive('df-0c121dc4-2661-40b0-b710-8f63afccc338')\"\n",
              "              title=\"Convert this dataframe to an interactive table.\"\n",
              "              style=\"display:none;\">\n",
              "        \n",
              "  <svg xmlns=\"http://www.w3.org/2000/svg\" height=\"24px\"viewBox=\"0 0 24 24\"\n",
              "       width=\"24px\">\n",
              "    <path d=\"M0 0h24v24H0V0z\" fill=\"none\"/>\n",
              "    <path d=\"M18.56 5.44l.94 2.06.94-2.06 2.06-.94-2.06-.94-.94-2.06-.94 2.06-2.06.94zm-11 1L8.5 8.5l.94-2.06 2.06-.94-2.06-.94L8.5 2.5l-.94 2.06-2.06.94zm10 10l.94 2.06.94-2.06 2.06-.94-2.06-.94-.94-2.06-.94 2.06-2.06.94z\"/><path d=\"M17.41 7.96l-1.37-1.37c-.4-.4-.92-.59-1.43-.59-.52 0-1.04.2-1.43.59L10.3 9.45l-7.72 7.72c-.78.78-.78 2.05 0 2.83L4 21.41c.39.39.9.59 1.41.59.51 0 1.02-.2 1.41-.59l7.78-7.78 2.81-2.81c.8-.78.8-2.07 0-2.86zM5.41 20L4 18.59l7.72-7.72 1.47 1.35L5.41 20z\"/>\n",
              "  </svg>\n",
              "      </button>\n",
              "      \n",
              "  <style>\n",
              "    .colab-df-container {\n",
              "      display:flex;\n",
              "      flex-wrap:wrap;\n",
              "      gap: 12px;\n",
              "    }\n",
              "\n",
              "    .colab-df-convert {\n",
              "      background-color: #E8F0FE;\n",
              "      border: none;\n",
              "      border-radius: 50%;\n",
              "      cursor: pointer;\n",
              "      display: none;\n",
              "      fill: #1967D2;\n",
              "      height: 32px;\n",
              "      padding: 0 0 0 0;\n",
              "      width: 32px;\n",
              "    }\n",
              "\n",
              "    .colab-df-convert:hover {\n",
              "      background-color: #E2EBFA;\n",
              "      box-shadow: 0px 1px 2px rgba(60, 64, 67, 0.3), 0px 1px 3px 1px rgba(60, 64, 67, 0.15);\n",
              "      fill: #174EA6;\n",
              "    }\n",
              "\n",
              "    [theme=dark] .colab-df-convert {\n",
              "      background-color: #3B4455;\n",
              "      fill: #D2E3FC;\n",
              "    }\n",
              "\n",
              "    [theme=dark] .colab-df-convert:hover {\n",
              "      background-color: #434B5C;\n",
              "      box-shadow: 0px 1px 3px 1px rgba(0, 0, 0, 0.15);\n",
              "      filter: drop-shadow(0px 1px 2px rgba(0, 0, 0, 0.3));\n",
              "      fill: #FFFFFF;\n",
              "    }\n",
              "  </style>\n",
              "\n",
              "      <script>\n",
              "        const buttonEl =\n",
              "          document.querySelector('#df-0c121dc4-2661-40b0-b710-8f63afccc338 button.colab-df-convert');\n",
              "        buttonEl.style.display =\n",
              "          google.colab.kernel.accessAllowed ? 'block' : 'none';\n",
              "\n",
              "        async function convertToInteractive(key) {\n",
              "          const element = document.querySelector('#df-0c121dc4-2661-40b0-b710-8f63afccc338');\n",
              "          const dataTable =\n",
              "            await google.colab.kernel.invokeFunction('convertToInteractive',\n",
              "                                                     [key], {});\n",
              "          if (!dataTable) return;\n",
              "\n",
              "          const docLinkHtml = 'Like what you see? Visit the ' +\n",
              "            '<a target=\"_blank\" href=https://colab.research.google.com/notebooks/data_table.ipynb>data table notebook</a>'\n",
              "            + ' to learn more about interactive tables.';\n",
              "          element.innerHTML = '';\n",
              "          dataTable['output_type'] = 'display_data';\n",
              "          await google.colab.output.renderOutput(dataTable, element);\n",
              "          const docLink = document.createElement('div');\n",
              "          docLink.innerHTML = docLinkHtml;\n",
              "          element.appendChild(docLink);\n",
              "        }\n",
              "      </script>\n",
              "    </div>\n",
              "  </div>\n",
              "  "
            ],
            "text/plain": [
              "  post_id  \\\n",
              "0  swijxe   \n",
              "1  swb9aj   \n",
              "2  swb9aj   \n",
              "3  swb9aj   \n",
              "4  swb9aj   \n",
              "\n",
              "                                                                                                                                                                                                      body  \\\n",
              "0  Thank you for for sharing. A reminder: if you are seeking resources in your local area, please provide that in the post so that users can share appropriate links and phone numbers. *If you are in ...   \n",
              "1  Thank you for for sharing. A reminder: if you are seeking resources in your local area, please provide that in the post so that users can share appropriate links and phone numbers. *If you are in ...   \n",
              "2  I’m sorry you’re dealing with this. I’m actually going through it as well. It’s that I’m getting old and everyone still compliments me on my appearance, but idk who the heck I’m looking at. I get ...   \n",
              "3  I would seriously consider the possibility that you're depressed. Looking at things through depression glasses, everything looks worse - including what we see in the mirror.\\r  \\n\\r  \\nScreening t...   \n",
              "4                                                                                                                            Same, I’ve been ugly all my life and first realized it when I was like 8 or 9   \n",
              "\n",
              "   score  \n",
              "0      1  \n",
              "1      1  \n",
              "2      7  \n",
              "3      3  \n",
              "4      2  "
            ]
          },
          "metadata": {},
          "execution_count": 10
        }
      ]
    },
    {
      "cell_type": "code",
      "source": [
        "comments2.head()"
      ],
      "metadata": {
        "id": "b8AaRklaEB99",
        "colab": {
          "base_uri": "https://localhost:8080/",
          "height": 1000
        },
        "outputId": "1917a2dc-9400-4037-ee46-cc550db5242d"
      },
      "execution_count": null,
      "outputs": [
        {
          "output_type": "execute_result",
          "data": {
            "text/html": [
              "\n",
              "  <div id=\"df-782c90d3-23fc-4065-a433-d558fe851d2b\">\n",
              "    <div class=\"colab-df-container\">\n",
              "      <div>\n",
              "<style scoped>\n",
              "    .dataframe tbody tr th:only-of-type {\n",
              "        vertical-align: middle;\n",
              "    }\n",
              "\n",
              "    .dataframe tbody tr th {\n",
              "        vertical-align: top;\n",
              "    }\n",
              "\n",
              "    .dataframe thead th {\n",
              "        text-align: right;\n",
              "    }\n",
              "</style>\n",
              "<table border=\"1\" class=\"dataframe\">\n",
              "  <thead>\n",
              "    <tr style=\"text-align: right;\">\n",
              "      <th></th>\n",
              "      <th>post_id</th>\n",
              "      <th>body</th>\n",
              "      <th>score</th>\n",
              "    </tr>\n",
              "  </thead>\n",
              "  <tbody>\n",
              "    <tr>\n",
              "      <th>0</th>\n",
              "      <td>sxw5ot</td>\n",
              "      <td>It's alright to feel how you feel, and if you don't want to do it then don't : it's her kink, not yours, after all.\\n\\nThat said, would you feel better about it if she gave you consent right befor...</td>\n",
              "      <td>1712</td>\n",
              "    </tr>\n",
              "    <tr>\n",
              "      <th>1</th>\n",
              "      <td>sxw5ot</td>\n",
              "      <td>SAFE WORD. \\n\\n\\nlook, if you establish a safe word then you can feel confident that whatever you're doing is good. Use a word that either of you can say when you're not happy or comfortable. You ...</td>\n",
              "      <td>190</td>\n",
              "    </tr>\n",
              "    <tr>\n",
              "      <th>2</th>\n",
              "      <td>sxw5ot</td>\n",
              "      <td>You're not weird for not being comfortable with this, she's not weird for enjoying it. Your comfort and consent matters here, too. You can see if you become more comfortable with it, or just decid...</td>\n",
              "      <td>231</td>\n",
              "    </tr>\n",
              "    <tr>\n",
              "      <th>3</th>\n",
              "      <td>sxw5ot</td>\n",
              "      <td>She gave you consent because she likes it this way and will tell you no if she does not approve.\\n\\nSeems legit.</td>\n",
              "      <td>53</td>\n",
              "    </tr>\n",
              "    <tr>\n",
              "      <th>4</th>\n",
              "      <td>sxw5ot</td>\n",
              "      <td>Me and my wife gave each other blanket consent. Works great. Also knowing that the partner can say \"not today\" and no hard feeling makes it work.</td>\n",
              "      <td>112</td>\n",
              "    </tr>\n",
              "  </tbody>\n",
              "</table>\n",
              "</div>\n",
              "      <button class=\"colab-df-convert\" onclick=\"convertToInteractive('df-782c90d3-23fc-4065-a433-d558fe851d2b')\"\n",
              "              title=\"Convert this dataframe to an interactive table.\"\n",
              "              style=\"display:none;\">\n",
              "        \n",
              "  <svg xmlns=\"http://www.w3.org/2000/svg\" height=\"24px\"viewBox=\"0 0 24 24\"\n",
              "       width=\"24px\">\n",
              "    <path d=\"M0 0h24v24H0V0z\" fill=\"none\"/>\n",
              "    <path d=\"M18.56 5.44l.94 2.06.94-2.06 2.06-.94-2.06-.94-.94-2.06-.94 2.06-2.06.94zm-11 1L8.5 8.5l.94-2.06 2.06-.94-2.06-.94L8.5 2.5l-.94 2.06-2.06.94zm10 10l.94 2.06.94-2.06 2.06-.94-2.06-.94-.94-2.06-.94 2.06-2.06.94z\"/><path d=\"M17.41 7.96l-1.37-1.37c-.4-.4-.92-.59-1.43-.59-.52 0-1.04.2-1.43.59L10.3 9.45l-7.72 7.72c-.78.78-.78 2.05 0 2.83L4 21.41c.39.39.9.59 1.41.59.51 0 1.02-.2 1.41-.59l7.78-7.78 2.81-2.81c.8-.78.8-2.07 0-2.86zM5.41 20L4 18.59l7.72-7.72 1.47 1.35L5.41 20z\"/>\n",
              "  </svg>\n",
              "      </button>\n",
              "      \n",
              "  <style>\n",
              "    .colab-df-container {\n",
              "      display:flex;\n",
              "      flex-wrap:wrap;\n",
              "      gap: 12px;\n",
              "    }\n",
              "\n",
              "    .colab-df-convert {\n",
              "      background-color: #E8F0FE;\n",
              "      border: none;\n",
              "      border-radius: 50%;\n",
              "      cursor: pointer;\n",
              "      display: none;\n",
              "      fill: #1967D2;\n",
              "      height: 32px;\n",
              "      padding: 0 0 0 0;\n",
              "      width: 32px;\n",
              "    }\n",
              "\n",
              "    .colab-df-convert:hover {\n",
              "      background-color: #E2EBFA;\n",
              "      box-shadow: 0px 1px 2px rgba(60, 64, 67, 0.3), 0px 1px 3px 1px rgba(60, 64, 67, 0.15);\n",
              "      fill: #174EA6;\n",
              "    }\n",
              "\n",
              "    [theme=dark] .colab-df-convert {\n",
              "      background-color: #3B4455;\n",
              "      fill: #D2E3FC;\n",
              "    }\n",
              "\n",
              "    [theme=dark] .colab-df-convert:hover {\n",
              "      background-color: #434B5C;\n",
              "      box-shadow: 0px 1px 3px 1px rgba(0, 0, 0, 0.15);\n",
              "      filter: drop-shadow(0px 1px 2px rgba(0, 0, 0, 0.3));\n",
              "      fill: #FFFFFF;\n",
              "    }\n",
              "  </style>\n",
              "\n",
              "      <script>\n",
              "        const buttonEl =\n",
              "          document.querySelector('#df-782c90d3-23fc-4065-a433-d558fe851d2b button.colab-df-convert');\n",
              "        buttonEl.style.display =\n",
              "          google.colab.kernel.accessAllowed ? 'block' : 'none';\n",
              "\n",
              "        async function convertToInteractive(key) {\n",
              "          const element = document.querySelector('#df-782c90d3-23fc-4065-a433-d558fe851d2b');\n",
              "          const dataTable =\n",
              "            await google.colab.kernel.invokeFunction('convertToInteractive',\n",
              "                                                     [key], {});\n",
              "          if (!dataTable) return;\n",
              "\n",
              "          const docLinkHtml = 'Like what you see? Visit the ' +\n",
              "            '<a target=\"_blank\" href=https://colab.research.google.com/notebooks/data_table.ipynb>data table notebook</a>'\n",
              "            + ' to learn more about interactive tables.';\n",
              "          element.innerHTML = '';\n",
              "          dataTable['output_type'] = 'display_data';\n",
              "          await google.colab.output.renderOutput(dataTable, element);\n",
              "          const docLink = document.createElement('div');\n",
              "          docLink.innerHTML = docLinkHtml;\n",
              "          element.appendChild(docLink);\n",
              "        }\n",
              "      </script>\n",
              "    </div>\n",
              "  </div>\n",
              "  "
            ],
            "text/plain": [
              "  post_id  \\\n",
              "0  sxw5ot   \n",
              "1  sxw5ot   \n",
              "2  sxw5ot   \n",
              "3  sxw5ot   \n",
              "4  sxw5ot   \n",
              "\n",
              "                                                                                                                                                                                                      body  \\\n",
              "0  It's alright to feel how you feel, and if you don't want to do it then don't : it's her kink, not yours, after all.\\n\\nThat said, would you feel better about it if she gave you consent right befor...   \n",
              "1  SAFE WORD. \\n\\n\\nlook, if you establish a safe word then you can feel confident that whatever you're doing is good. Use a word that either of you can say when you're not happy or comfortable. You ...   \n",
              "2  You're not weird for not being comfortable with this, she's not weird for enjoying it. Your comfort and consent matters here, too. You can see if you become more comfortable with it, or just decid...   \n",
              "3                                                                                         She gave you consent because she likes it this way and will tell you no if she does not approve.\\n\\nSeems legit.   \n",
              "4                                                        Me and my wife gave each other blanket consent. Works great. Also knowing that the partner can say \"not today\" and no hard feeling makes it work.   \n",
              "\n",
              "   score  \n",
              "0   1712  \n",
              "1    190  \n",
              "2    231  \n",
              "3     53  \n",
              "4    112  "
            ]
          },
          "metadata": {},
          "execution_count": 11
        }
      ]
    },
    {
      "cell_type": "code",
      "source": [
        "comments.shape"
      ],
      "metadata": {
        "id": "2sHDQBwQLgwB",
        "colab": {
          "base_uri": "https://localhost:8080/"
        },
        "outputId": "67948a08-9b32-4501-a2b4-2a9d83c28b4d"
      },
      "execution_count": null,
      "outputs": [
        {
          "output_type": "execute_result",
          "data": {
            "text/plain": [
              "(36281, 3)"
            ]
          },
          "metadata": {},
          "execution_count": 12
        }
      ]
    },
    {
      "cell_type": "code",
      "source": [
        "comments2.shape"
      ],
      "metadata": {
        "id": "wN87UZwtEDpc",
        "colab": {
          "base_uri": "https://localhost:8080/"
        },
        "outputId": "b2ae6fec-4f6b-49c9-914d-d498a44e0e55"
      },
      "execution_count": null,
      "outputs": [
        {
          "output_type": "execute_result",
          "data": {
            "text/plain": [
              "(8644, 3)"
            ]
          },
          "metadata": {},
          "execution_count": 13
        }
      ]
    },
    {
      "cell_type": "markdown",
      "source": [
        "**Drop Duplicates**"
      ],
      "metadata": {
        "id": "BRfXxYdwKrIA"
      }
    },
    {
      "cell_type": "code",
      "source": [
        "threads.drop_duplicates(subset='id', inplace=True)"
      ],
      "metadata": {
        "id": "8kbVv6rNK1Wr"
      },
      "execution_count": null,
      "outputs": []
    },
    {
      "cell_type": "code",
      "source": [
        "threads.shape"
      ],
      "metadata": {
        "id": "WryX_inzLlGd",
        "colab": {
          "base_uri": "https://localhost:8080/"
        },
        "outputId": "0588144b-990d-4c5a-e89e-cd678b9bd885"
      },
      "execution_count": null,
      "outputs": [
        {
          "output_type": "execute_result",
          "data": {
            "text/plain": [
              "(6980, 5)"
            ]
          },
          "metadata": {},
          "execution_count": 15
        }
      ]
    },
    {
      "cell_type": "code",
      "source": [
        "threads['subreddit'] = threads['subreddit'].apply(lambda sub: sub.lower())"
      ],
      "metadata": {
        "id": "KxEYX67TC3Og"
      },
      "execution_count": null,
      "outputs": []
    },
    {
      "cell_type": "markdown",
      "source": [
        "Merge two dataframes by `id`"
      ],
      "metadata": {
        "id": "OecuHbq3Hpfq"
      }
    },
    {
      "cell_type": "code",
      "source": [
        "comments_df = pd.concat([comments, comments2], ignore_index=True)\n",
        "comments_df.drop_duplicates(subset=['post_id', 'body', 'score'], inplace=True)\n",
        "posts_df = pd.merge(threads,\n",
        "                    comments_df,\n",
        "                    how='inner',\n",
        "                    left_on='id',\n",
        "                    right_on='post_id')"
      ],
      "metadata": {
        "id": "PodxRsQ9Hvst"
      },
      "execution_count": null,
      "outputs": []
    },
    {
      "cell_type": "code",
      "source": [
        "posts_df.info()"
      ],
      "metadata": {
        "id": "NfNl-wgkI96e",
        "colab": {
          "base_uri": "https://localhost:8080/"
        },
        "outputId": "e231de5d-971f-4c62-af27-d05ab6441f0c"
      },
      "execution_count": null,
      "outputs": [
        {
          "output_type": "stream",
          "name": "stdout",
          "text": [
            "<class 'pandas.core.frame.DataFrame'>\n",
            "Int64Index: 28920 entries, 0 to 28919\n",
            "Data columns (total 8 columns):\n",
            " #   Column     Non-Null Count  Dtype \n",
            "---  ------     --------------  ----- \n",
            " 0   id         28920 non-null  object\n",
            " 1   subreddit  28920 non-null  object\n",
            " 2   title      28920 non-null  object\n",
            " 3   selftext   28920 non-null  object\n",
            " 4   score_x    28920 non-null  int64 \n",
            " 5   post_id    28920 non-null  object\n",
            " 6   body       28920 non-null  object\n",
            " 7   score_y    28920 non-null  int64 \n",
            "dtypes: int64(2), object(6)\n",
            "memory usage: 2.0+ MB\n"
          ]
        }
      ]
    },
    {
      "cell_type": "code",
      "source": [
        "posts_df.rename(columns={'score_x': 'thread_score',\n",
        "                         'score_y': 'comment_score',\n",
        "                         'selftext': 'content',\n",
        "                         'body': 'comment'}, inplace=True)"
      ],
      "metadata": {
        "id": "ag9dhzVeJEop"
      },
      "execution_count": null,
      "outputs": []
    },
    {
      "cell_type": "code",
      "source": [
        "posts_df.info()"
      ],
      "metadata": {
        "id": "m3ORQO3FJV7C",
        "colab": {
          "base_uri": "https://localhost:8080/"
        },
        "outputId": "c9689f72-b8d8-48df-a467-4d513bbc73de"
      },
      "execution_count": null,
      "outputs": [
        {
          "output_type": "stream",
          "name": "stdout",
          "text": [
            "<class 'pandas.core.frame.DataFrame'>\n",
            "Int64Index: 28920 entries, 0 to 28919\n",
            "Data columns (total 8 columns):\n",
            " #   Column         Non-Null Count  Dtype \n",
            "---  ------         --------------  ----- \n",
            " 0   id             28920 non-null  object\n",
            " 1   subreddit      28920 non-null  object\n",
            " 2   title          28920 non-null  object\n",
            " 3   content        28920 non-null  object\n",
            " 4   thread_score   28920 non-null  int64 \n",
            " 5   post_id        28920 non-null  object\n",
            " 6   comment        28920 non-null  object\n",
            " 7   comment_score  28920 non-null  int64 \n",
            "dtypes: int64(2), object(6)\n",
            "memory usage: 2.0+ MB\n"
          ]
        }
      ]
    },
    {
      "cell_type": "code",
      "source": [
        "posts_df.describe()"
      ],
      "metadata": {
        "id": "UGttVVsDJXSO",
        "colab": {
          "base_uri": "https://localhost:8080/",
          "height": 364
        },
        "outputId": "36f25b74-7d9d-4793-cd85-9380cd85ca02"
      },
      "execution_count": null,
      "outputs": [
        {
          "output_type": "execute_result",
          "data": {
            "text/html": [
              "\n",
              "  <div id=\"df-6906fa4d-73b4-4ed9-b838-3524e0b1b504\">\n",
              "    <div class=\"colab-df-container\">\n",
              "      <div>\n",
              "<style scoped>\n",
              "    .dataframe tbody tr th:only-of-type {\n",
              "        vertical-align: middle;\n",
              "    }\n",
              "\n",
              "    .dataframe tbody tr th {\n",
              "        vertical-align: top;\n",
              "    }\n",
              "\n",
              "    .dataframe thead th {\n",
              "        text-align: right;\n",
              "    }\n",
              "</style>\n",
              "<table border=\"1\" class=\"dataframe\">\n",
              "  <thead>\n",
              "    <tr style=\"text-align: right;\">\n",
              "      <th></th>\n",
              "      <th>thread_score</th>\n",
              "      <th>comment_score</th>\n",
              "    </tr>\n",
              "  </thead>\n",
              "  <tbody>\n",
              "    <tr>\n",
              "      <th>count</th>\n",
              "      <td>28920.000000</td>\n",
              "      <td>28920.000000</td>\n",
              "    </tr>\n",
              "    <tr>\n",
              "      <th>mean</th>\n",
              "      <td>445.958852</td>\n",
              "      <td>7.241390</td>\n",
              "    </tr>\n",
              "    <tr>\n",
              "      <th>std</th>\n",
              "      <td>834.661729</td>\n",
              "      <td>55.168595</td>\n",
              "    </tr>\n",
              "    <tr>\n",
              "      <th>min</th>\n",
              "      <td>0.000000</td>\n",
              "      <td>-83.000000</td>\n",
              "    </tr>\n",
              "    <tr>\n",
              "      <th>25%</th>\n",
              "      <td>2.000000</td>\n",
              "      <td>1.000000</td>\n",
              "    </tr>\n",
              "    <tr>\n",
              "      <th>50%</th>\n",
              "      <td>23.000000</td>\n",
              "      <td>1.000000</td>\n",
              "    </tr>\n",
              "    <tr>\n",
              "      <th>75%</th>\n",
              "      <td>443.000000</td>\n",
              "      <td>3.000000</td>\n",
              "    </tr>\n",
              "    <tr>\n",
              "      <th>max</th>\n",
              "      <td>5417.000000</td>\n",
              "      <td>3768.000000</td>\n",
              "    </tr>\n",
              "  </tbody>\n",
              "</table>\n",
              "</div>\n",
              "      <button class=\"colab-df-convert\" onclick=\"convertToInteractive('df-6906fa4d-73b4-4ed9-b838-3524e0b1b504')\"\n",
              "              title=\"Convert this dataframe to an interactive table.\"\n",
              "              style=\"display:none;\">\n",
              "        \n",
              "  <svg xmlns=\"http://www.w3.org/2000/svg\" height=\"24px\"viewBox=\"0 0 24 24\"\n",
              "       width=\"24px\">\n",
              "    <path d=\"M0 0h24v24H0V0z\" fill=\"none\"/>\n",
              "    <path d=\"M18.56 5.44l.94 2.06.94-2.06 2.06-.94-2.06-.94-.94-2.06-.94 2.06-2.06.94zm-11 1L8.5 8.5l.94-2.06 2.06-.94-2.06-.94L8.5 2.5l-.94 2.06-2.06.94zm10 10l.94 2.06.94-2.06 2.06-.94-2.06-.94-.94-2.06-.94 2.06-2.06.94z\"/><path d=\"M17.41 7.96l-1.37-1.37c-.4-.4-.92-.59-1.43-.59-.52 0-1.04.2-1.43.59L10.3 9.45l-7.72 7.72c-.78.78-.78 2.05 0 2.83L4 21.41c.39.39.9.59 1.41.59.51 0 1.02-.2 1.41-.59l7.78-7.78 2.81-2.81c.8-.78.8-2.07 0-2.86zM5.41 20L4 18.59l7.72-7.72 1.47 1.35L5.41 20z\"/>\n",
              "  </svg>\n",
              "      </button>\n",
              "      \n",
              "  <style>\n",
              "    .colab-df-container {\n",
              "      display:flex;\n",
              "      flex-wrap:wrap;\n",
              "      gap: 12px;\n",
              "    }\n",
              "\n",
              "    .colab-df-convert {\n",
              "      background-color: #E8F0FE;\n",
              "      border: none;\n",
              "      border-radius: 50%;\n",
              "      cursor: pointer;\n",
              "      display: none;\n",
              "      fill: #1967D2;\n",
              "      height: 32px;\n",
              "      padding: 0 0 0 0;\n",
              "      width: 32px;\n",
              "    }\n",
              "\n",
              "    .colab-df-convert:hover {\n",
              "      background-color: #E2EBFA;\n",
              "      box-shadow: 0px 1px 2px rgba(60, 64, 67, 0.3), 0px 1px 3px 1px rgba(60, 64, 67, 0.15);\n",
              "      fill: #174EA6;\n",
              "    }\n",
              "\n",
              "    [theme=dark] .colab-df-convert {\n",
              "      background-color: #3B4455;\n",
              "      fill: #D2E3FC;\n",
              "    }\n",
              "\n",
              "    [theme=dark] .colab-df-convert:hover {\n",
              "      background-color: #434B5C;\n",
              "      box-shadow: 0px 1px 3px 1px rgba(0, 0, 0, 0.15);\n",
              "      filter: drop-shadow(0px 1px 2px rgba(0, 0, 0, 0.3));\n",
              "      fill: #FFFFFF;\n",
              "    }\n",
              "  </style>\n",
              "\n",
              "      <script>\n",
              "        const buttonEl =\n",
              "          document.querySelector('#df-6906fa4d-73b4-4ed9-b838-3524e0b1b504 button.colab-df-convert');\n",
              "        buttonEl.style.display =\n",
              "          google.colab.kernel.accessAllowed ? 'block' : 'none';\n",
              "\n",
              "        async function convertToInteractive(key) {\n",
              "          const element = document.querySelector('#df-6906fa4d-73b4-4ed9-b838-3524e0b1b504');\n",
              "          const dataTable =\n",
              "            await google.colab.kernel.invokeFunction('convertToInteractive',\n",
              "                                                     [key], {});\n",
              "          if (!dataTable) return;\n",
              "\n",
              "          const docLinkHtml = 'Like what you see? Visit the ' +\n",
              "            '<a target=\"_blank\" href=https://colab.research.google.com/notebooks/data_table.ipynb>data table notebook</a>'\n",
              "            + ' to learn more about interactive tables.';\n",
              "          element.innerHTML = '';\n",
              "          dataTable['output_type'] = 'display_data';\n",
              "          await google.colab.output.renderOutput(dataTable, element);\n",
              "          const docLink = document.createElement('div');\n",
              "          docLink.innerHTML = docLinkHtml;\n",
              "          element.appendChild(docLink);\n",
              "        }\n",
              "      </script>\n",
              "    </div>\n",
              "  </div>\n",
              "  "
            ],
            "text/plain": [
              "       thread_score  comment_score\n",
              "count  28920.000000   28920.000000\n",
              "mean     445.958852       7.241390\n",
              "std      834.661729      55.168595\n",
              "min        0.000000     -83.000000\n",
              "25%        2.000000       1.000000\n",
              "50%       23.000000       1.000000\n",
              "75%      443.000000       3.000000\n",
              "max     5417.000000    3768.000000"
            ]
          },
          "metadata": {},
          "execution_count": 21
        }
      ]
    },
    {
      "cell_type": "code",
      "source": [
        "posts_df.drop(columns='post_id', inplace=True)"
      ],
      "metadata": {
        "id": "gu_PjZ7aJegb"
      },
      "execution_count": null,
      "outputs": []
    },
    {
      "cell_type": "markdown",
      "source": [
        "**Final output**"
      ],
      "metadata": {
        "id": "Ld7uXWuAJkQs"
      }
    },
    {
      "cell_type": "code",
      "source": [
        "posts_df.head(20)"
      ],
      "metadata": {
        "id": "DbVW2jyFJm0w",
        "colab": {
          "base_uri": "https://localhost:8080/",
          "height": 1000
        },
        "outputId": "864f75c8-2cfd-435b-c82e-1f6004c8abe0"
      },
      "execution_count": null,
      "outputs": [
        {
          "output_type": "execute_result",
          "data": {
            "text/html": [
              "\n",
              "  <div id=\"df-d82f379e-e3da-4504-822b-61a381e77f94\">\n",
              "    <div class=\"colab-df-container\">\n",
              "      <div>\n",
              "<style scoped>\n",
              "    .dataframe tbody tr th:only-of-type {\n",
              "        vertical-align: middle;\n",
              "    }\n",
              "\n",
              "    .dataframe tbody tr th {\n",
              "        vertical-align: top;\n",
              "    }\n",
              "\n",
              "    .dataframe thead th {\n",
              "        text-align: right;\n",
              "    }\n",
              "</style>\n",
              "<table border=\"1\" class=\"dataframe\">\n",
              "  <thead>\n",
              "    <tr style=\"text-align: right;\">\n",
              "      <th></th>\n",
              "      <th>id</th>\n",
              "      <th>subreddit</th>\n",
              "      <th>title</th>\n",
              "      <th>content</th>\n",
              "      <th>thread_score</th>\n",
              "      <th>comment</th>\n",
              "      <th>comment_score</th>\n",
              "    </tr>\n",
              "  </thead>\n",
              "  <tbody>\n",
              "    <tr>\n",
              "      <th>0</th>\n",
              "      <td>swijxe</td>\n",
              "      <td>mentalhealth</td>\n",
              "      <td>Once again...Schizophrenia Episodes Caught On Camera</td>\n",
              "      <td>I'm Michelle Hammer and I have Schizophrenia. I set up a security camera to record myself having schizophrenia psychosis episodes. In this video, I show 3 different episodes I had while sitting on...</td>\n",
              "      <td>1</td>\n",
              "      <td>Thank you for for sharing. A reminder: if you are seeking resources in your local area, please provide that in the post so that users can share appropriate links and phone numbers. *If you are in ...</td>\n",
              "      <td>1</td>\n",
              "    </tr>\n",
              "    <tr>\n",
              "      <th>1</th>\n",
              "      <td>swifud</td>\n",
              "      <td>mentalhealth</td>\n",
              "      <td>why does everything stress me out</td>\n",
              "      <td>literally nothing like deciding to hang out with my friend later will repeat in my head until i go insane. maybe even like getting one question wrong on a test will stay with me for hours on end. ...</td>\n",
              "      <td>1</td>\n",
              "      <td>Thank you for for sharing. A reminder: if you are seeking resources in your local area, please provide that in the post so that users can share appropriate links and phone numbers. *If you are in ...</td>\n",
              "      <td>1</td>\n",
              "    </tr>\n",
              "    <tr>\n",
              "      <th>2</th>\n",
              "      <td>swiepa</td>\n",
              "      <td>mentalhealth</td>\n",
              "      <td>I’ve got appointment with the early invention team this coming Monday</td>\n",
              "      <td>I’m wondering if I should write stuff down as been trying to get help for years now and don’t what to forget anything the other half of me is worried that if I do that they will think I’m exaggera...</td>\n",
              "      <td>1</td>\n",
              "      <td>Thank you for for sharing. A reminder: if you are seeking resources in your local area, please provide that in the post so that users can share appropriate links and phone numbers. *If you are in ...</td>\n",
              "      <td>1</td>\n",
              "    </tr>\n",
              "    <tr>\n",
              "      <th>3</th>\n",
              "      <td>swicrr</td>\n",
              "      <td>mentalhealth</td>\n",
              "      <td>Is there something wrong with me?</td>\n",
              "      <td>I'm a junior in high school and I haven't made one new friend in my entire time here. No one's ever approached me and tried to talk to me unless they were just asking a work related question. I've...</td>\n",
              "      <td>2</td>\n",
              "      <td>Thank you for for sharing. A reminder: if you are seeking resources in your local area, please provide that in the post so that users can share appropriate links and phone numbers. *If you are in ...</td>\n",
              "      <td>1</td>\n",
              "    </tr>\n",
              "    <tr>\n",
              "      <th>4</th>\n",
              "      <td>swicrr</td>\n",
              "      <td>mentalhealth</td>\n",
              "      <td>Is there something wrong with me?</td>\n",
              "      <td>I'm a junior in high school and I haven't made one new friend in my entire time here. No one's ever approached me and tried to talk to me unless they were just asking a work related question. I've...</td>\n",
              "      <td>2</td>\n",
              "      <td>i don’t think there’s anything wrong with you.\\nhighschool is brutal.\\nthat’s the just of it, highschool sucks.\\nif you don’t have any friends heading into highschool, you will have a difficult ti...</td>\n",
              "      <td>2</td>\n",
              "    </tr>\n",
              "    <tr>\n",
              "      <th>5</th>\n",
              "      <td>swibnm</td>\n",
              "      <td>mentalhealth</td>\n",
              "      <td>CURRENTLY IN A WARD AND NEED AN OPINUON</td>\n",
              "      <td>So for years now I've struggled with depression and the thinking of the past I haven't been truly happy in years and I've smoked a ridiculous amount of weed to try fix it now when I do it means no...</td>\n",
              "      <td>2</td>\n",
              "      <td>Thank you for for sharing. A reminder: if you are seeking resources in your local area, please provide that in the post so that users can share appropriate links and phone numbers. *If you are in ...</td>\n",
              "      <td>1</td>\n",
              "    </tr>\n",
              "    <tr>\n",
              "      <th>6</th>\n",
              "      <td>swiavx</td>\n",
              "      <td>mentalhealth</td>\n",
              "      <td>Do you ever wish to never wake up from your night?</td>\n",
              "      <td>I fall asleeping crying becaise i’m begging never to wake up. It’s not that i want to die, it’s that i wished  i never existed. This idea gives me So much peace.</td>\n",
              "      <td>272</td>\n",
              "      <td>Thank you for for sharing. A reminder: if you are seeking resources in your local area, please provide that in the post so that users can share appropriate links and phone numbers. *If you are in ...</td>\n",
              "      <td>1</td>\n",
              "    </tr>\n",
              "    <tr>\n",
              "      <th>7</th>\n",
              "      <td>swiavx</td>\n",
              "      <td>mentalhealth</td>\n",
              "      <td>Do you ever wish to never wake up from your night?</td>\n",
              "      <td>I fall asleeping crying becaise i’m begging never to wake up. It’s not that i want to die, it’s that i wished  i never existed. This idea gives me So much peace.</td>\n",
              "      <td>272</td>\n",
              "      <td>Yes. I overslept this morning because of this feeling. I don't want to leave the comfort of unconscious being.</td>\n",
              "      <td>1</td>\n",
              "    </tr>\n",
              "    <tr>\n",
              "      <th>8</th>\n",
              "      <td>swi6qs</td>\n",
              "      <td>mentalhealth</td>\n",
              "      <td>I've been remembering a time I refused to take my anger out because it was a nice house.</td>\n",
              "      <td>Within the last decade, I had tough summers. One of them was filled with almost every struggle; family fights, potential legal battles, heavy restrictions on technology, being switched institution...</td>\n",
              "      <td>1</td>\n",
              "      <td>Thank you for for sharing. A reminder: if you are seeking resources in your local area, please provide that in the post so that users can share appropriate links and phone numbers. *If you are in ...</td>\n",
              "      <td>1</td>\n",
              "    </tr>\n",
              "    <tr>\n",
              "      <th>9</th>\n",
              "      <td>swi237</td>\n",
              "      <td>mentalhealth</td>\n",
              "      <td>I think i am going to kill myself (serious)</td>\n",
              "      <td>I was born in a family in eastern europe. My father used to drink a lot and come home drunk in the middle of the night and wake me and my siblings up by vomiting his guts out in the toilet. If he ...</td>\n",
              "      <td>1</td>\n",
              "      <td>Thank you for for sharing. A reminder: if you are seeking resources in your local area, please provide that in the post so that users can share appropriate links and phone numbers. *If you are in ...</td>\n",
              "      <td>1</td>\n",
              "    </tr>\n",
              "    <tr>\n",
              "      <th>10</th>\n",
              "      <td>swi237</td>\n",
              "      <td>mentalhealth</td>\n",
              "      <td>I think i am going to kill myself (serious)</td>\n",
              "      <td>I was born in a family in eastern europe. My father used to drink a lot and come home drunk in the middle of the night and wake me and my siblings up by vomiting his guts out in the toilet. If he ...</td>\n",
              "      <td>1</td>\n",
              "      <td>I'm not smart enough to explain why you shouldn't kill yourself, but please don't. Your siblings and mother don't want you to die, and I don't want you to die either. I am praying for you.</td>\n",
              "      <td>1</td>\n",
              "    </tr>\n",
              "    <tr>\n",
              "      <th>11</th>\n",
              "      <td>swi237</td>\n",
              "      <td>mentalhealth</td>\n",
              "      <td>I think i am going to kill myself (serious)</td>\n",
              "      <td>I was born in a family in eastern europe. My father used to drink a lot and come home drunk in the middle of the night and wake me and my siblings up by vomiting his guts out in the toilet. If he ...</td>\n",
              "      <td>1</td>\n",
              "      <td>Please hang in there :(</td>\n",
              "      <td>1</td>\n",
              "    </tr>\n",
              "    <tr>\n",
              "      <th>12</th>\n",
              "      <td>swi237</td>\n",
              "      <td>mentalhealth</td>\n",
              "      <td>I think i am going to kill myself (serious)</td>\n",
              "      <td>I was born in a family in eastern europe. My father used to drink a lot and come home drunk in the middle of the night and wake me and my siblings up by vomiting his guts out in the toilet. If he ...</td>\n",
              "      <td>1</td>\n",
              "      <td>First of all, I am so incredibly sorry you are going through this and so incredibly proud that you have made it through so far. Are there any charities or authorities that you could report your fa...</td>\n",
              "      <td>1</td>\n",
              "    </tr>\n",
              "    <tr>\n",
              "      <th>13</th>\n",
              "      <td>swhu1e</td>\n",
              "      <td>mentalhealth</td>\n",
              "      <td>Need help</td>\n",
              "      <td>Hi guys reaching out because I need help. I'm currently dealing with suicidal thoughts and extreme anxiety and depression I can't afford therapy and I don't know what to do. I'm scared of being al...</td>\n",
              "      <td>1</td>\n",
              "      <td>Thank you for for sharing. A reminder: if you are seeking resources in your local area, please provide that in the post so that users can share appropriate links and phone numbers. *If you are in ...</td>\n",
              "      <td>1</td>\n",
              "    </tr>\n",
              "    <tr>\n",
              "      <th>14</th>\n",
              "      <td>swhu1e</td>\n",
              "      <td>mentalhealth</td>\n",
              "      <td>Need help</td>\n",
              "      <td>Hi guys reaching out because I need help. I'm currently dealing with suicidal thoughts and extreme anxiety and depression I can't afford therapy and I don't know what to do. I'm scared of being al...</td>\n",
              "      <td>1</td>\n",
              "      <td>I'm here man, I'm in a bad spot right now as well. Just think that this feeling is only temporary.</td>\n",
              "      <td>1</td>\n",
              "    </tr>\n",
              "    <tr>\n",
              "      <th>15</th>\n",
              "      <td>swhpw3</td>\n",
              "      <td>mentalhealth</td>\n",
              "      <td>Is this normal or concerned?</td>\n",
              "      <td>This has happened maybe like 3-4 times already, like every 2-3 months or so. \\n\\nI wake up in the middle of the night or really early in the morning by my alarm and then suddenly i literally cant ...</td>\n",
              "      <td>1</td>\n",
              "      <td>Thank you for for sharing. A reminder: if you are seeking resources in your local area, please provide that in the post so that users can share appropriate links and phone numbers. *If you are in ...</td>\n",
              "      <td>1</td>\n",
              "    </tr>\n",
              "    <tr>\n",
              "      <th>16</th>\n",
              "      <td>swhpw3</td>\n",
              "      <td>mentalhealth</td>\n",
              "      <td>Is this normal or concerned?</td>\n",
              "      <td>This has happened maybe like 3-4 times already, like every 2-3 months or so. \\n\\nI wake up in the middle of the night or really early in the morning by my alarm and then suddenly i literally cant ...</td>\n",
              "      <td>1</td>\n",
              "      <td>I personally haven't experienced it and it may not be 'common' enough or pathological enough to be classified as a physical health or mental health problem. But trying to breath and fall back asle...</td>\n",
              "      <td>1</td>\n",
              "    </tr>\n",
              "    <tr>\n",
              "      <th>17</th>\n",
              "      <td>swhn6v</td>\n",
              "      <td>mentalhealth</td>\n",
              "      <td>ANY OPINION PLS ON WAY TO DOCTOR</td>\n",
              "      <td>So for years now I've struggled with depression and the thinking of the past I haven't been truly happy in years and I've smoked a ridiculous amount of weed to try fix it now when I do it means no...</td>\n",
              "      <td>2</td>\n",
              "      <td>Thank you for for sharing. A reminder: if you are seeking resources in your local area, please provide that in the post so that users can share appropriate links and phone numbers. *If you are in ...</td>\n",
              "      <td>1</td>\n",
              "    </tr>\n",
              "    <tr>\n",
              "      <th>18</th>\n",
              "      <td>swhh7l</td>\n",
              "      <td>mentalhealth</td>\n",
              "      <td>Feeling detached, spacey, and numb—any suggestions?</td>\n",
              "      <td>Hi all! I’ve been struggling with anxiety and depression for as long as I can remember, and despite countless therapy sessions, meditation, diet changes, and supplements, I am still feeling off.\\n...</td>\n",
              "      <td>1</td>\n",
              "      <td>Thank you for for sharing. A reminder: if you are seeking resources in your local area, please provide that in the post so that users can share appropriate links and phone numbers. *If you are in ...</td>\n",
              "      <td>1</td>\n",
              "    </tr>\n",
              "    <tr>\n",
              "      <th>19</th>\n",
              "      <td>swhh6m</td>\n",
              "      <td>mentalhealth</td>\n",
              "      <td>Is it normal to hate school and studying so much to the point I become sucidal and depressed while studying</td>\n",
              "      <td>Specifically studying certain subjects I just can't stay in a neutral mood or just slightly sad mood I just get sucidal and depressed is this normal a</td>\n",
              "      <td>1</td>\n",
              "      <td>Thank you for for sharing. A reminder: if you are seeking resources in your local area, please provide that in the post so that users can share appropriate links and phone numbers. *If you are in ...</td>\n",
              "      <td>1</td>\n",
              "    </tr>\n",
              "  </tbody>\n",
              "</table>\n",
              "</div>\n",
              "      <button class=\"colab-df-convert\" onclick=\"convertToInteractive('df-d82f379e-e3da-4504-822b-61a381e77f94')\"\n",
              "              title=\"Convert this dataframe to an interactive table.\"\n",
              "              style=\"display:none;\">\n",
              "        \n",
              "  <svg xmlns=\"http://www.w3.org/2000/svg\" height=\"24px\"viewBox=\"0 0 24 24\"\n",
              "       width=\"24px\">\n",
              "    <path d=\"M0 0h24v24H0V0z\" fill=\"none\"/>\n",
              "    <path d=\"M18.56 5.44l.94 2.06.94-2.06 2.06-.94-2.06-.94-.94-2.06-.94 2.06-2.06.94zm-11 1L8.5 8.5l.94-2.06 2.06-.94-2.06-.94L8.5 2.5l-.94 2.06-2.06.94zm10 10l.94 2.06.94-2.06 2.06-.94-2.06-.94-.94-2.06-.94 2.06-2.06.94z\"/><path d=\"M17.41 7.96l-1.37-1.37c-.4-.4-.92-.59-1.43-.59-.52 0-1.04.2-1.43.59L10.3 9.45l-7.72 7.72c-.78.78-.78 2.05 0 2.83L4 21.41c.39.39.9.59 1.41.59.51 0 1.02-.2 1.41-.59l7.78-7.78 2.81-2.81c.8-.78.8-2.07 0-2.86zM5.41 20L4 18.59l7.72-7.72 1.47 1.35L5.41 20z\"/>\n",
              "  </svg>\n",
              "      </button>\n",
              "      \n",
              "  <style>\n",
              "    .colab-df-container {\n",
              "      display:flex;\n",
              "      flex-wrap:wrap;\n",
              "      gap: 12px;\n",
              "    }\n",
              "\n",
              "    .colab-df-convert {\n",
              "      background-color: #E8F0FE;\n",
              "      border: none;\n",
              "      border-radius: 50%;\n",
              "      cursor: pointer;\n",
              "      display: none;\n",
              "      fill: #1967D2;\n",
              "      height: 32px;\n",
              "      padding: 0 0 0 0;\n",
              "      width: 32px;\n",
              "    }\n",
              "\n",
              "    .colab-df-convert:hover {\n",
              "      background-color: #E2EBFA;\n",
              "      box-shadow: 0px 1px 2px rgba(60, 64, 67, 0.3), 0px 1px 3px 1px rgba(60, 64, 67, 0.15);\n",
              "      fill: #174EA6;\n",
              "    }\n",
              "\n",
              "    [theme=dark] .colab-df-convert {\n",
              "      background-color: #3B4455;\n",
              "      fill: #D2E3FC;\n",
              "    }\n",
              "\n",
              "    [theme=dark] .colab-df-convert:hover {\n",
              "      background-color: #434B5C;\n",
              "      box-shadow: 0px 1px 3px 1px rgba(0, 0, 0, 0.15);\n",
              "      filter: drop-shadow(0px 1px 2px rgba(0, 0, 0, 0.3));\n",
              "      fill: #FFFFFF;\n",
              "    }\n",
              "  </style>\n",
              "\n",
              "      <script>\n",
              "        const buttonEl =\n",
              "          document.querySelector('#df-d82f379e-e3da-4504-822b-61a381e77f94 button.colab-df-convert');\n",
              "        buttonEl.style.display =\n",
              "          google.colab.kernel.accessAllowed ? 'block' : 'none';\n",
              "\n",
              "        async function convertToInteractive(key) {\n",
              "          const element = document.querySelector('#df-d82f379e-e3da-4504-822b-61a381e77f94');\n",
              "          const dataTable =\n",
              "            await google.colab.kernel.invokeFunction('convertToInteractive',\n",
              "                                                     [key], {});\n",
              "          if (!dataTable) return;\n",
              "\n",
              "          const docLinkHtml = 'Like what you see? Visit the ' +\n",
              "            '<a target=\"_blank\" href=https://colab.research.google.com/notebooks/data_table.ipynb>data table notebook</a>'\n",
              "            + ' to learn more about interactive tables.';\n",
              "          element.innerHTML = '';\n",
              "          dataTable['output_type'] = 'display_data';\n",
              "          await google.colab.output.renderOutput(dataTable, element);\n",
              "          const docLink = document.createElement('div');\n",
              "          docLink.innerHTML = docLinkHtml;\n",
              "          element.appendChild(docLink);\n",
              "        }\n",
              "      </script>\n",
              "    </div>\n",
              "  </div>\n",
              "  "
            ],
            "text/plain": [
              "        id     subreddit  \\\n",
              "0   swijxe  mentalhealth   \n",
              "1   swifud  mentalhealth   \n",
              "2   swiepa  mentalhealth   \n",
              "3   swicrr  mentalhealth   \n",
              "4   swicrr  mentalhealth   \n",
              "5   swibnm  mentalhealth   \n",
              "6   swiavx  mentalhealth   \n",
              "7   swiavx  mentalhealth   \n",
              "8   swi6qs  mentalhealth   \n",
              "9   swi237  mentalhealth   \n",
              "10  swi237  mentalhealth   \n",
              "11  swi237  mentalhealth   \n",
              "12  swi237  mentalhealth   \n",
              "13  swhu1e  mentalhealth   \n",
              "14  swhu1e  mentalhealth   \n",
              "15  swhpw3  mentalhealth   \n",
              "16  swhpw3  mentalhealth   \n",
              "17  swhn6v  mentalhealth   \n",
              "18  swhh7l  mentalhealth   \n",
              "19  swhh6m  mentalhealth   \n",
              "\n",
              "                                                                                                          title  \\\n",
              "0                                                          Once again...Schizophrenia Episodes Caught On Camera   \n",
              "1                                                                             why does everything stress me out   \n",
              "2                                         I’ve got appointment with the early invention team this coming Monday   \n",
              "3                                                                             Is there something wrong with me?   \n",
              "4                                                                             Is there something wrong with me?   \n",
              "5                                                                       CURRENTLY IN A WARD AND NEED AN OPINUON   \n",
              "6                                                            Do you ever wish to never wake up from your night?   \n",
              "7                                                            Do you ever wish to never wake up from your night?   \n",
              "8                      I've been remembering a time I refused to take my anger out because it was a nice house.   \n",
              "9                                                                   I think i am going to kill myself (serious)   \n",
              "10                                                                  I think i am going to kill myself (serious)   \n",
              "11                                                                  I think i am going to kill myself (serious)   \n",
              "12                                                                  I think i am going to kill myself (serious)   \n",
              "13                                                                                                    Need help   \n",
              "14                                                                                                    Need help   \n",
              "15                                                                                 Is this normal or concerned?   \n",
              "16                                                                                 Is this normal or concerned?   \n",
              "17                                                                             ANY OPINION PLS ON WAY TO DOCTOR   \n",
              "18                                                          Feeling detached, spacey, and numb—any suggestions?   \n",
              "19  Is it normal to hate school and studying so much to the point I become sucidal and depressed while studying   \n",
              "\n",
              "                                                                                                                                                                                                    content  \\\n",
              "0   I'm Michelle Hammer and I have Schizophrenia. I set up a security camera to record myself having schizophrenia psychosis episodes. In this video, I show 3 different episodes I had while sitting on...   \n",
              "1   literally nothing like deciding to hang out with my friend later will repeat in my head until i go insane. maybe even like getting one question wrong on a test will stay with me for hours on end. ...   \n",
              "2   I’m wondering if I should write stuff down as been trying to get help for years now and don’t what to forget anything the other half of me is worried that if I do that they will think I’m exaggera...   \n",
              "3   I'm a junior in high school and I haven't made one new friend in my entire time here. No one's ever approached me and tried to talk to me unless they were just asking a work related question. I've...   \n",
              "4   I'm a junior in high school and I haven't made one new friend in my entire time here. No one's ever approached me and tried to talk to me unless they were just asking a work related question. I've...   \n",
              "5   So for years now I've struggled with depression and the thinking of the past I haven't been truly happy in years and I've smoked a ridiculous amount of weed to try fix it now when I do it means no...   \n",
              "6                                         I fall asleeping crying becaise i’m begging never to wake up. It’s not that i want to die, it’s that i wished  i never existed. This idea gives me So much peace.   \n",
              "7                                         I fall asleeping crying becaise i’m begging never to wake up. It’s not that i want to die, it’s that i wished  i never existed. This idea gives me So much peace.   \n",
              "8   Within the last decade, I had tough summers. One of them was filled with almost every struggle; family fights, potential legal battles, heavy restrictions on technology, being switched institution...   \n",
              "9   I was born in a family in eastern europe. My father used to drink a lot and come home drunk in the middle of the night and wake me and my siblings up by vomiting his guts out in the toilet. If he ...   \n",
              "10  I was born in a family in eastern europe. My father used to drink a lot and come home drunk in the middle of the night and wake me and my siblings up by vomiting his guts out in the toilet. If he ...   \n",
              "11  I was born in a family in eastern europe. My father used to drink a lot and come home drunk in the middle of the night and wake me and my siblings up by vomiting his guts out in the toilet. If he ...   \n",
              "12  I was born in a family in eastern europe. My father used to drink a lot and come home drunk in the middle of the night and wake me and my siblings up by vomiting his guts out in the toilet. If he ...   \n",
              "13  Hi guys reaching out because I need help. I'm currently dealing with suicidal thoughts and extreme anxiety and depression I can't afford therapy and I don't know what to do. I'm scared of being al...   \n",
              "14  Hi guys reaching out because I need help. I'm currently dealing with suicidal thoughts and extreme anxiety and depression I can't afford therapy and I don't know what to do. I'm scared of being al...   \n",
              "15  This has happened maybe like 3-4 times already, like every 2-3 months or so. \\n\\nI wake up in the middle of the night or really early in the morning by my alarm and then suddenly i literally cant ...   \n",
              "16  This has happened maybe like 3-4 times already, like every 2-3 months or so. \\n\\nI wake up in the middle of the night or really early in the morning by my alarm and then suddenly i literally cant ...   \n",
              "17  So for years now I've struggled with depression and the thinking of the past I haven't been truly happy in years and I've smoked a ridiculous amount of weed to try fix it now when I do it means no...   \n",
              "18  Hi all! I’ve been struggling with anxiety and depression for as long as I can remember, and despite countless therapy sessions, meditation, diet changes, and supplements, I am still feeling off.\\n...   \n",
              "19                                                   Specifically studying certain subjects I just can't stay in a neutral mood or just slightly sad mood I just get sucidal and depressed is this normal a   \n",
              "\n",
              "    thread_score  \\\n",
              "0              1   \n",
              "1              1   \n",
              "2              1   \n",
              "3              2   \n",
              "4              2   \n",
              "5              2   \n",
              "6            272   \n",
              "7            272   \n",
              "8              1   \n",
              "9              1   \n",
              "10             1   \n",
              "11             1   \n",
              "12             1   \n",
              "13             1   \n",
              "14             1   \n",
              "15             1   \n",
              "16             1   \n",
              "17             2   \n",
              "18             1   \n",
              "19             1   \n",
              "\n",
              "                                                                                                                                                                                                    comment  \\\n",
              "0   Thank you for for sharing. A reminder: if you are seeking resources in your local area, please provide that in the post so that users can share appropriate links and phone numbers. *If you are in ...   \n",
              "1   Thank you for for sharing. A reminder: if you are seeking resources in your local area, please provide that in the post so that users can share appropriate links and phone numbers. *If you are in ...   \n",
              "2   Thank you for for sharing. A reminder: if you are seeking resources in your local area, please provide that in the post so that users can share appropriate links and phone numbers. *If you are in ...   \n",
              "3   Thank you for for sharing. A reminder: if you are seeking resources in your local area, please provide that in the post so that users can share appropriate links and phone numbers. *If you are in ...   \n",
              "4   i don’t think there’s anything wrong with you.\\nhighschool is brutal.\\nthat’s the just of it, highschool sucks.\\nif you don’t have any friends heading into highschool, you will have a difficult ti...   \n",
              "5   Thank you for for sharing. A reminder: if you are seeking resources in your local area, please provide that in the post so that users can share appropriate links and phone numbers. *If you are in ...   \n",
              "6   Thank you for for sharing. A reminder: if you are seeking resources in your local area, please provide that in the post so that users can share appropriate links and phone numbers. *If you are in ...   \n",
              "7                                                                                            Yes. I overslept this morning because of this feeling. I don't want to leave the comfort of unconscious being.   \n",
              "8   Thank you for for sharing. A reminder: if you are seeking resources in your local area, please provide that in the post so that users can share appropriate links and phone numbers. *If you are in ...   \n",
              "9   Thank you for for sharing. A reminder: if you are seeking resources in your local area, please provide that in the post so that users can share appropriate links and phone numbers. *If you are in ...   \n",
              "10             I'm not smart enough to explain why you shouldn't kill yourself, but please don't. Your siblings and mother don't want you to die, and I don't want you to die either. I am praying for you.   \n",
              "11                                                                                                                                                                                  Please hang in there :(   \n",
              "12  First of all, I am so incredibly sorry you are going through this and so incredibly proud that you have made it through so far. Are there any charities or authorities that you could report your fa...   \n",
              "13  Thank you for for sharing. A reminder: if you are seeking resources in your local area, please provide that in the post so that users can share appropriate links and phone numbers. *If you are in ...   \n",
              "14                                                                                                       I'm here man, I'm in a bad spot right now as well. Just think that this feeling is only temporary.   \n",
              "15  Thank you for for sharing. A reminder: if you are seeking resources in your local area, please provide that in the post so that users can share appropriate links and phone numbers. *If you are in ...   \n",
              "16  I personally haven't experienced it and it may not be 'common' enough or pathological enough to be classified as a physical health or mental health problem. But trying to breath and fall back asle...   \n",
              "17  Thank you for for sharing. A reminder: if you are seeking resources in your local area, please provide that in the post so that users can share appropriate links and phone numbers. *If you are in ...   \n",
              "18  Thank you for for sharing. A reminder: if you are seeking resources in your local area, please provide that in the post so that users can share appropriate links and phone numbers. *If you are in ...   \n",
              "19  Thank you for for sharing. A reminder: if you are seeking resources in your local area, please provide that in the post so that users can share appropriate links and phone numbers. *If you are in ...   \n",
              "\n",
              "    comment_score  \n",
              "0               1  \n",
              "1               1  \n",
              "2               1  \n",
              "3               1  \n",
              "4               2  \n",
              "5               1  \n",
              "6               1  \n",
              "7               1  \n",
              "8               1  \n",
              "9               1  \n",
              "10              1  \n",
              "11              1  \n",
              "12              1  \n",
              "13              1  \n",
              "14              1  \n",
              "15              1  \n",
              "16              1  \n",
              "17              1  \n",
              "18              1  \n",
              "19              1  "
            ]
          },
          "metadata": {},
          "execution_count": 23
        }
      ]
    },
    {
      "cell_type": "markdown",
      "source": [
        "## Data Analysis"
      ],
      "metadata": {
        "id": "gvQHgZtzMWcR"
      }
    },
    {
      "cell_type": "markdown",
      "source": [
        "Plot Number of words in `Title`, `content`, and `comment`. "
      ],
      "metadata": {
        "id": "e22MRpn_MdAQ"
      }
    },
    {
      "cell_type": "code",
      "source": [
        "LIST_OF_TOPICS = ['mentalhealth', 'self', 'changemyview', 'relationship_advice', 'anxiety', 'depression', 'selfimprovement']\n",
        "LIST_OF_FEATURES = ['subreddit', 'title', 'content', 'comment']\n",
        "BINS = [8, 30, 30]\n",
        "posts_copy = posts_df.copy()"
      ],
      "metadata": {
        "id": "W2lmYhf1Mmsk"
      },
      "execution_count": null,
      "outputs": []
    },
    {
      "cell_type": "code",
      "source": [
        "def plot_n_words(dataframe: pd.DataFrame,\n",
        "                 column_name: Text,\n",
        "                 subreddit_name: Text,\n",
        "                 n_bins: int,\n",
        "                 color: Text,\n",
        "                 axes: List[int]) -> None:\n",
        "\n",
        "  axes.hist(dataframe[dataframe['subreddit'] == subreddit_name]\\\n",
        "                      .loc[:,column_name].str.split().map(lambda word: len(word)),\n",
        "            bins=n_bins, color=color)\n",
        "  axes.set_ylabel('words frequencey')\n",
        "  axes.set_xlabel(f'No. words in {column_name}')\n",
        "  axes.set_title(f'Plotting {column_name} for \"{subreddit_name}\"', size=16)  "
      ],
      "metadata": {
        "id": "l6iQg57ONSCo"
      },
      "execution_count": null,
      "outputs": []
    },
    {
      "cell_type": "code",
      "source": [
        "from matplotlib.pyplot import title\n",
        "sns.set(style='darkgrid')\n",
        "fig, axes = plt.subplots(7, 3, figsize=(21, 21))\n",
        "fig.suptitle('Compare between Number of words in the Context',\n",
        "             size=24, color='SlateBlue')\n",
        "\n",
        "colors = ['DarkSlateBlue', 'CornflowerBlue', 'DeepSkyBlue']\n",
        "\n",
        "for x, topic in enumerate(LIST_OF_TOPICS):\n",
        "  for y, (feature, bin, color) in enumerate(zip(LIST_OF_FEATURES[1:], BINS,\n",
        "                                                colors)):\n",
        "    plot_n_words(posts_copy,\n",
        "                 column_name=feature,\n",
        "                 subreddit_name=topic,\n",
        "                 n_bins=bin,\n",
        "                 color=color,\n",
        "                 axes=axes[x, y])\n",
        "fig.tight_layout(pad=5.0)\n",
        "plt.show()"
      ],
      "metadata": {
        "id": "ws6MSR8CNE6e",
        "colab": {
          "base_uri": "https://localhost:8080/",
          "height": 959
        },
        "outputId": "02e1c970-9850-4b2d-c413-2ed92a806ff0"
      },
      "execution_count": null,
      "outputs": [
        {
          "output_type": "display_data",
          "data": {
            "image/png": "[encoded data removed]",
            "text/plain": [
              "<Figure size 1512x1512 with 21 Axes>"
            ]
          },
          "metadata": {}
        }
      ]
    },
    {
      "cell_type": "markdown",
      "source": [
        "## Feature Engineering"
      ],
      "metadata": {
        "id": "8tV9aANKKbBw"
      }
    },
    {
      "cell_type": "markdown",
      "source": [
        "### (A) Remove Markdown links"
      ],
      "metadata": {
        "id": "o5r3s-2LndqK"
      }
    },
    {
      "cell_type": "code",
      "source": [
        "def md_links(text: Text) -> Text:\n",
        "  markdown_link=re.compile(r'\\[.*?\\]\\(.*?\\)')\n",
        "  return markdown_link.sub(r'',text)"
      ],
      "metadata": {
        "id": "PGuhRxqWnimm"
      },
      "execution_count": null,
      "outputs": []
    },
    {
      "cell_type": "code",
      "source": [
        "posts_df['corrected_title'] = posts_df['title'].parallel_apply(lambda sentence: md_links(sentence))\n",
        "posts_df['corrected_content'] = posts_df['content'].parallel_apply(lambda sentence: md_links(sentence))\n",
        "posts_df['corrected_comment'] = posts_df['comment'].parallel_apply(lambda sentence: md_links(sentence))"
      ],
      "metadata": {
        "id": "Q9RFjhmrn2r3"
      },
      "execution_count": null,
      "outputs": []
    },
    {
      "cell_type": "markdown",
      "source": [
        "### (B) Remove Links"
      ],
      "metadata": {
        "id": "iHm4hdlDLy8o"
      }
    },
    {
      "cell_type": "code",
      "source": [
        "def scrape_links(text):\n",
        "    url = re.compile(r'https?://\\S+|www\\.\\S+')\n",
        "    return url.sub(r'',text)"
      ],
      "metadata": {
        "id": "1Wr9CO6WL1JZ"
      },
      "execution_count": null,
      "outputs": []
    },
    {
      "cell_type": "code",
      "source": [
        "posts_df['corrected_title'] = posts_df['corrected_title'].parallel_apply(lambda sentence: scrape_links(sentence))\n",
        "posts_df['corrected_content'] = posts_df['corrected_content'].parallel_apply(lambda sentence: scrape_links(sentence))\n",
        "posts_df['corrected_comment'] = posts_df['corrected_comment'].parallel_apply(lambda sentence: scrape_links(sentence))"
      ],
      "metadata": {
        "id": "W36ImlEjL3CA"
      },
      "execution_count": null,
      "outputs": []
    },
    {
      "cell_type": "markdown",
      "source": [
        "### (C) Dealing with Tags"
      ],
      "metadata": {
        "id": "OqNORsEdMpgp"
      }
    },
    {
      "cell_type": "code",
      "source": [
        "def remove_html(text: Text) -> Text:\n",
        "  html=re.compile(r'<.*?>')\n",
        "  return html.sub(r'',text)"
      ],
      "metadata": {
        "id": "fvheXCP-M2Ji"
      },
      "execution_count": null,
      "outputs": []
    },
    {
      "cell_type": "code",
      "source": [
        "posts_df['corrected_title'] = posts_df['corrected_title'].parallel_apply(lambda sentence: remove_html(sentence))\n",
        "posts_df['corrected_content'] = posts_df['corrected_content'].parallel_apply(lambda sentence: remove_html(sentence))\n",
        "posts_df['corrected_comment'] = posts_df['corrected_comment'].parallel_apply(lambda sentence: remove_html(sentence))"
      ],
      "metadata": {
        "id": "Zh38MCZsM4X2"
      },
      "execution_count": null,
      "outputs": []
    },
    {
      "cell_type": "markdown",
      "source": [
        "### (D) Remove Numbers"
      ],
      "metadata": {
        "id": "gbcDparjNK-j"
      }
    },
    {
      "cell_type": "code",
      "source": [
        "posts_df['corrected_title'] = posts_df['corrected_title'].str.replace(r'\\d+', ' ', regex=True)\n",
        "posts_df['corrected_content'] = posts_df['corrected_content'].str.replace(r'\\d+', ' ', regex=True)\n",
        "posts_df['corrected_comment'] = posts_df['corrected_comment'].str.replace(r'\\d+', ' ', regex=True)"
      ],
      "metadata": {
        "id": "mWRe0K2ZNO7r"
      },
      "execution_count": null,
      "outputs": []
    },
    {
      "cell_type": "code",
      "source": [
        "posts_df['comment'][0]"
      ],
      "metadata": {
        "colab": {
          "base_uri": "https://localhost:8080/",
          "height": 1000
        },
        "id": "U_AHNusoqJXH",
        "outputId": "918f3ce3-03ac-4e35-c41b-51d15e0c39fd"
      },
      "execution_count": null,
      "outputs": [
        {
          "output_type": "execute_result",
          "data": {
            "application/vnd.google.colaboratory.intrinsic+json": {
              "type": "string"
            },
            "text/plain": [
              "\"Thank you for for sharing. A reminder: if you are seeking resources in your local area, please provide that in the post so that users can share appropriate links and phone numbers. *If you are in distress, please call 9-1-1* or your local emergency number. *You are not alone. Help is available.* If you are having suicidal thoughts, please [click here for a list of crisis support services.](http://www.suicide.org/international-suicide-hotlines.html), If you are seeking therapy online, please [click here for a list of counselling services.](https://thelifelinecanada.ca/pattern-interrupt/ecounselling/) *If you feel well enough to do so, please do your part to enrich this community.* Now that you have posted, please leave a constructive, helpful comment on someone else's post. Filter by new to find posts with zero comments. Together, we make this community great. Thank you for being here. \\n\\n\\n*I am a bot, and this action was performed automatically. Please [contact the moderators of this subreddit](/message/compose/?to=/r/mentalhealth) if you have any questions or concerns.*\""
            ]
          },
          "metadata": {},
          "execution_count": 31
        }
      ]
    },
    {
      "cell_type": "code",
      "source": [
        "posts_df['corrected_comment'][0]"
      ],
      "metadata": {
        "colab": {
          "base_uri": "https://localhost:8080/",
          "height": 1000
        },
        "id": "wKwmWsoQp1U2",
        "outputId": "34ab3ebe-4cb2-4c4d-eef5-bbb0bc03a996"
      },
      "execution_count": null,
      "outputs": [
        {
          "output_type": "execute_result",
          "data": {
            "application/vnd.google.colaboratory.intrinsic+json": {
              "type": "string"
            },
            "text/plain": [
              "\"Thank you for for sharing. A reminder: if you are seeking resources in your local area, please provide that in the post so that users can share appropriate links and phone numbers. *If you are in distress, please call  - - * or your local emergency number. *You are not alone. Help is available.* If you are having suicidal thoughts, please , If you are seeking therapy online, please  *If you feel well enough to do so, please do your part to enrich this community.* Now that you have posted, please leave a constructive, helpful comment on someone else's post. Filter by new to find posts with zero comments. Together, we make this community great. Thank you for being here. \\n\\n\\n*I am a bot, and this action was performed automatically. Please  if you have any questions or concerns.*\""
            ]
          },
          "metadata": {},
          "execution_count": 32
        }
      ]
    },
    {
      "cell_type": "markdown",
      "source": [
        "### (E) Char Words Converstion"
      ],
      "metadata": {
        "id": "Meo3myvyKfBO"
      }
    },
    {
      "cell_type": "markdown",
      "source": [
        "#### Abbreviated Keywords"
      ],
      "metadata": {
        "id": "i0tn1bRFKi8T"
      }
    },
    {
      "cell_type": "code",
      "source": [
        "CHAT_WORDS_STR = \"\"\"\n",
        "AFAIK=As Far As I Know\n",
        "AFK=Away From Keyboard\n",
        "ASAP=As Soon As Possible\n",
        "ATK=At The Keyboard\n",
        "ATM=At The Moment\n",
        "A3=Anytime, Anywhere, Anyplace\n",
        "BAK=Back At Keyboard\n",
        "BBL=Be Back Later\n",
        "BBS=Be Back Soon\n",
        "BFN=Bye For Now\n",
        "B4N=Bye For Now\n",
        "BRB=Be Right Back\n",
        "BRT=Be Right There\n",
        "BTW=By The Way\n",
        "B4=Before\n",
        "B4N=Bye For Now\n",
        "CU=See You\n",
        "CUL8R=See You Later\n",
        "CYA=See You\n",
        "FAQ=Frequently Asked Questions\n",
        "FC=Fingers Crossed\n",
        "FWIW=For What It's Worth\n",
        "FYI=For Your Information\n",
        "GAL=Get A Life\n",
        "GG=Good Game\n",
        "GN=Good Night\n",
        "GMTA=Great Minds Think Alike\n",
        "GR8=Great!\n",
        "G9=Genius\n",
        "IC=I See\n",
        "ICQ=I Seek you (also a chat program)\n",
        "ILU=ILU: I Love You\n",
        "IMHO=In My Honest/Humble Opinion\n",
        "IMO=In My Opinion\n",
        "IOW=In Other Words\n",
        "IRL=In Real Life\n",
        "KISS=Keep It Simple, Stupid\n",
        "LDR=Long Distance Relationship\n",
        "LMAO=Laugh My A.. Off\n",
        "LOL=Laughing Out Loud\n",
        "LTNS=Long Time No See\n",
        "L8R=Later\n",
        "MTE=My Thoughts Exactly\n",
        "M8=Mate\n",
        "NRN=No Reply Necessary\n",
        "OIC=Oh I See\n",
        "PITA=Pain In The A..\n",
        "PRT=Party\n",
        "PRW=Parents Are Watching\n",
        "ROFL=Rolling On The Floor Laughing\n",
        "ROFLOL=Rolling On The Floor Laughing Out Loud\n",
        "ROTFLMAO=Rolling On The Floor Laughing My A.. Off\n",
        "SK8=Skate\n",
        "STATS=Your sex and age\n",
        "ASL=Age, Sex, Location\n",
        "THX=Thank You\n",
        "TTFN=Ta-Ta For Now!\n",
        "TTYL=Talk To You Later\n",
        "U=You\n",
        "U2=You Too\n",
        "U4E=Yours For Ever\n",
        "WB=Welcome Back\n",
        "WTF=What The F...\n",
        "WTG=Way To Go!\n",
        "WUF=Where Are You From?\n",
        "W8=Wait...\n",
        "7K=Sick:-D Laugher\n",
        "\"\"\""
      ],
      "metadata": {
        "id": "8uipVbgsKm4v"
      },
      "execution_count": null,
      "outputs": []
    },
    {
      "cell_type": "markdown",
      "source": [
        "#### Functions"
      ],
      "metadata": {
        "id": "GCcWadBOKuYB"
      }
    },
    {
      "cell_type": "code",
      "source": [
        "# First, we're going to convert this long string into set of words and its shortcut\n",
        "chat_words_map_dict = {}\n",
        "chat_shortcut_list = set()\n",
        "for line in CHAT_WORDS_STR.split(\"\\n\"):\n",
        "    if line != '':\n",
        "        shortcut = line.split('=')[0] # split the line from `=` sign and select shortcut\n",
        "        chat_words = line.split('=')[1]\n",
        "        chat_shortcut_list.add(shortcut) # add the chat  shortcut to the set\n",
        "        chat_words_map_dict[shortcut] = chat_words # add each chat_words corresponding to its shortcut"
      ],
      "metadata": {
        "id": "PVgY32nfKrtZ"
      },
      "execution_count": null,
      "outputs": []
    },
    {
      "cell_type": "code",
      "source": [
        "def chat_words_conversion(text: Text) -> Text:\n",
        "    new_text = []\n",
        "    for word in text.split():\n",
        "        if word.upper() in chat_words_map_dict:\n",
        "            new_text.append(chat_words_map_dict[word.upper()])\n",
        "        else:\n",
        "            new_text.append(word)\n",
        "    return \" \".join(new_text)"
      ],
      "metadata": {
        "id": "JpFEUS5JKzaN"
      },
      "execution_count": null,
      "outputs": []
    },
    {
      "cell_type": "code",
      "source": [
        "posts_df['corrected_title'] = posts_df['corrected_title'].parallel_apply(lambda sentence: chat_words_conversion(sentence))\n",
        "posts_df['corrected_content'] = posts_df['corrected_content'].parallel_apply(lambda sentence: chat_words_conversion(sentence))\n",
        "posts_df['corrected_comment'] = posts_df['corrected_comment'].parallel_apply(lambda sentence: chat_words_conversion(sentence))"
      ],
      "metadata": {
        "id": "2p2CL9WTKxlV"
      },
      "execution_count": null,
      "outputs": []
    },
    {
      "cell_type": "markdown",
      "source": [
        "### (G) Decode Emojis"
      ],
      "metadata": {
        "id": "_lSW-gXJL2UF"
      }
    },
    {
      "cell_type": "code",
      "source": [
        "def is_emoji(text: Text)-> bool:\n",
        "    for label in text:\n",
        "        if label in emoji.UNICODE_EMOJI_ENGLISH:\n",
        "            return True\n",
        "    return False"
      ],
      "metadata": {
        "id": "31ifZzo6L_oW"
      },
      "execution_count": null,
      "outputs": []
    },
    {
      "cell_type": "code",
      "source": [
        "is_emoji_title = posts_df['corrected_title'].parallel_apply(lambda sentence: is_emoji(sentence))\n",
        "is_emoji_content = posts_df['corrected_content'].parallel_apply(lambda sentence: is_emoji(sentence))\n",
        "is_emoji_comment = posts_df['corrected_comment'].parallel_apply(lambda sentence: is_emoji(sentence))"
      ],
      "metadata": {
        "id": "j2M4HOOWmVgK"
      },
      "execution_count": null,
      "outputs": []
    },
    {
      "cell_type": "code",
      "source": [
        "def decode_emoji(text: Text) -> Text:\n",
        "  txt_emoji_list = emoji.distinct_emoji_lis(text)\n",
        "  rx = '[' + re.escape(''.join(txt_emoji_list)) + ']'\n",
        "\n",
        "  if not txt_emoji_list:\n",
        "      return text\n",
        "  elif '©' not in txt_emoji_list:\n",
        "      return re.sub(rx, '', text) +\\\n",
        "      ''.join([emoji.demojize(emoj).replace(':', ' ') for emoj in txt_emoji_list])\n",
        "  elif ('©' in txt_emoji_list and len(txt_emoji_list) == 1):\n",
        "      return text.replace('©', '')\n",
        "  elif ('©' in txt_emoji_list and len(txt_emoji_list) > 1):\n",
        "      text = text.replace('©', '')\n",
        "      return re.sub(rx, '', text) +\\\n",
        "      ''.join([emoji.demojize(emoj).replace(':', ' ') for emoj in txt_emoji_list])"
      ],
      "metadata": {
        "id": "uuiDrS0eMCkz"
      },
      "execution_count": null,
      "outputs": []
    },
    {
      "cell_type": "code",
      "source": [
        "posts_df.loc[is_emoji_title, 'corrected_title'] = posts_df.loc[is_emoji_title, 'corrected_title'].parallel_apply(lambda sentence: decode_emoji(sentence))\n",
        "posts_df.loc[is_emoji_content, 'corrected_content'] = posts_df.loc[is_emoji_content, 'corrected_content'].parallel_apply(lambda sentence: decode_emoji(sentence))\n",
        "posts_df.loc[is_emoji_comment, 'corrected_comment'] = posts_df.loc[is_emoji_comment, 'corrected_comment'].parallel_apply(lambda sentence: decode_emoji(sentence))\n"
      ],
      "metadata": {
        "id": "gzbVq4z_MGj8"
      },
      "execution_count": null,
      "outputs": []
    },
    {
      "cell_type": "markdown",
      "source": [
        "### (H) Decode Emoticons"
      ],
      "metadata": {
        "id": "uBzKU1LIMIAu"
      }
    },
    {
      "cell_type": "markdown",
      "source": [
        "#### Dictionary of Emoticons"
      ],
      "metadata": {
        "id": "6NOSVRbVzD1N"
      }
    },
    {
      "cell_type": "code",
      "source": [
        "# Thanks : https://github.com/NeelShah18/emot/blob/master/emot/emo_unicode.py\n",
        "EMOTICONS = {\n",
        "    u\":‑\\)\":\"Happy face or smiley\",\n",
        "    u\":\\)\":\"Happy face or smiley\",\n",
        "    u\":-\\]\":\"Happy face or smiley\",\n",
        "    u\":\\]\":\"Happy face or smiley\",\n",
        "    u\":-3\":\"Happy face smiley\",\n",
        "    u\":3\":\"Happy face smiley\",\n",
        "    u\":->\":\"Happy face smiley\",\n",
        "    u\":>\":\"Happy face smiley\",\n",
        "    u\"8-\\)\":\"Happy face smiley\",\n",
        "    u\":o\\)\":\"Happy face smiley\",\n",
        "    u\":-\\}\":\"Happy face smiley\",\n",
        "    u\":\\}\":\"Happy face smiley\",\n",
        "    u\":-\\)\":\"Happy face smiley\",\n",
        "    u\":c\\)\":\"Happy face smiley\",\n",
        "    u\":\\^\\)\":\"Happy face smiley\",\n",
        "    u\"=\\]\":\"Happy face smiley\",\n",
        "    u\"=\\)\":\"Happy face smiley\",\n",
        "    u\":‑D\":\"Laughing, big grin or laugh with glasses\",\n",
        "    u\":D\":\"Laughing, big grin or laugh with glasses\",\n",
        "    u\"8‑D\":\"Laughing, big grin or laugh with glasses\",\n",
        "    u\"8D\":\"Laughing, big grin or laugh with glasses\",\n",
        "    u\"X‑D\":\"Laughing, big grin or laugh with glasses\",\n",
        "    u\"XD\":\"Laughing, big grin or laugh with glasses\",\n",
        "    u\"=D\":\"Laughing, big grin or laugh with glasses\",\n",
        "    u\"=3\":\"Laughing, big grin or laugh with glasses\",\n",
        "    u\"B\\^D\":\"Laughing, big grin or laugh with glasses\",\n",
        "    u\":-\\)\\)\":\"Very happy\",\n",
        "    u\":‑\\(\":\"Frown, sad, andry or pouting\",\n",
        "    u\":-\\(\":\"Frown, sad, andry or pouting\",\n",
        "    u\":\\(\":\"Frown, sad, andry or pouting\",\n",
        "    u\":‑c\":\"Frown, sad, andry or pouting\",\n",
        "    u\":c\":\"Frown, sad, andry or pouting\",\n",
        "    u\":‑<\":\"Frown, sad, andry or pouting\",\n",
        "    u\":<\":\"Frown, sad, andry or pouting\",\n",
        "    u\":‑\\[\":\"Frown, sad, andry or pouting\",\n",
        "    u\":\\[\":\"Frown, sad, andry or pouting\",\n",
        "    u\":-\\|\\|\":\"Frown, sad, andry or pouting\",\n",
        "    u\">:\\[\":\"Frown, sad, andry or pouting\",\n",
        "    u\":\\{\":\"Frown, sad, andry or pouting\",\n",
        "    u\":@\":\"Frown, sad, andry or pouting\",\n",
        "    u\">:\\(\":\"Frown, sad, andry or pouting\",\n",
        "    u\":'‑\\(\":\"Crying\",\n",
        "    u\":'\\(\":\"Crying\",\n",
        "    u\":'‑\\)\":\"Tears of happiness\",\n",
        "    u\":'\\)\":\"Tears of happiness\",\n",
        "    u\"D‑':\":\"Horror\",\n",
        "    u\"D:<\":\"Disgust\",\n",
        "    u\"D:\":\"Sadness\",\n",
        "    u\"D8\":\"Great dismay\",\n",
        "    u\"D;\":\"Great dismay\",\n",
        "    u\"D=\":\"Great dismay\",\n",
        "    u\"DX\":\"Great dismay\",\n",
        "    u\":‑O\":\"Surprise\",\n",
        "    u\":O\":\"Surprise\",\n",
        "    u\":‑o\":\"Surprise\",\n",
        "    u\":o\":\"Surprise\",\n",
        "    u\":-0\":\"Shock\",\n",
        "    u\"8‑0\":\"Yawn\",\n",
        "    u\">:O\":\"Yawn\",\n",
        "    u\":-\\*\":\"Kiss\",\n",
        "    u\":\\*\":\"Kiss\",\n",
        "    u\":X\":\"Kiss\",\n",
        "    u\";‑\\)\":\"Wink or smirk\",\n",
        "    u\";\\)\":\"Wink or smirk\",\n",
        "    u\"\\*-\\)\":\"Wink or smirk\",\n",
        "    u\"\\*\\)\":\"Wink or smirk\",\n",
        "    u\";‑\\]\":\"Wink or smirk\",\n",
        "    u\";\\]\":\"Wink or smirk\",\n",
        "    u\";\\^\\)\":\"Wink or smirk\",\n",
        "    u\":‑,\":\"Wink or smirk\",\n",
        "    u\";D\":\"Wink or smirk\",\n",
        "    u\":‑P\":\"Tongue sticking out, cheeky, playful or blowing a raspberry\",\n",
        "    u\":P\":\"Tongue sticking out, cheeky, playful or blowing a raspberry\",\n",
        "    u\"X‑P\":\"Tongue sticking out, cheeky, playful or blowing a raspberry\",\n",
        "    u\"XP\":\"Tongue sticking out, cheeky, playful or blowing a raspberry\",\n",
        "    u\":‑Þ\":\"Tongue sticking out, cheeky, playful or blowing a raspberry\",\n",
        "    u\":Þ\":\"Tongue sticking out, cheeky, playful or blowing a raspberry\",\n",
        "    u\":b\":\"Tongue sticking out, cheeky, playful or blowing a raspberry\",\n",
        "    u\"d:\":\"Tongue sticking out, cheeky, playful or blowing a raspberry\",\n",
        "    u\"=p\":\"Tongue sticking out, cheeky, playful or blowing a raspberry\",\n",
        "    u\">:P\":\"Tongue sticking out, cheeky, playful or blowing a raspberry\",\n",
        "    u\":‑/\":\"Skeptical, annoyed, undecided, uneasy or hesitant\",\n",
        "    u\":/\":\"Skeptical, annoyed, undecided, uneasy or hesitant\",\n",
        "    u\":-[.]\":\"Skeptical, annoyed, undecided, uneasy or hesitant\",\n",
        "    u\">:[(\\\\\\)]\":\"Skeptical, annoyed, undecided, uneasy or hesitant\",\n",
        "    u\">:/\":\"Skeptical, annoyed, undecided, uneasy or hesitant\",\n",
        "    u\":[(\\\\\\)]\":\"Skeptical, annoyed, undecided, uneasy or hesitant\",\n",
        "    u\"=/\":\"Skeptical, annoyed, undecided, uneasy or hesitant\",\n",
        "    u\"=[(\\\\\\)]\":\"Skeptical, annoyed, undecided, uneasy or hesitant\",\n",
        "    u\":L\":\"Skeptical, annoyed, undecided, uneasy or hesitant\",\n",
        "    u\"=L\":\"Skeptical, annoyed, undecided, uneasy or hesitant\",\n",
        "    u\":S\":\"Skeptical, annoyed, undecided, uneasy or hesitant\",\n",
        "    u\":‑\\|\":\"Straight face\",\n",
        "    u\":\\|\":\"Straight face\",\n",
        "    u\":$\":\"Embarrassed or blushing\",\n",
        "    u\":‑x\":\"Sealed lips or wearing braces or tongue-tied\",\n",
        "    u\":x\":\"Sealed lips or wearing braces or tongue-tied\",\n",
        "    u\":‑#\":\"Sealed lips or wearing braces or tongue-tied\",\n",
        "    u\":#\":\"Sealed lips or wearing braces or tongue-tied\",\n",
        "    u\":‑&\":\"Sealed lips or wearing braces or tongue-tied\",\n",
        "    u\":&\":\"Sealed lips or wearing braces or tongue-tied\",\n",
        "    u\"O:‑\\)\":\"Angel, saint or innocent\",\n",
        "    u\"O:\\)\":\"Angel, saint or innocent\",\n",
        "    u\"0:‑3\":\"Angel, saint or innocent\",\n",
        "    u\"0:3\":\"Angel, saint or innocent\",\n",
        "    u\"0:‑\\)\":\"Angel, saint or innocent\",\n",
        "    u\"0:\\)\":\"Angel, saint or innocent\",\n",
        "    u\":‑b\":\"Tongue sticking out, cheeky, playful or blowing a raspberry\",\n",
        "    u\"0;\\^\\)\":\"Angel, saint or innocent\",\n",
        "    u\">:‑\\)\":\"Evil or devilish\",\n",
        "    u\">:\\)\":\"Evil or devilish\",\n",
        "    u\"\\}:‑\\)\":\"Evil or devilish\",\n",
        "    u\"\\}:\\)\":\"Evil or devilish\",\n",
        "    u\"3:‑\\)\":\"Evil or devilish\",\n",
        "    u\"3:\\)\":\"Evil or devilish\",\n",
        "    u\">;\\)\":\"Evil or devilish\",\n",
        "    u\"\\|;‑\\)\":\"Cool\",\n",
        "    u\"\\|‑O\":\"Bored\",\n",
        "    u\":‑J\":\"Tongue-in-cheek\",\n",
        "    u\"#‑\\)\":\"Party all night\",\n",
        "    u\"%‑\\)\":\"Drunk or confused\",\n",
        "    u\"%\\)\":\"Drunk or confused\",\n",
        "    u\":-###..\":\"Being sick\",\n",
        "    u\":###..\":\"Being sick\",\n",
        "    u\"<:‑\\|\":\"Dump\",\n",
        "    u\"\\(>_<\\)\":\"Troubled\",\n",
        "    u\"\\(>_<\\)>\":\"Troubled\",\n",
        "    u\"\\(';'\\)\":\"Baby\",\n",
        "    u\"\\(\\^\\^>``\":\"Nervous or Embarrassed or Troubled or Shy or Sweat drop\",\n",
        "    u\"\\(\\^_\\^;\\)\":\"Nervous or Embarrassed or Troubled or Shy or Sweat drop\",\n",
        "    u\"\\(-_-;\\)\":\"Nervous or Embarrassed or Troubled or Shy or Sweat drop\",\n",
        "    u\"\\(~_~;\\) \\(・\\.・;\\)\":\"Nervous or Embarrassed or Troubled or Shy or Sweat drop\",\n",
        "    u\"\\(-_-\\)zzz\":\"Sleeping\",\n",
        "    u\"\\(\\^_-\\)\":\"Wink\",\n",
        "    u\"\\(\\(\\+_\\+\\)\\)\":\"Confused\",\n",
        "    u\"\\(\\+o\\+\\)\":\"Confused\",\n",
        "    u\"\\(o\\|o\\)\":\"Ultraman\",\n",
        "    u\"\\^_\\^\":\"Joyful\",\n",
        "    u\"\\(\\^_\\^\\)/\":\"Joyful\",\n",
        "    u\"\\(\\^O\\^\\)／\":\"Joyful\",\n",
        "    u\"\\(\\^o\\^\\)／\":\"Joyful\",\n",
        "    u\"\\(__\\)\":\"Kowtow as a sign of respect, or dogeza for apology\",\n",
        "    u\"_\\(\\._\\.\\)_\":\"Kowtow as a sign of respect, or dogeza for apology\",\n",
        "    u\"<\\(_ _\\)>\":\"Kowtow as a sign of respect, or dogeza for apology\",\n",
        "    u\"<m\\(__\\)m>\":\"Kowtow as a sign of respect, or dogeza for apology\",\n",
        "    u\"m\\(__\\)m\":\"Kowtow as a sign of respect, or dogeza for apology\",\n",
        "    u\"m\\(_ _\\)m\":\"Kowtow as a sign of respect, or dogeza for apology\",\n",
        "    u\"\\('_'\\)\":\"Sad or Crying\",\n",
        "    u\"\\(/_;\\)\":\"Sad or Crying\",\n",
        "    u\"\\(T_T\\) \\(;_;\\)\":\"Sad or Crying\",\n",
        "    u\"\\(;_;\":\"Sad of Crying\",\n",
        "    u\"\\(;_:\\)\":\"Sad or Crying\",\n",
        "    u\"\\(;O;\\)\":\"Sad or Crying\",\n",
        "    u\"\\(:_;\\)\":\"Sad or Crying\",\n",
        "    u\"\\(ToT\\)\":\"Sad or Crying\",\n",
        "    u\";_;\":\"Sad or Crying\",\n",
        "    u\";-;\":\"Sad or Crying\",\n",
        "    u\";n;\":\"Sad or Crying\",\n",
        "    u\";;\":\"Sad or Crying\",\n",
        "    u\"Q\\.Q\":\"Sad or Crying\",\n",
        "    u\"T\\.T\":\"Sad or Crying\",\n",
        "    u\"QQ\":\"Sad or Crying\",\n",
        "    u\"Q_Q\":\"Sad or Crying\",\n",
        "    u\"\\(-\\.-\\)\":\"Shame\",\n",
        "    u\"\\(-_-\\)\":\"Shame\",\n",
        "    u\"\\(一一\\)\":\"Shame\",\n",
        "    u\"\\(；一_一\\)\":\"Shame\",\n",
        "    u\"\\(=_=\\)\":\"Tired\",\n",
        "    u\"\\(=\\^\\·\\^=\\)\":\"cat\",\n",
        "    u\"\\(=\\^\\·\\·\\^=\\)\":\"cat\",\n",
        "    u\"=_\\^=\t\":\"cat\",\n",
        "    u\"\\(\\.\\.\\)\":\"Looking down\",\n",
        "    u\"\\(\\._\\.\\)\":\"Looking down\",\n",
        "    u\"\\^m\\^\":\"Giggling with hand covering mouth\",\n",
        "    u\"\\(\\・\\・?\":\"Confusion\",\n",
        "    u\"\\(?_?\\)\":\"Confusion\",\n",
        "    u\">\\^_\\^<\":\"Normal Laugh\",\n",
        "    u\"<\\^!\\^>\":\"Normal Laugh\",\n",
        "    u\"\\^/\\^\":\"Normal Laugh\",\n",
        "    u\"\\（\\*\\^_\\^\\*）\" :\"Normal Laugh\",\n",
        "    u\"\\(\\^<\\^\\) \\(\\^\\.\\^\\)\":\"Normal Laugh\",\n",
        "    u\"\\(^\\^\\)\":\"Normal Laugh\",\n",
        "    u\"\\(\\^\\.\\^\\)\":\"Normal Laugh\",\n",
        "    u\"\\(\\^_\\^\\.\\)\":\"Normal Laugh\",\n",
        "    u\"\\(\\^_\\^\\)\":\"Normal Laugh\",\n",
        "    u\"\\(\\^\\^\\)\":\"Normal Laugh\",\n",
        "    u\"\\(\\^J\\^\\)\":\"Normal Laugh\",\n",
        "    u\"\\(\\*\\^\\.\\^\\*\\)\":\"Normal Laugh\",\n",
        "    u\"\\(\\^—\\^\\）\":\"Normal Laugh\",\n",
        "    u\"\\(#\\^\\.\\^#\\)\":\"Normal Laugh\",\n",
        "    u\"\\（\\^—\\^\\）\":\"Waving\",\n",
        "    u\"\\(;_;\\)/~~~\":\"Waving\",\n",
        "    u\"\\(\\^\\.\\^\\)/~~~\":\"Waving\",\n",
        "    u\"\\(-_-\\)/~~~ \\($\\·\\·\\)/~~~\":\"Waving\",\n",
        "    u\"\\(T_T\\)/~~~\":\"Waving\",\n",
        "    u\"\\(ToT\\)/~~~\":\"Waving\",\n",
        "    u\"\\(\\*\\^0\\^\\*\\)\":\"Excited\",\n",
        "    u\"\\(\\*_\\*\\)\":\"Amazed\",\n",
        "    u\"\\(\\*_\\*;\":\"Amazed\",\n",
        "    u\"\\(\\+_\\+\\) \\(@_@\\)\":\"Amazed\",\n",
        "    u\"\\(\\*\\^\\^\\)v\":\"Laughing,Cheerful\",\n",
        "    u\"\\(\\^_\\^\\)v\":\"Laughing,Cheerful\",\n",
        "    u\"\\(\\(d[-_-]b\\)\\)\":\"Headphones,Listening to music\",\n",
        "    u'\\(-\"-\\)':\"Worried\",\n",
        "    u\"\\(ーー;\\)\":\"Worried\",\n",
        "    u\"\\(\\^0_0\\^\\)\":\"Eyeglasses\",\n",
        "    u\"\\(\\＾ｖ\\＾\\)\":\"Happy\",\n",
        "    u\"\\(\\＾ｕ\\＾\\)\":\"Happy\",\n",
        "    u\"\\(\\^\\)o\\(\\^\\)\":\"Happy\",\n",
        "    u\"\\(\\^O\\^\\)\":\"Happy\",\n",
        "    u\"\\(\\^o\\^\\)\":\"Happy\",\n",
        "    u\"\\)\\^o\\^\\(\":\"Happy\",\n",
        "    u\":O o_O\":\"Surprised\",\n",
        "    u\"o_0\":\"Surprised\",\n",
        "    u\"o\\.O\":\"Surpised\",\n",
        "    u\"\\(o\\.o\\)\":\"Surprised\",\n",
        "    u\"oO\":\"Surprised\",\n",
        "    u\"\\(\\*￣m￣\\)\":\"Dissatisfied\",\n",
        "    u\"\\(‘A`\\)\":\"Snubbed or Deflated\"\n",
        "}"
      ],
      "metadata": {
        "id": "iJt41JiNMOMg"
      },
      "execution_count": null,
      "outputs": []
    },
    {
      "cell_type": "markdown",
      "source": [
        "#### Functions"
      ],
      "metadata": {
        "id": "87xfvgObzIGM"
      }
    },
    {
      "cell_type": "code",
      "source": [
        "def is_emot(text: Text)-> bool:\n",
        "    for emo in EMOTICONS:\n",
        "        if re.search(emo, text):\n",
        "                return True\n",
        "    return False"
      ],
      "metadata": {
        "id": "ekyH7ETTMS3c"
      },
      "execution_count": null,
      "outputs": []
    },
    {
      "cell_type": "code",
      "source": [
        "is_emot_title = posts_df['corrected_title'].parallel_apply(lambda sentence: is_emot(sentence))\n",
        "is_emot_content = posts_df['corrected_content'].parallel_apply(lambda sentence: is_emot(sentence))\n",
        "is_emot_comment = posts_df['corrected_comment'].parallel_apply(lambda sentence: is_emot(sentence))"
      ],
      "metadata": {
        "id": "O0zN1akRMccZ"
      },
      "execution_count": null,
      "outputs": []
    },
    {
      "cell_type": "code",
      "source": [
        "def convert_emoticons_distinct(text: Text) -> Text:\n",
        "    for emot in EMOTICONS:\n",
        "        text = re.sub(u'('+emot+')', \"_\".join(EMOTICONS[emot].replace(\",\",\"\").split()), text)\n",
        "    \n",
        "    # follow ref: https://stackoverflow.com/a/57231478/14473118\n",
        "    text = re.sub(r'\\b(\\w+\\s*)\\1{1,}', '\\\\1', text)\n",
        "    return text"
      ],
      "metadata": {
        "id": "mOW1rtXmMeNH"
      },
      "execution_count": null,
      "outputs": []
    },
    {
      "cell_type": "code",
      "source": [
        "posts_df.loc[is_emot_title, 'corrected_title'] = posts_df.loc[is_emot_title, 'corrected_title'].parallel_apply(lambda sentence: convert_emoticons_distinct(sentence))\n",
        "posts_df.loc[is_emot_content, 'corrected_content'] = posts_df.loc[is_emot_content, 'corrected_content'].parallel_apply(lambda sentence: convert_emoticons_distinct(sentence))\n",
        "posts_df.loc[is_emot_comment, 'corrected_comment'] = posts_df.loc[is_emot_comment, 'corrected_comment'].parallel_apply(lambda sentence: convert_emoticons_distinct(sentence))"
      ],
      "metadata": {
        "id": "9WgANFZbMfZy"
      },
      "execution_count": null,
      "outputs": []
    },
    {
      "cell_type": "markdown",
      "source": [
        "### (G) English contractions"
      ],
      "metadata": {
        "id": "6hfZQk3-umql"
      }
    },
    {
      "cell_type": "code",
      "source": [
        "def en_contractions(text: Text) -> Text:\n",
        "    return ' '.join([contractions.fix(word)\n",
        "                     if word in contractions.contractions_dict else word\n",
        "                     for word in text.split()])"
      ],
      "metadata": {
        "id": "fTb6HV5OwFwa"
      },
      "execution_count": null,
      "outputs": []
    },
    {
      "cell_type": "code",
      "source": [
        "posts_df['corrected_title'] = posts_df['corrected_title'].parallel_apply(lambda sentence: en_contractions(sentence))\n",
        "posts_df['corrected_content'] = posts_df['corrected_content'].parallel_apply(lambda sentence: en_contractions(sentence))\n",
        "posts_df['corrected_comment'] = posts_df['corrected_comment'].parallel_apply(lambda sentence: en_contractions(sentence))"
      ],
      "metadata": {
        "id": "LwgT9AX-xVlP"
      },
      "execution_count": null,
      "outputs": []
    },
    {
      "cell_type": "markdown",
      "source": [
        "### (I) Dealing with Special Characters"
      ],
      "metadata": {
        "id": "31v4kb46M_Fv"
      }
    },
    {
      "cell_type": "code",
      "source": [
        "s_chars = '¥₽ÏïŰŬĎŸæ₿₪ÚŇÀèÅ”ĜåŽÖéříÿý€ŝĤ₹áŜŮÂ₴ûÌÇšŘúüëÓ₫ŠčÎŤÆÒœ₩öËäøÍťìĈôàĥÝ¢ç“žðÙÊĉŭÈŒÐÉÔĵùÁů„âÄűĴóêĝÞîØòď฿ČÜþňÛ'\n",
        "PUNC = '+@«#_\\-!$%%^&*¬()£<>?/\\\\|}\\]\\[{;\\,~:\\\"\\''"
      ],
      "metadata": {
        "id": "AfI8cyPjNDF0"
      },
      "execution_count": null,
      "outputs": []
    },
    {
      "cell_type": "code",
      "source": [
        "def special_char(text: Text) -> Text:\n",
        "    # first, let's remove any unicode strings\n",
        "    text = text.encode('ascii', 'ignore').decode()\n",
        "    # remove printable bachslashes\n",
        "    text = re.sub(r'[\\t\\s\\n\\r\\b\\a]', ' ', text)\n",
        "    # Special letters\n",
        "    text = re.sub(r'[{}]'.format(s_chars), '', text)\n",
        "    # Punctuation\n",
        "    text = re.sub(r'[{}]'.format(PUNC), ' ', text)\n",
        "    # space at the start or the end of the context\n",
        "    text = re.sub(r'(^\\s)|(\\s$)', '', text)\n",
        "    # Single character\n",
        "    text = re.sub(r'(\\s[^iIaA]\\s)', ' ', text)\n",
        "    return text"
      ],
      "metadata": {
        "id": "C9ID6kS4NGzp"
      },
      "execution_count": null,
      "outputs": []
    },
    {
      "cell_type": "code",
      "source": [
        "posts_df['corrected_title'] = posts_df['corrected_title'].parallel_apply(lambda sentence: special_char(sentence))\n",
        "posts_df['corrected_content'] = posts_df['corrected_content'].parallel_apply(lambda sentence: special_char(sentence))\n",
        "posts_df['corrected_comment'] = posts_df['corrected_comment'].parallel_apply(lambda sentence: special_char(sentence))"
      ],
      "metadata": {
        "id": "KYXxFM9HNJnU"
      },
      "execution_count": null,
      "outputs": []
    },
    {
      "cell_type": "markdown",
      "source": [
        "### (J) Special Cases"
      ],
      "metadata": {
        "id": "CqVrErtBNg4t"
      }
    },
    {
      "cell_type": "code",
      "source": [
        "posts_df['corrected_title'] = posts_df['corrected_title'].str.replace(\"yr\", 'year', regex=False)\n",
        "posts_df['corrected_title'] = posts_df['corrected_title'].str.replace(\"...\", ' ', regex=False)\n",
        "posts_df['corrected_title'] = posts_df['corrected_title'].str.replace(r\"\\.|==|=|'|`|(PM)|(AM)|(UTC)\", ' ', regex=True)\n",
        "posts_df['corrected_title'] = posts_df['corrected_title'].str.replace(r\"(\\s[^iIaA]\\s)\", ' ', regex=True)\n",
        "posts_df['corrected_title'] = posts_df['corrected_title'].str.replace(r'\\s(\\w$)|\\s(\\w[^me]$)', '', regex=True)\n",
        "posts_df['corrected_title'] = posts_df['corrected_title'].str.replace(r'\\s ', ' ', regex=True)\n",
        "posts_df['corrected_title'] = posts_df['corrected_title'].str.replace(r'(^\\s)|(\\s$)', '', regex=True)\n",
        "\n",
        "posts_df['corrected_content'] = posts_df['corrected_content'].str.replace(\"yr\", 'year', regex=False)\n",
        "posts_df['corrected_content'] = posts_df['corrected_content'].str.replace(\"...\", ' ', regex=False)\n",
        "posts_df['corrected_content'] = posts_df['corrected_content'].str.replace(r\"\\.|==|=|'|`|(PM)|(AM)|(UTC)\", ' ', regex=True)\n",
        "posts_df['corrected_content'] = posts_df['corrected_content'].str.replace(r\"(\\s[^iIaA]\\s)\", ' ', regex=True)\n",
        "posts_df['corrected_content'] = posts_df['corrected_content'].str.replace(r'\\s(\\w$)|\\s(\\w[^me]$)', '', regex=True)\n",
        "posts_df['corrected_content'] = posts_df['corrected_content'].str.replace(r'\\s ', ' ', regex=True)\n",
        "posts_df['corrected_content'] = posts_df['corrected_content'].str.replace(r'(^\\s)|(\\s$)', '', regex=True)\n",
        "\n",
        "posts_df['corrected_comment'] = posts_df['corrected_comment'].str.replace(\"yr\", 'year', regex=False)\n",
        "posts_df['corrected_comment'] = posts_df['corrected_comment'].str.replace(\"...\", ' ', regex=False)\n",
        "posts_df['corrected_comment'] = posts_df['corrected_comment'].str.replace(r\"\\.|==|=|'|`|(PM)|(AM)|(UTC)\", ' ', regex=True)\n",
        "posts_df['corrected_comment'] = posts_df['corrected_comment'].str.replace(r\"(\\s[^iIaA]\\s)\", ' ', regex=True)\n",
        "posts_df['corrected_comment'] = posts_df['corrected_comment'].str.replace(r'\\s(\\w$)|\\s(\\w[^me]$)', '', regex=True)\n",
        "posts_df['corrected_comment'] = posts_df['corrected_comment'].str.replace(r'\\s ', ' ', regex=True)\n",
        "posts_df['corrected_comment'] = posts_df['corrected_comment'].str.replace(r'(^\\s)|(\\s$)', '', regex=True)"
      ],
      "metadata": {
        "id": "d-7uF89WNlRo"
      },
      "execution_count": null,
      "outputs": []
    },
    {
      "cell_type": "code",
      "source": [
        "posts_df['comment'][0]"
      ],
      "metadata": {
        "colab": {
          "base_uri": "https://localhost:8080/",
          "height": 219
        },
        "id": "Ba0CxsJlpLSK",
        "outputId": "9d60afc6-10a0-4d8e-fb76-2b3030daa5de"
      },
      "execution_count": null,
      "outputs": [
        {
          "output_type": "execute_result",
          "data": {
            "application/vnd.google.colaboratory.intrinsic+json": {
              "type": "string"
            },
            "text/plain": [
              "\"Thank you for for sharing. A reminder: if you are seeking resources in your local area, please provide that in the post so that users can share appropriate links and phone numbers. *If you are in distress, please call 9-1-1* or your local emergency number. *You are not alone. Help is available.* If you are having suicidal thoughts, please [click here for a list of crisis support services.](http://www.suicide.org/international-suicide-hotlines.html), If you are seeking therapy online, please [click here for a list of counselling services.](https://thelifelinecanada.ca/pattern-interrupt/ecounselling/) *If you feel well enough to do so, please do your part to enrich this community.* Now that you have posted, please leave a constructive, helpful comment on someone else's post. Filter by new to find posts with zero comments. Together, we make this community great. Thank you for being here. \\n\\n\\n*I am a bot, and this action was performed automatically. Please [contact the moderators of this subreddit](/message/compose/?to=/r/mentalhealth) if you have any questions or concerns.*\""
            ]
          },
          "metadata": {},
          "execution_count": 52
        }
      ]
    },
    {
      "cell_type": "code",
      "source": [
        "posts_df['corrected_comment'][0]"
      ],
      "metadata": {
        "colab": {
          "base_uri": "https://localhost:8080/",
          "height": 164
        },
        "id": "xrAWtQTpuXFw",
        "outputId": "01461c93-3b65-46fe-f563-ec86edfb16d8"
      },
      "execution_count": null,
      "outputs": [
        {
          "output_type": "execute_result",
          "data": {
            "application/vnd.google.colaboratory.intrinsic+json": {
              "type": "string"
            },
            "text/plain": [
              "'Thank you for for sharing A reminder if you are seeking resources in your local area please provide that in the post so that users can share appropriate links and phone numbers If you are in distress please call or your local emergency number You are not alone Help is available If you are having suicidal thoughts please If you are seeking therapy online please If you feel well enough to do so please do your part to enrich this community Now that you have posted please leave a constructive helpful comment on someone else post Filter by new to find posts with zero comments Together we make this community great Thank you for being here I am a bot and this action was performed automatically Please if you have any questions or concerns'"
            ]
          },
          "metadata": {},
          "execution_count": 53
        }
      ]
    },
    {
      "cell_type": "code",
      "source": [
        "posts_df['title'][3]"
      ],
      "metadata": {
        "colab": {
          "base_uri": "https://localhost:8080/",
          "height": 36
        },
        "id": "VhC4I5M7pN9n",
        "outputId": "f7e3c1f0-e27a-4a36-a84b-285ed91603b1"
      },
      "execution_count": null,
      "outputs": [
        {
          "output_type": "execute_result",
          "data": {
            "application/vnd.google.colaboratory.intrinsic+json": {
              "type": "string"
            },
            "text/plain": [
              "'Is there something wrong with me?'"
            ]
          },
          "metadata": {},
          "execution_count": 54
        }
      ]
    },
    {
      "cell_type": "code",
      "source": [
        "posts_df['corrected_title'][3]"
      ],
      "metadata": {
        "colab": {
          "base_uri": "https://localhost:8080/",
          "height": 36
        },
        "id": "Shw9nH_tpGIc",
        "outputId": "bd6cdacc-5cf5-425f-885f-d73770b87680"
      },
      "execution_count": null,
      "outputs": [
        {
          "output_type": "execute_result",
          "data": {
            "application/vnd.google.colaboratory.intrinsic+json": {
              "type": "string"
            },
            "text/plain": [
              "'Is there something wrong with me'"
            ]
          },
          "metadata": {},
          "execution_count": 55
        }
      ]
    },
    {
      "cell_type": "markdown",
      "source": [
        "### (K) English contractions (Again)"
      ],
      "metadata": {
        "id": "-sCv_g_TumM-"
      }
    },
    {
      "cell_type": "code",
      "source": [
        "def en_contractions(text: Text) -> Text:\n",
        "    return ' '.join([contractions.fix(word)\n",
        "                     if word in contractions.contractions_dict else word\n",
        "                     for word in text.split()])"
      ],
      "metadata": {
        "id": "Itr2s3_2umNC"
      },
      "execution_count": null,
      "outputs": []
    },
    {
      "cell_type": "code",
      "source": [
        "posts_df['corrected_title'] = posts_df['corrected_title'].parallel_apply(lambda sentence: en_contractions(sentence))\n",
        "posts_df['corrected_content'] = posts_df['corrected_content'].parallel_apply(lambda sentence: en_contractions(sentence))\n",
        "posts_df['corrected_comment'] = posts_df['corrected_comment'].parallel_apply(lambda sentence: en_contractions(sentence))"
      ],
      "metadata": {
        "id": "z5MTyQNcumNG"
      },
      "execution_count": null,
      "outputs": []
    },
    {
      "cell_type": "markdown",
      "source": [
        "### (L) Spell Correction"
      ],
      "metadata": {
        "id": "QIyRkhZtK8kB"
      }
    },
    {
      "cell_type": "code",
      "source": [
        "spelling = SpellChecker(distance=1)\n",
        "def misspelt_words_fn(dataframe: pd.DataFrame, column: Text) -> Set[Text]:\n",
        "    misspelt_words = set()\n",
        "    for tweet in dataframe[column].str.casefold():\n",
        "        [misspelt_words.add(word) for word in spelling.unknown(tweet.split())]\n",
        "    return misspelt_words"
      ],
      "metadata": {
        "id": "mCDSppmWLIDL"
      },
      "execution_count": null,
      "outputs": []
    },
    {
      "cell_type": "markdown",
      "source": [
        "***Misspelt words Before Analysis & Feature Engineering***"
      ],
      "metadata": {
        "id": "k3hkYvZ6qKpX"
      }
    },
    {
      "cell_type": "code",
      "source": [
        "# misspelt_title_bfr = misspelt_words_fn(posts_df, 'title')\n",
        "# misspelt_content_bfr = misspelt_words_fn(posts_df, 'content')\n",
        "# misspelt_comment_bfr = misspelt_words_fn(posts_df, 'comment')\n",
        "\n",
        "# print(f'Title misspelt: {len(misspelt_title_bfr)}\\ncontent misspelt: {len(misspelt_content_bfr)}\\ncomment misspelt: {len(misspelt_comment_bfr)}')"
      ],
      "metadata": {
        "id": "SGb6rVawAW1G"
      },
      "execution_count": null,
      "outputs": []
    },
    {
      "cell_type": "markdown",
      "source": [
        "***Misspelt words After Analysis & Feature Engineering***"
      ],
      "metadata": {
        "id": "iF46a4TFqXIQ"
      }
    },
    {
      "cell_type": "code",
      "source": [
        "# misspelt_title_aft = misspelt_words_fn(posts_df, 'corrected_title')\n",
        "# misspelt_content_aft = misspelt_words_fn(posts_df, 'corrected_content')\n",
        "# misspelt_comment_aft = misspelt_words_fn(posts_df, 'corrected_comment')\n",
        "\n",
        "# print(f'Title misspelt: {len(misspelt_title_aft)}\\ncontent misspelt: {len(misspelt_content_aft)}\\ncomment misspelt: {len(misspelt_comment_aft)}')"
      ],
      "metadata": {
        "id": "cI7DX-G4Ce00"
      },
      "execution_count": null,
      "outputs": []
    },
    {
      "cell_type": "code",
      "source": [
        "WORD = re.compile(r'\\w+')\n",
        "def reTokenize(tweet: Text) -> List[Text]:\n",
        "    return WORD.findall(tweet.casefold())"
      ],
      "metadata": {
        "id": "Mv0t3p0wLUcc"
      },
      "execution_count": null,
      "outputs": []
    },
    {
      "cell_type": "code",
      "source": [
        "PATTERN = re.compile(r\"(.)\\1{2,}\", flags=re.IGNORECASE)\n",
        "def reduce_lengthening(text: Text) -> Text:\n",
        "    return PATTERN.sub(r\"\\1\\1\", text)"
      ],
      "metadata": {
        "id": "lwUTw5hcLa4p"
      },
      "execution_count": null,
      "outputs": []
    },
    {
      "cell_type": "code",
      "source": [
        "def spell_correction(text: Text, misspelt_list: List[Text]) -> Text:\n",
        "    return ' '.join([spelling.correction(word)\n",
        "                     if word in misspelt_list else word\n",
        "                     for word in reTokenize(reduce_lengthening(text))])"
      ],
      "metadata": {
        "id": "52bB-G8PLdOz"
      },
      "execution_count": null,
      "outputs": []
    },
    {
      "cell_type": "code",
      "source": [
        "misspelt_title = misspelt_words_fn(posts_df, 'corrected_title')\n",
        "misspelt_content = misspelt_words_fn(posts_df, 'corrected_content')\n",
        "misspelt_comment = misspelt_words_fn(posts_df, 'corrected_comment')"
      ],
      "metadata": {
        "id": "PVnCLmebqJmp"
      },
      "execution_count": null,
      "outputs": []
    },
    {
      "cell_type": "code",
      "source": [
        "posts_df['corrected_title'] = posts_df['corrected_title'].parallel_apply(lambda sentence: spell_correction(sentence, misspelt_title))\n",
        "posts_df['corrected_content'] = posts_df['corrected_content'].parallel_apply(lambda sentence: spell_correction(sentence, misspelt_content))\n",
        "posts_df['corrected_comment'] = posts_df['corrected_comment'].parallel_apply(lambda sentence: spell_correction(sentence, misspelt_comment))"
      ],
      "metadata": {
        "id": "1NCXuriFLsno"
      },
      "execution_count": null,
      "outputs": []
    },
    {
      "cell_type": "markdown",
      "source": [
        "***Reduce Duplicates***"
      ],
      "metadata": {
        "id": "rY12kLew6k5l"
      }
    },
    {
      "cell_type": "code",
      "source": [
        "def rv_duplicates(text: Text) -> Text:\n",
        "  return re.sub(r'\\b(\\w+\\s*)\\1{1,}', '\\\\1', text)"
      ],
      "metadata": {
        "id": "GzKU8-ed6oRp"
      },
      "execution_count": null,
      "outputs": []
    },
    {
      "cell_type": "code",
      "source": [
        "posts_df['corrected_title'] = posts_df['corrected_title'].parallel_apply(lambda sentence: rv_duplicates(sentence))\n",
        "posts_df['corrected_content'] = posts_df['corrected_content'].parallel_apply(lambda sentence: rv_duplicates(sentence))\n",
        "posts_df['corrected_comment'] = posts_df['corrected_comment'].parallel_apply(lambda sentence: rv_duplicates(sentence))"
      ],
      "metadata": {
        "id": "gQJy5-Yf7IFm"
      },
      "execution_count": null,
      "outputs": []
    },
    {
      "cell_type": "markdown",
      "source": [
        "***Misspelt words After Correction***"
      ],
      "metadata": {
        "id": "Ci37GZ1yvxFk"
      }
    },
    {
      "cell_type": "code",
      "source": [
        "# misspelt_title_aft_corr = misspelt_words_fn(posts_df, 'corrected_title')\n",
        "# misspelt_content_aft_corr = misspelt_words_fn(posts_df, 'corrected_content')\n",
        "# misspelt_comment_aft_corr = misspelt_words_fn(posts_df, 'corrected_comment')\n",
        "\n",
        "# print(f'Title misspelt: {len(misspelt_title_aft_corr)}\\ncontent misspelt: {len(misspelt_content_aft_corr)}\\ncomment misspelt: {len(misspelt_comment_aft_corr)}')"
      ],
      "metadata": {
        "colab": {
          "base_uri": "https://localhost:8080/"
        },
        "id": "Gsz8rj0C8cl4",
        "outputId": "9afec06b-d507-43f9-fbdf-6a7bf4436f32"
      },
      "execution_count": null,
      "outputs": [
        {
          "output_type": "stream",
          "name": "stdout",
          "text": [
            "Title misspelt: 240\n",
            "content misspelt: 2481\n",
            "comment misspelt: 6324\n"
          ]
        }
      ]
    },
    {
      "cell_type": "markdown",
      "source": [
        "### (M) Removing unnecessary rows depends on score"
      ],
      "metadata": {
        "id": "YR-hR8RmXVJL"
      }
    },
    {
      "cell_type": "code",
      "source": [
        "def drop_empty(dataframe: pd.DataFrame) -> pd.DataFrame:\n",
        "  dataframe = dataframe[(dataframe['thread_score'] >= 1) |\\\n",
        "                        (dataframe['comment_score'] >= 1)]\n",
        "  dataframe = dataframe.loc[(dataframe['title'] != ' ')  |\\\n",
        "                            (dataframe['title'] != '')   |\\\n",
        "                            (dataframe['comment'] != ' ')|\\\n",
        "                            (dataframe['comment'] != '') |                    \n",
        "                            (dataframe['content'] != ' ')|\\\n",
        "                            (dataframe['content'] != '')]\n",
        "  dataframe.reset_index(drop=True, inplace=True, )\n",
        "  return dataframe"
      ],
      "metadata": {
        "id": "eRT533MBXo9u"
      },
      "execution_count": null,
      "outputs": []
    },
    {
      "cell_type": "code",
      "source": [
        "posts_df = drop_empty(posts_df)"
      ],
      "metadata": {
        "id": "72YY-eyTdz7F"
      },
      "execution_count": null,
      "outputs": []
    },
    {
      "cell_type": "code",
      "source": [
        "posts_df"
      ],
      "metadata": {
        "id": "SOKEacVDggv9",
        "colab": {
          "base_uri": "https://localhost:8080/",
          "height": 1000
        },
        "outputId": "ad589bcb-6df4-47f7-fdff-c213c92297f6"
      },
      "execution_count": null,
      "outputs": [
        {
          "output_type": "execute_result",
          "data": {
            "text/html": [
              "\n",
              "  <div id=\"df-8f7326d0-2e0f-4298-bc2b-a5c8c491a9fd\">\n",
              "    <div class=\"colab-df-container\">\n",
              "      <div>\n",
              "<style scoped>\n",
              "    .dataframe tbody tr th:only-of-type {\n",
              "        vertical-align: middle;\n",
              "    }\n",
              "\n",
              "    .dataframe tbody tr th {\n",
              "        vertical-align: top;\n",
              "    }\n",
              "\n",
              "    .dataframe thead th {\n",
              "        text-align: right;\n",
              "    }\n",
              "</style>\n",
              "<table border=\"1\" class=\"dataframe\">\n",
              "  <thead>\n",
              "    <tr style=\"text-align: right;\">\n",
              "      <th></th>\n",
              "      <th>id</th>\n",
              "      <th>subreddit</th>\n",
              "      <th>title</th>\n",
              "      <th>content</th>\n",
              "      <th>thread_score</th>\n",
              "      <th>comment</th>\n",
              "      <th>comment_score</th>\n",
              "      <th>corrected_title</th>\n",
              "      <th>corrected_content</th>\n",
              "      <th>corrected_comment</th>\n",
              "    </tr>\n",
              "  </thead>\n",
              "  <tbody>\n",
              "    <tr>\n",
              "      <th>0</th>\n",
              "      <td>swijxe</td>\n",
              "      <td>mentalhealth</td>\n",
              "      <td>Once again...Schizophrenia Episodes Caught On Camera</td>\n",
              "      <td>I'm Michelle Hammer and I have Schizophrenia. I set up a security camera to record myself having schizophrenia psychosis episodes. In this video, I show 3 different episodes I had while sitting on...</td>\n",
              "      <td>1</td>\n",
              "      <td>Thank you for for sharing. A reminder: if you are seeking resources in your local area, please provide that in the post so that users can share appropriate links and phone numbers. *If you are in ...</td>\n",
              "      <td>1</td>\n",
              "      <td>once again schizophrenia episodes caught on camera</td>\n",
              "      <td>i am michelle hammer and i have schizophrenia i set up a security camera to record myself having schizophrenia psychosis episodes in this video i show different episodes i had while sitting on my ...</td>\n",
              "      <td>thank you for sharing a reminder if you are seeking resources in your local area please provide that in the post so that users can share appropriate links and phone numbers if you are in distress ...</td>\n",
              "    </tr>\n",
              "    <tr>\n",
              "      <th>1</th>\n",
              "      <td>swifud</td>\n",
              "      <td>mentalhealth</td>\n",
              "      <td>why does everything stress me out</td>\n",
              "      <td>literally nothing like deciding to hang out with my friend later will repeat in my head until i go insane. maybe even like getting one question wrong on a test will stay with me for hours on end. ...</td>\n",
              "      <td>1</td>\n",
              "      <td>Thank you for for sharing. A reminder: if you are seeking resources in your local area, please provide that in the post so that users can share appropriate links and phone numbers. *If you are in ...</td>\n",
              "      <td>1</td>\n",
              "      <td>why does everything stress me out</td>\n",
              "      <td>literally nothing like deciding to hang out with my friend later will repeat in my head until i go insane maybe even like getting one question wrong on a test will stay with me for hours on end in...</td>\n",
              "      <td>thank you for sharing a reminder if you are seeking resources in your local area please provide that in the post so that users can share appropriate links and phone numbers if you are in distress ...</td>\n",
              "    </tr>\n",
              "    <tr>\n",
              "      <th>2</th>\n",
              "      <td>swiepa</td>\n",
              "      <td>mentalhealth</td>\n",
              "      <td>I’ve got appointment with the early invention team this coming Monday</td>\n",
              "      <td>I’m wondering if I should write stuff down as been trying to get help for years now and don’t what to forget anything the other half of me is worried that if I do that they will think I’m exaggera...</td>\n",
              "      <td>1</td>\n",
              "      <td>Thank you for for sharing. A reminder: if you are seeking resources in your local area, please provide that in the post so that users can share appropriate links and phone numbers. *If you are in ...</td>\n",
              "      <td>1</td>\n",
              "      <td>i have got appointment with the early invention team this coming monday</td>\n",
              "      <td>i am wondering if i should write stuff down as been trying to get help for years now and do not what to forget anything the other half of me is worried that if i do that they will think i am exagg...</td>\n",
              "      <td>thank you for sharing a reminder if you are seeking resources in your local area please provide that in the post so that users can share appropriate links and phone numbers if you are in distress ...</td>\n",
              "    </tr>\n",
              "    <tr>\n",
              "      <th>3</th>\n",
              "      <td>swicrr</td>\n",
              "      <td>mentalhealth</td>\n",
              "      <td>Is there something wrong with me?</td>\n",
              "      <td>I'm a junior in high school and I haven't made one new friend in my entire time here. No one's ever approached me and tried to talk to me unless they were just asking a work related question. I've...</td>\n",
              "      <td>2</td>\n",
              "      <td>Thank you for for sharing. A reminder: if you are seeking resources in your local area, please provide that in the post so that users can share appropriate links and phone numbers. *If you are in ...</td>\n",
              "      <td>1</td>\n",
              "      <td>is there something wrong with me</td>\n",
              "      <td>i am a junior in high school and i have not made one new friend in my entire time here no one ever approached me and tried to talk to me unless they were just asking a work related question i have...</td>\n",
              "      <td>thank you for sharing a reminder if you are seeking resources in your local area please provide that in the post so that users can share appropriate links and phone numbers if you are in distress ...</td>\n",
              "    </tr>\n",
              "    <tr>\n",
              "      <th>4</th>\n",
              "      <td>swicrr</td>\n",
              "      <td>mentalhealth</td>\n",
              "      <td>Is there something wrong with me?</td>\n",
              "      <td>I'm a junior in high school and I haven't made one new friend in my entire time here. No one's ever approached me and tried to talk to me unless they were just asking a work related question. I've...</td>\n",
              "      <td>2</td>\n",
              "      <td>i don’t think there’s anything wrong with you.\\nhighschool is brutal.\\nthat’s the just of it, highschool sucks.\\nif you don’t have any friends heading into highschool, you will have a difficult ti...</td>\n",
              "      <td>2</td>\n",
              "      <td>is there something wrong with me</td>\n",
              "      <td>i am a junior in high school and i have not made one new friend in my entire time here no one ever approached me and tried to talk to me unless they were just asking a work related question i have...</td>\n",
              "      <td>i do not think there is anything wrong with you highschool is brutal that is the just of it highschool sucks if you do not have any friends heading into highschool you will have a difficult time m...</td>\n",
              "    </tr>\n",
              "    <tr>\n",
              "      <th>...</th>\n",
              "      <td>...</td>\n",
              "      <td>...</td>\n",
              "      <td>...</td>\n",
              "      <td>...</td>\n",
              "      <td>...</td>\n",
              "      <td>...</td>\n",
              "      <td>...</td>\n",
              "      <td>...</td>\n",
              "      <td>...</td>\n",
              "      <td>...</td>\n",
              "    </tr>\n",
              "    <tr>\n",
              "      <th>28623</th>\n",
              "      <td>sjvfj1</td>\n",
              "      <td>selfimprovement</td>\n",
              "      <td>I am scared of making mistakes to the point I avoid the possibily of making them.</td>\n",
              "      <td>This is my biggest problem in life. All my years I've been programmed to the mindset that making mistakes are bad, and that you have to be perfect. I now know, deep inside, that thats not true, bu...</td>\n",
              "      <td>197</td>\n",
              "      <td>Hello my friend,\\n\\n1st and foremost: \\n\\nYou are valuing yourself and others too much based on \"brain capacity.\" **Being \"smart\" is a nice thing, but it is not an essential thing**. Essentials ar...</td>\n",
              "      <td>1</td>\n",
              "      <td>i am scared of making mistakes to the point i avoid the possibily of making them</td>\n",
              "      <td>this is my biggest problem in life all my years i have been programmed to the mindset that making mistakes are bad and that you have to be perfect i now know deep inside that thats not true but ma...</td>\n",
              "      <td>hello my friend it and foremost you are valuing yourself and others too much based on brain capacity being smart is a nice thing but it is not an essential thing essentials are being trustworthy k...</td>\n",
              "    </tr>\n",
              "    <tr>\n",
              "      <th>28624</th>\n",
              "      <td>sjvfj1</td>\n",
              "      <td>selfimprovement</td>\n",
              "      <td>I am scared of making mistakes to the point I avoid the possibily of making them.</td>\n",
              "      <td>This is my biggest problem in life. All my years I've been programmed to the mindset that making mistakes are bad, and that you have to be perfect. I now know, deep inside, that thats not true, bu...</td>\n",
              "      <td>197</td>\n",
              "      <td>It’s very difficult to feel stuck and not know how to proceed. I follow the works of the holistic psychologist on ig for analysis on trauma reactions and inner child works. Hope it helps.</td>\n",
              "      <td>1</td>\n",
              "      <td>i am scared of making mistakes to the point i avoid the possibily of making them</td>\n",
              "      <td>this is my biggest problem in life all my years i have been programmed to the mindset that making mistakes are bad and that you have to be perfect i now know deep inside that thats not true but ma...</td>\n",
              "      <td>its very difficult to feel stuck and not know how to proceed i follow the works of the holistic psychologist on ig for analysis on trauma reactions and inner child works hope it helps</td>\n",
              "    </tr>\n",
              "    <tr>\n",
              "      <th>28625</th>\n",
              "      <td>sjvfj1</td>\n",
              "      <td>selfimprovement</td>\n",
              "      <td>I am scared of making mistakes to the point I avoid the possibily of making them.</td>\n",
              "      <td>This is my biggest problem in life. All my years I've been programmed to the mindset that making mistakes are bad, and that you have to be perfect. I now know, deep inside, that thats not true, bu...</td>\n",
              "      <td>197</td>\n",
              "      <td>Welcome to the club</td>\n",
              "      <td>1</td>\n",
              "      <td>i am scared of making mistakes to the point i avoid the possibily of making them</td>\n",
              "      <td>this is my biggest problem in life all my years i have been programmed to the mindset that making mistakes are bad and that you have to be perfect i now know deep inside that thats not true but ma...</td>\n",
              "      <td>welcome to the club</td>\n",
              "    </tr>\n",
              "    <tr>\n",
              "      <th>28626</th>\n",
              "      <td>sjvfj1</td>\n",
              "      <td>selfimprovement</td>\n",
              "      <td>I am scared of making mistakes to the point I avoid the possibily of making them.</td>\n",
              "      <td>This is my biggest problem in life. All my years I've been programmed to the mindset that making mistakes are bad, and that you have to be perfect. I now know, deep inside, that thats not true, bu...</td>\n",
              "      <td>197</td>\n",
              "      <td>Baseball - Do you know how often the greatest batters actually hit the ball? They miss far more than they connect and yet they get paid to do it. At one time they hit the ball even less than what ...</td>\n",
              "      <td>1</td>\n",
              "      <td>i am scared of making mistakes to the point i avoid the possibily of making them</td>\n",
              "      <td>this is my biggest problem in life all my years i have been programmed to the mindset that making mistakes are bad and that you have to be perfect i now know deep inside that thats not true but ma...</td>\n",
              "      <td>baseball do you know how often the greatest batters actually hit the ball they miss far more than they connect and yet they get paid to do it at one time they hit the ball even less than what they...</td>\n",
              "    </tr>\n",
              "    <tr>\n",
              "      <th>28627</th>\n",
              "      <td>sjvfj1</td>\n",
              "      <td>selfimprovement</td>\n",
              "      <td>I am scared of making mistakes to the point I avoid the possibily of making them.</td>\n",
              "      <td>This is my biggest problem in life. All my years I've been programmed to the mindset that making mistakes are bad, and that you have to be perfect. I now know, deep inside, that thats not true, bu...</td>\n",
              "      <td>197</td>\n",
              "      <td>For starters, I’m the same. You’re not alone.</td>\n",
              "      <td>1</td>\n",
              "      <td>i am scared of making mistakes to the point i avoid the possibily of making them</td>\n",
              "      <td>this is my biggest problem in life all my years i have been programmed to the mindset that making mistakes are bad and that you have to be perfect i now know deep inside that thats not true but ma...</td>\n",
              "      <td>for starters i am the same youre not alone</td>\n",
              "    </tr>\n",
              "  </tbody>\n",
              "</table>\n",
              "<p>28628 rows × 10 columns</p>\n",
              "</div>\n",
              "      <button class=\"colab-df-convert\" onclick=\"convertToInteractive('df-8f7326d0-2e0f-4298-bc2b-a5c8c491a9fd')\"\n",
              "              title=\"Convert this dataframe to an interactive table.\"\n",
              "              style=\"display:none;\">\n",
              "        \n",
              "  <svg xmlns=\"http://www.w3.org/2000/svg\" height=\"24px\"viewBox=\"0 0 24 24\"\n",
              "       width=\"24px\">\n",
              "    <path d=\"M0 0h24v24H0V0z\" fill=\"none\"/>\n",
              "    <path d=\"M18.56 5.44l.94 2.06.94-2.06 2.06-.94-2.06-.94-.94-2.06-.94 2.06-2.06.94zm-11 1L8.5 8.5l.94-2.06 2.06-.94-2.06-.94L8.5 2.5l-.94 2.06-2.06.94zm10 10l.94 2.06.94-2.06 2.06-.94-2.06-.94-.94-2.06-.94 2.06-2.06.94z\"/><path d=\"M17.41 7.96l-1.37-1.37c-.4-.4-.92-.59-1.43-.59-.52 0-1.04.2-1.43.59L10.3 9.45l-7.72 7.72c-.78.78-.78 2.05 0 2.83L4 21.41c.39.39.9.59 1.41.59.51 0 1.02-.2 1.41-.59l7.78-7.78 2.81-2.81c.8-.78.8-2.07 0-2.86zM5.41 20L4 18.59l7.72-7.72 1.47 1.35L5.41 20z\"/>\n",
              "  </svg>\n",
              "      </button>\n",
              "      \n",
              "  <style>\n",
              "    .colab-df-container {\n",
              "      display:flex;\n",
              "      flex-wrap:wrap;\n",
              "      gap: 12px;\n",
              "    }\n",
              "\n",
              "    .colab-df-convert {\n",
              "      background-color: #E8F0FE;\n",
              "      border: none;\n",
              "      border-radius: 50%;\n",
              "      cursor: pointer;\n",
              "      display: none;\n",
              "      fill: #1967D2;\n",
              "      height: 32px;\n",
              "      padding: 0 0 0 0;\n",
              "      width: 32px;\n",
              "    }\n",
              "\n",
              "    .colab-df-convert:hover {\n",
              "      background-color: #E2EBFA;\n",
              "      box-shadow: 0px 1px 2px rgba(60, 64, 67, 0.3), 0px 1px 3px 1px rgba(60, 64, 67, 0.15);\n",
              "      fill: #174EA6;\n",
              "    }\n",
              "\n",
              "    [theme=dark] .colab-df-convert {\n",
              "      background-color: #3B4455;\n",
              "      fill: #D2E3FC;\n",
              "    }\n",
              "\n",
              "    [theme=dark] .colab-df-convert:hover {\n",
              "      background-color: #434B5C;\n",
              "      box-shadow: 0px 1px 3px 1px rgba(0, 0, 0, 0.15);\n",
              "      filter: drop-shadow(0px 1px 2px rgba(0, 0, 0, 0.3));\n",
              "      fill: #FFFFFF;\n",
              "    }\n",
              "  </style>\n",
              "\n",
              "      <script>\n",
              "        const buttonEl =\n",
              "          document.querySelector('#df-8f7326d0-2e0f-4298-bc2b-a5c8c491a9fd button.colab-df-convert');\n",
              "        buttonEl.style.display =\n",
              "          google.colab.kernel.accessAllowed ? 'block' : 'none';\n",
              "\n",
              "        async function convertToInteractive(key) {\n",
              "          const element = document.querySelector('#df-8f7326d0-2e0f-4298-bc2b-a5c8c491a9fd');\n",
              "          const dataTable =\n",
              "            await google.colab.kernel.invokeFunction('convertToInteractive',\n",
              "                                                     [key], {});\n",
              "          if (!dataTable) return;\n",
              "\n",
              "          const docLinkHtml = 'Like what you see? Visit the ' +\n",
              "            '<a target=\"_blank\" href=https://colab.research.google.com/notebooks/data_table.ipynb>data table notebook</a>'\n",
              "            + ' to learn more about interactive tables.';\n",
              "          element.innerHTML = '';\n",
              "          dataTable['output_type'] = 'display_data';\n",
              "          await google.colab.output.renderOutput(dataTable, element);\n",
              "          const docLink = document.createElement('div');\n",
              "          docLink.innerHTML = docLinkHtml;\n",
              "          element.appendChild(docLink);\n",
              "        }\n",
              "      </script>\n",
              "    </div>\n",
              "  </div>\n",
              "  "
            ],
            "text/plain": [
              "           id        subreddit  \\\n",
              "0      swijxe     mentalhealth   \n",
              "1      swifud     mentalhealth   \n",
              "2      swiepa     mentalhealth   \n",
              "3      swicrr     mentalhealth   \n",
              "4      swicrr     mentalhealth   \n",
              "...       ...              ...   \n",
              "28623  sjvfj1  selfimprovement   \n",
              "28624  sjvfj1  selfimprovement   \n",
              "28625  sjvfj1  selfimprovement   \n",
              "28626  sjvfj1  selfimprovement   \n",
              "28627  sjvfj1  selfimprovement   \n",
              "\n",
              "                                                                                   title  \\\n",
              "0                                   Once again...Schizophrenia Episodes Caught On Camera   \n",
              "1                                                      why does everything stress me out   \n",
              "2                  I’ve got appointment with the early invention team this coming Monday   \n",
              "3                                                      Is there something wrong with me?   \n",
              "4                                                      Is there something wrong with me?   \n",
              "...                                                                                  ...   \n",
              "28623  I am scared of making mistakes to the point I avoid the possibily of making them.   \n",
              "28624  I am scared of making mistakes to the point I avoid the possibily of making them.   \n",
              "28625  I am scared of making mistakes to the point I avoid the possibily of making them.   \n",
              "28626  I am scared of making mistakes to the point I avoid the possibily of making them.   \n",
              "28627  I am scared of making mistakes to the point I avoid the possibily of making them.   \n",
              "\n",
              "                                                                                                                                                                                                       content  \\\n",
              "0      I'm Michelle Hammer and I have Schizophrenia. I set up a security camera to record myself having schizophrenia psychosis episodes. In this video, I show 3 different episodes I had while sitting on...   \n",
              "1      literally nothing like deciding to hang out with my friend later will repeat in my head until i go insane. maybe even like getting one question wrong on a test will stay with me for hours on end. ...   \n",
              "2      I’m wondering if I should write stuff down as been trying to get help for years now and don’t what to forget anything the other half of me is worried that if I do that they will think I’m exaggera...   \n",
              "3      I'm a junior in high school and I haven't made one new friend in my entire time here. No one's ever approached me and tried to talk to me unless they were just asking a work related question. I've...   \n",
              "4      I'm a junior in high school and I haven't made one new friend in my entire time here. No one's ever approached me and tried to talk to me unless they were just asking a work related question. I've...   \n",
              "...                                                                                                                                                                                                        ...   \n",
              "28623  This is my biggest problem in life. All my years I've been programmed to the mindset that making mistakes are bad, and that you have to be perfect. I now know, deep inside, that thats not true, bu...   \n",
              "28624  This is my biggest problem in life. All my years I've been programmed to the mindset that making mistakes are bad, and that you have to be perfect. I now know, deep inside, that thats not true, bu...   \n",
              "28625  This is my biggest problem in life. All my years I've been programmed to the mindset that making mistakes are bad, and that you have to be perfect. I now know, deep inside, that thats not true, bu...   \n",
              "28626  This is my biggest problem in life. All my years I've been programmed to the mindset that making mistakes are bad, and that you have to be perfect. I now know, deep inside, that thats not true, bu...   \n",
              "28627  This is my biggest problem in life. All my years I've been programmed to the mindset that making mistakes are bad, and that you have to be perfect. I now know, deep inside, that thats not true, bu...   \n",
              "\n",
              "       thread_score  \\\n",
              "0                 1   \n",
              "1                 1   \n",
              "2                 1   \n",
              "3                 2   \n",
              "4                 2   \n",
              "...             ...   \n",
              "28623           197   \n",
              "28624           197   \n",
              "28625           197   \n",
              "28626           197   \n",
              "28627           197   \n",
              "\n",
              "                                                                                                                                                                                                       comment  \\\n",
              "0      Thank you for for sharing. A reminder: if you are seeking resources in your local area, please provide that in the post so that users can share appropriate links and phone numbers. *If you are in ...   \n",
              "1      Thank you for for sharing. A reminder: if you are seeking resources in your local area, please provide that in the post so that users can share appropriate links and phone numbers. *If you are in ...   \n",
              "2      Thank you for for sharing. A reminder: if you are seeking resources in your local area, please provide that in the post so that users can share appropriate links and phone numbers. *If you are in ...   \n",
              "3      Thank you for for sharing. A reminder: if you are seeking resources in your local area, please provide that in the post so that users can share appropriate links and phone numbers. *If you are in ...   \n",
              "4      i don’t think there’s anything wrong with you.\\nhighschool is brutal.\\nthat’s the just of it, highschool sucks.\\nif you don’t have any friends heading into highschool, you will have a difficult ti...   \n",
              "...                                                                                                                                                                                                        ...   \n",
              "28623  Hello my friend,\\n\\n1st and foremost: \\n\\nYou are valuing yourself and others too much based on \"brain capacity.\" **Being \"smart\" is a nice thing, but it is not an essential thing**. Essentials ar...   \n",
              "28624              It’s very difficult to feel stuck and not know how to proceed. I follow the works of the holistic psychologist on ig for analysis on trauma reactions and inner child works. Hope it helps.   \n",
              "28625                                                                                                                                                                                      Welcome to the club   \n",
              "28626  Baseball - Do you know how often the greatest batters actually hit the ball? They miss far more than they connect and yet they get paid to do it. At one time they hit the ball even less than what ...   \n",
              "28627                                                                                                                                                            For starters, I’m the same. You’re not alone.   \n",
              "\n",
              "       comment_score  \\\n",
              "0                  1   \n",
              "1                  1   \n",
              "2                  1   \n",
              "3                  1   \n",
              "4                  2   \n",
              "...              ...   \n",
              "28623              1   \n",
              "28624              1   \n",
              "28625              1   \n",
              "28626              1   \n",
              "28627              1   \n",
              "\n",
              "                                                                        corrected_title  \\\n",
              "0                                    once again schizophrenia episodes caught on camera   \n",
              "1                                                     why does everything stress me out   \n",
              "2               i have got appointment with the early invention team this coming monday   \n",
              "3                                                      is there something wrong with me   \n",
              "4                                                      is there something wrong with me   \n",
              "...                                                                                 ...   \n",
              "28623  i am scared of making mistakes to the point i avoid the possibily of making them   \n",
              "28624  i am scared of making mistakes to the point i avoid the possibily of making them   \n",
              "28625  i am scared of making mistakes to the point i avoid the possibily of making them   \n",
              "28626  i am scared of making mistakes to the point i avoid the possibily of making them   \n",
              "28627  i am scared of making mistakes to the point i avoid the possibily of making them   \n",
              "\n",
              "                                                                                                                                                                                             corrected_content  \\\n",
              "0      i am michelle hammer and i have schizophrenia i set up a security camera to record myself having schizophrenia psychosis episodes in this video i show different episodes i had while sitting on my ...   \n",
              "1      literally nothing like deciding to hang out with my friend later will repeat in my head until i go insane maybe even like getting one question wrong on a test will stay with me for hours on end in...   \n",
              "2      i am wondering if i should write stuff down as been trying to get help for years now and do not what to forget anything the other half of me is worried that if i do that they will think i am exagg...   \n",
              "3      i am a junior in high school and i have not made one new friend in my entire time here no one ever approached me and tried to talk to me unless they were just asking a work related question i have...   \n",
              "4      i am a junior in high school and i have not made one new friend in my entire time here no one ever approached me and tried to talk to me unless they were just asking a work related question i have...   \n",
              "...                                                                                                                                                                                                        ...   \n",
              "28623  this is my biggest problem in life all my years i have been programmed to the mindset that making mistakes are bad and that you have to be perfect i now know deep inside that thats not true but ma...   \n",
              "28624  this is my biggest problem in life all my years i have been programmed to the mindset that making mistakes are bad and that you have to be perfect i now know deep inside that thats not true but ma...   \n",
              "28625  this is my biggest problem in life all my years i have been programmed to the mindset that making mistakes are bad and that you have to be perfect i now know deep inside that thats not true but ma...   \n",
              "28626  this is my biggest problem in life all my years i have been programmed to the mindset that making mistakes are bad and that you have to be perfect i now know deep inside that thats not true but ma...   \n",
              "28627  this is my biggest problem in life all my years i have been programmed to the mindset that making mistakes are bad and that you have to be perfect i now know deep inside that thats not true but ma...   \n",
              "\n",
              "                                                                                                                                                                                             corrected_comment  \n",
              "0      thank you for sharing a reminder if you are seeking resources in your local area please provide that in the post so that users can share appropriate links and phone numbers if you are in distress ...  \n",
              "1      thank you for sharing a reminder if you are seeking resources in your local area please provide that in the post so that users can share appropriate links and phone numbers if you are in distress ...  \n",
              "2      thank you for sharing a reminder if you are seeking resources in your local area please provide that in the post so that users can share appropriate links and phone numbers if you are in distress ...  \n",
              "3      thank you for sharing a reminder if you are seeking resources in your local area please provide that in the post so that users can share appropriate links and phone numbers if you are in distress ...  \n",
              "4      i do not think there is anything wrong with you highschool is brutal that is the just of it highschool sucks if you do not have any friends heading into highschool you will have a difficult time m...  \n",
              "...                                                                                                                                                                                                        ...  \n",
              "28623  hello my friend it and foremost you are valuing yourself and others too much based on brain capacity being smart is a nice thing but it is not an essential thing essentials are being trustworthy k...  \n",
              "28624                  its very difficult to feel stuck and not know how to proceed i follow the works of the holistic psychologist on ig for analysis on trauma reactions and inner child works hope it helps  \n",
              "28625                                                                                                                                                                                      welcome to the club  \n",
              "28626  baseball do you know how often the greatest batters actually hit the ball they miss far more than they connect and yet they get paid to do it at one time they hit the ball even less than what they...  \n",
              "28627                                                                                                                                                               for starters i am the same youre not alone  \n",
              "\n",
              "[28628 rows x 10 columns]"
            ]
          },
          "metadata": {},
          "execution_count": 71
        }
      ]
    },
    {
      "cell_type": "markdown",
      "source": [
        "### (L) Restore Punctuations"
      ],
      "metadata": {
        "id": "FLA7M4yO9kmd"
      }
    },
    {
      "cell_type": "markdown",
      "source": [
        "***Remove the unnecessary columns***"
      ],
      "metadata": {
        "id": "2m8MtWzb9RvF"
      }
    },
    {
      "cell_type": "code",
      "source": [
        "posts_df.drop(columns=['title', 'content', 'comment'], inplace=True)"
      ],
      "metadata": {
        "id": "u__Zn_WB9RvH"
      },
      "execution_count": null,
      "outputs": []
    },
    {
      "cell_type": "markdown",
      "source": [
        "#### Theano"
      ],
      "metadata": {
        "id": "6O6pgYyb9KqZ"
      }
    },
    {
      "cell_type": "code",
      "source": [
        "# punc = Punctuator('Punctuator/INTERSPEECH-T-BRNN.pcl')"
      ],
      "metadata": {
        "id": "3hRPFG1qiOr4",
        "colab": {
          "base_uri": "https://localhost:8080/"
        },
        "outputId": "6661b841-37f5-46a9-c332-eadc94f518c3"
      },
      "execution_count": null,
      "outputs": [
        {
          "output_type": "stream",
          "name": "stderr",
          "text": [
            "WARNING (theano.tensor.blas): We did not find a dynamic library in the library_dir of the library we use for blas. If you use ATLAS, make sure to compile it with dynamics library.\n",
            "WARNING:theano.tensor.blas:We did not find a dynamic library in the library_dir of the library we use for blas. If you use ATLAS, make sure to compile it with dynamics library.\n",
            "WARNING (theano.tensor.blas): We did not find a dynamic library in the library_dir of the library we use for blas. If you use ATLAS, make sure to compile it with dynamics library.\n",
            "WARNING:theano.tensor.blas:We did not find a dynamic library in the library_dir of the library we use for blas. If you use ATLAS, make sure to compile it with dynamics library.\n"
          ]
        }
      ]
    },
    {
      "cell_type": "code",
      "source": [
        "# def restore_punc(text: Text) -> Text:\n",
        "#   if text != ' ':\n",
        "#     return punc.punctuate(text)\n",
        "#   return text"
      ],
      "metadata": {
        "id": "F-WpQy289oid"
      },
      "execution_count": null,
      "outputs": []
    },
    {
      "cell_type": "code",
      "source": [
        "# posts_df['corrected_title'][1944]"
      ],
      "metadata": {
        "id": "SInk8LdgezRP",
        "colab": {
          "base_uri": "https://localhost:8080/",
          "height": 36
        },
        "outputId": "309ab67f-0449-46ac-ac77-95caef07b6c4"
      },
      "execution_count": null,
      "outputs": [
        {
          "output_type": "execute_result",
          "data": {
            "application/vnd.google.colaboratory.intrinsic+json": {
              "type": "string"
            },
            "text/plain": [
              "'i am probably blocked by more people than most'"
            ]
          },
          "metadata": {},
          "execution_count": 75
        }
      ]
    },
    {
      "cell_type": "code",
      "source": [
        "# punc.punctuate(posts_df['corrected_title'][1944])"
      ],
      "metadata": {
        "id": "kZEfZcoxXB10",
        "colab": {
          "base_uri": "https://localhost:8080/",
          "height": 36
        },
        "outputId": "55bc8c99-388c-4d49-c0d9-a7ea9617728c"
      },
      "execution_count": null,
      "outputs": [
        {
          "output_type": "execute_result",
          "data": {
            "application/vnd.google.colaboratory.intrinsic+json": {
              "type": "string"
            },
            "text/plain": [
              "'I am probably blocked by more people than most.'"
            ]
          },
          "metadata": {},
          "execution_count": 76
        }
      ]
    },
    {
      "cell_type": "markdown",
      "source": [
        "#### Tokens"
      ],
      "metadata": {
        "id": "faL7ZeZu9OTO"
      }
    },
    {
      "cell_type": "code",
      "source": [
        "class AutoPunctuator:\n",
        "\n",
        "  @classmethod\n",
        "  def __config(cls):\n",
        "    args = InferenceArguments(\n",
        "                  model_name_or_path=\"Qishuai/distilbert_punctuator_en\",\n",
        "                  tokenizer_name=\"Qishuai/distilbert_punctuator_en\",\n",
        "                  tag2punctuator=DEFAULT_ENGLISH_TAG_PUNCTUATOR_MAP,\n",
        "    )\n",
        "    inference = Inference(inference_args=args, verbose=False)\n",
        "    return inference\n",
        "  \n",
        "  @staticmethod\n",
        "  def _batching_series(series: pd.DataFrame, batch_size: int) -> List[List[Text]]:\n",
        "    series = series.tolist()\n",
        "    return [series[i:i + batch_size] \n",
        "            for i in range(0, len(series), batch_size)]\n",
        "  \n",
        "  def __init__(self,\n",
        "               dataframe: pd.DataFrame,\n",
        "               series_batch_size: int) -> None:\n",
        "\n",
        "    self.inference = AutoPunctuator.__config()\n",
        "    self.dataframe = dataframe\n",
        "    self.batch_size = series_batch_size\n",
        "    self.container = []\n",
        "\n",
        "  def punctuation(self, column_name: Text, text_len: int) -> pd.DataFrame:\n",
        "    batches = AutoPunctuator._batching_series(self.dataframe[column_name],\n",
        "                                              self.batch_size)\n",
        "    print(' Auto Recover Punctuator '.center(100, '='))\n",
        "    for batch in tqdm(batches, desc=f'Punctuation recovery for [{column_name}]'):\n",
        "      try:\n",
        "        self.container.append(\n",
        "            self.inference.punctuation(batch)[0]\n",
        "        )\n",
        "      except TypeError:\n",
        "        print('Issue with the server conversion or you have an issue with the dataset: Length of the sentence or an empty string.')\n",
        "        print('Wating for response... [10 secs]')\n",
        "        time.sleep(10)\n",
        "        print('Re-insert the batch...')\n",
        "        try:\n",
        "          self.container.append(\n",
        "              self.inference.punctuation(batch)[0]\n",
        "          )\n",
        "          print('Sucessfully inserted the batch!')\n",
        "        except TypeError:\n",
        "          print('Issue with the dataset')\n",
        "          print('Insert None for the recent batch...')\n",
        "          self.container.append([None])\n",
        "          print('Sucessfully inserted the None!')\n",
        "\n",
        "      if text_len >= 200:\n",
        "        time.sleep(0.5)\n",
        "      else:\n",
        "        time.sleep(0.1)\n",
        "\n",
        "    print(' Building the New Dataframe '.center(50, '+'))\n",
        "    # concatenate all the mini-batches\n",
        "    flatten = [val for sublist in self.container for val in sublist]\n",
        "    dataset = pd.DataFrame({column_name: flatten})\n",
        "    print(' Done Punctuation Recovery! '.center(100, '='))\n",
        "\n",
        "    self.container.clear()\n",
        "    \n",
        "    return dataset"
      ],
      "metadata": {
        "id": "30kkTRgZGW6d"
      },
      "execution_count": null,
      "outputs": []
    },
    {
      "cell_type": "code",
      "source": [
        "punc = AutoPunctuator(posts_df, 1)"
      ],
      "metadata": {
        "colab": {
          "base_uri": "https://localhost:8080/"
        },
        "id": "14pYSWjFA3rB",
        "outputId": "c315bf93-f54d-4366-a3dc-0d128b97466a"
      },
      "execution_count": null,
      "outputs": [
        {
          "output_type": "stream",
          "name": "stderr",
          "text": [
            "2022-03-05 10:37:42,725 - \u001b[32mINFO\u001b[0m - inference_interface.py:75 - inference_interface._produce_server - 4374 - set up punctuator\n",
            "2022-03-05 10:37:48,518 - \u001b[32mINFO\u001b[0m - inference_interface.py:88 - inference_interface._produce_server - 4374 - start running punctuator\n",
            "2022-03-05 10:37:49,982 - \u001b[32mINFO\u001b[0m - inference_interface.py:91 - inference_interface._produce_server - 4374 - start client\n"
          ]
        }
      ]
    },
    {
      "cell_type": "code",
      "source": [
        "posts_df['punc_corrected_title'] = punc.punctuation('corrected_title', 100)"
      ],
      "metadata": {
        "colab": {
          "base_uri": "https://localhost:8080/",
          "height": 104,
          "referenced_widgets": [
            "991064ed46b74a0c89f1ed7eb6af992f",
            "5fe5af65232c4bd2834d459648be858a",
            "7e7a0d95fc4745e98b7f4c5b248a1e4c",
            "7368a5fdbc9846249ffb8af3a398afc8",
            "8dbbdc286d2742beada9362894113039",
            "12f7e5b6bec64b05b73f62d077512a9c",
            "ed489cbf53f1405192457ff5c5feca46",
            "f8cd448fb22f4b80b9479ae8243be2c5",
            "29dfcb44d78246adb21f3d9403fa4870",
            "8e74a8d8ef3d402fb581f2aec14392d2",
            "ff014df8606a47009b9eaaf4618fc5ba"
          ]
        },
        "id": "gKdrT3_jGlRs",
        "outputId": "8754c28e-50be-4d5a-dff7-32b68d9b18d9"
      },
      "execution_count": null,
      "outputs": [
        {
          "output_type": "stream",
          "name": "stdout",
          "text": [
            "===================================== Auto Recover Punctuator ======================================\n"
          ]
        },
        {
          "output_type": "display_data",
          "data": {
            "application/vnd.jupyter.widget-view+json": {
              "model_id": "991064ed46b74a0c89f1ed7eb6af992f",
              "version_minor": 0,
              "version_major": 2
            },
            "text/plain": [
              "Punctuation recovery for [corrected_title]:   0%|          | 0/28628 [00:00<?, ?it/s]"
            ]
          },
          "metadata": {}
        },
        {
          "output_type": "stream",
          "name": "stdout",
          "text": [
            "+++++++++++ Building the New Dataframe +++++++++++\n",
            "==================================== Done Punctuation Recovery! ====================================\n"
          ]
        }
      ]
    },
    {
      "cell_type": "code",
      "source": [
        "time.sleep(10)"
      ],
      "metadata": {
        "id": "a7HEXwRepF1e"
      },
      "execution_count": null,
      "outputs": []
    },
    {
      "cell_type": "code",
      "source": [
        "posts_df['punc_corrected_content'] = punc.punctuation('corrected_content', 150)"
      ],
      "metadata": {
        "colab": {
          "base_uri": "https://localhost:8080/",
          "height": 104,
          "referenced_widgets": [
            "ae3fca7dc208451786204212f3b1e684",
            "dd71e1ac2ab14472b1191d0a21ddac87",
            "2213eac9d8dc41828699116df9ff3469",
            "2d001c35161647fab0f3aeb67970ad0e",
            "9aecdbf1f6fa4311b0facbfcfa6ae5f9",
            "faa62088f07a45d19f5b414155fb900f",
            "e267a451832f49c092844d3d54cee81f",
            "075a9c2909434ef7bacd63f2b87a99d5",
            "fe91707318604341beaedd69433fbe73",
            "92fe4393407a41868c56876fe5afe077",
            "3e55042321b54fbcbbe4d0819c472cbd"
          ]
        },
        "id": "NQSQhsZ6O3sh",
        "outputId": "43e686c5-3cff-41d8-e518-b0911bd58a5c"
      },
      "execution_count": null,
      "outputs": [
        {
          "output_type": "stream",
          "name": "stdout",
          "text": [
            "===================================== Auto Recover Punctuator ======================================\n"
          ]
        },
        {
          "output_type": "display_data",
          "data": {
            "application/vnd.jupyter.widget-view+json": {
              "model_id": "ae3fca7dc208451786204212f3b1e684",
              "version_minor": 0,
              "version_major": 2
            },
            "text/plain": [
              "Punctuation recovery for [corrected_content]:   0%|          | 0/28628 [00:00<?, ?it/s]"
            ]
          },
          "metadata": {}
        },
        {
          "output_type": "stream",
          "name": "stdout",
          "text": [
            "+++++++++++ Building the New Dataframe +++++++++++\n",
            "==================================== Done Punctuation Recovery! ====================================\n"
          ]
        }
      ]
    },
    {
      "cell_type": "code",
      "source": [
        "time.sleep(10)"
      ],
      "metadata": {
        "id": "T23S1VpKpHrt"
      },
      "execution_count": null,
      "outputs": []
    },
    {
      "cell_type": "code",
      "source": [
        "posts_df['punc_corrected_comment'] = punc.punctuation('corrected_comment', 150)"
      ],
      "metadata": {
        "colab": {
          "base_uri": "https://localhost:8080/",
          "height": 104,
          "referenced_widgets": [
            "17c28d45cb8543738855844a3e8717c1",
            "1c6638afccd2463b8b5eb9cb2d772c5d",
            "4d71948448874742abd96c143573aca6",
            "d08897ca70ca430494ff58fb70bed6d7",
            "54a367a4286c44c5a3bc5ab79816a724",
            "282781268d904ad7a720bde75d1f636f",
            "624a99e6921d491a8a3116ce4dcbf313",
            "f2a9f0e4595e4280a43f10d0cac8c7c1",
            "524685b4537047cf88c5569b9a8bb69a",
            "44a2acf84efc4e168529bb38bff59132",
            "828bbcaa7e2a40f4b7ea6d161d7e1952"
          ]
        },
        "id": "p9aWGWWWOptZ",
        "outputId": "562584b9-5cb1-4f86-fcc5-063cb1d09190"
      },
      "execution_count": null,
      "outputs": [
        {
          "output_type": "stream",
          "name": "stdout",
          "text": [
            "===================================== Auto Recover Punctuator ======================================\n"
          ]
        },
        {
          "output_type": "display_data",
          "data": {
            "application/vnd.jupyter.widget-view+json": {
              "model_id": "17c28d45cb8543738855844a3e8717c1",
              "version_minor": 0,
              "version_major": 2
            },
            "text/plain": [
              "Punctuation recovery for [corrected_comment]:   0%|          | 0/28628 [00:00<?, ?it/s]"
            ]
          },
          "metadata": {}
        },
        {
          "output_type": "stream",
          "name": "stdout",
          "text": [
            "+++++++++++ Building the New Dataframe +++++++++++\n",
            "==================================== Done Punctuation Recovery! ====================================\n"
          ]
        }
      ]
    },
    {
      "cell_type": "markdown",
      "source": [
        "### Lemmatization"
      ],
      "metadata": {
        "id": "TGJRE8bcOZ8R"
      }
    },
    {
      "cell_type": "code",
      "source": [
        "# nltk.download('wordnet')\n",
        "# nltk.download('averaged_perceptron_tagger')"
      ],
      "metadata": {
        "id": "EOlLKkOaB6DT"
      },
      "execution_count": null,
      "outputs": []
    },
    {
      "cell_type": "code",
      "source": [
        "# lemmatizer = WordNetLemmatizer()\n",
        "# wordnet_map = {'N': wordnet.NOUN, 'V': wordnet.VERB, 'J': wordnet.ADJ, 'R': wordnet.ADJ}\n",
        "# def adjusted_lemmatizer(text: Text) -> Text:\n",
        "#     # Split the snetence into words and each word with its type\n",
        "#     pos_tagged_text = nltk.pos_tag(text.split())\n",
        "#     return \" \".join([lemmatizer.lemmatize(word, wordnet_map.get(pos[0], wordnet.NOUN))\n",
        "#                      for word, pos in pos_tagged_text])"
      ],
      "metadata": {
        "id": "PN3-oXMPOeKG"
      },
      "execution_count": null,
      "outputs": []
    },
    {
      "cell_type": "code",
      "source": [
        "# posts_df['title_lemmatized'] = posts_df['corrected_title'].parallel_apply(lambda sentence: adjusted_lemmatizer(sentence))\n",
        "# posts_df['content_lemmatized'] = posts_df['corrected_content'].parallel_apply(lambda sentence: adjusted_lemmatizer(sentence))\n",
        "# posts_df['comment_lemmatized'] = posts_df['corrected_comment'].parallel_apply(lambda sentence: adjusted_lemmatizer(sentence))"
      ],
      "metadata": {
        "id": "r3gQRs80B-8g"
      },
      "execution_count": null,
      "outputs": []
    },
    {
      "cell_type": "code",
      "source": [
        "# posts_df['title_lemmatized'] = posts_df['title_lemmatized'].str.replace(r\"(\\s[\\w^iIaA]\\s)|(\\s[\\w\\s\\w^iIaA]\\s)|(\\s[^iIaA]$)\",\n",
        "#                                                   ' ', regex=True)\n",
        "# posts_df['title_lemmatized'] = posts_df['title_lemmatized'].str.replace('  ', ' ')\n",
        "# posts_df['title_lemmatized'] = posts_df['title_lemmatized'].str.replace('   ', ' ')\n",
        "\n",
        "# posts_df['content_lemmatized'] = posts_df['content_lemmatized'].str.replace(r\"(\\s[\\w^iIaA]\\s)|(\\s[\\w\\s\\w^iIaA]\\s)|(\\s[^iIaA]$)\",\n",
        "#                                                   ' ', regex=True)\n",
        "# posts_df['content_lemmatized'] = posts_df['content_lemmatized'].str.replace('  ', ' ')\n",
        "# posts_df['content_lemmatized'] = posts_df['content_lemmatized'].str.replace('   ', ' ')\n",
        "\n",
        "# posts_df['comment_lemmatized'] = posts_df['comment_lemmatized'].str.replace(r\"(\\s[\\w^iIaA]\\s)|(\\s[\\w\\s\\w^iIaA]\\s)|(\\s[^iIaA]$)\",\n",
        "#                                                   ' ', regex=True)\n",
        "# posts_df['comment_lemmatized'] = posts_df['comment_lemmatized'].str.replace('  ', ' ')\n",
        "# posts_df['comment_lemmatized'] = posts_df['comment_lemmatized'].str.replace('   ', ' ')"
      ],
      "metadata": {
        "id": "-TqQCVRgOjNF"
      },
      "execution_count": null,
      "outputs": []
    },
    {
      "cell_type": "code",
      "source": [
        "# misspelt_lemmatize_title = misspelt_words_fn(posts_df, 'title_lemmatized')\n",
        "# misspelt_lemmatize_content = misspelt_words_fn(posts_df, 'content_lemmatized')\n",
        "# misspelt_lemmatize_comment = misspelt_words_fn(posts_df, 'comment_lemmatized')\n",
        "\n",
        "# print(f'Title Lemmatize misspelt: {len(misspelt_title)}\\ncontent Lemmatize misspelt: {len(misspelt_content)}\\ncomment Lemmatize misspelt: {len(misspelt_comment)}')"
      ],
      "metadata": {
        "id": "wmVEyd1qESP6"
      },
      "execution_count": null,
      "outputs": []
    },
    {
      "cell_type": "markdown",
      "source": [
        "### Dataset"
      ],
      "metadata": {
        "id": "R6KvRXQZy8ao"
      }
    },
    {
      "cell_type": "markdown",
      "source": [
        "***Rename columns***"
      ],
      "metadata": {
        "id": "OgUqKA7e1fUm"
      }
    },
    {
      "cell_type": "code",
      "source": [
        "posts_df.drop(columns=['corrected_title', 'corrected_content',\n",
        "                       'corrected_comment'], inplace=True)\n",
        "\n",
        "posts_df.rename(columns={'punc_corrected_title':'title',\n",
        "                         'punc_corrected_content': 'content',\n",
        "                         'punc_corrected_comment': 'comment'},\n",
        "                inplace=True)"
      ],
      "metadata": {
        "id": "Yy2fryyS1qiZ"
      },
      "execution_count": null,
      "outputs": []
    },
    {
      "cell_type": "code",
      "source": [
        "LIST_OF_TOPICS = ['mentalhealth', 'self', 'changemyview', 'relationship_advice', 'anxiety', 'depression', 'selfimprovement']\n",
        "LIST_OF_FEATURES = ['subreddit', 'title', 'content', 'comment']\n",
        "BINS = [8, 30, 30]"
      ],
      "metadata": {
        "id": "BPGMgSAIMAjO"
      },
      "execution_count": null,
      "outputs": []
    },
    {
      "cell_type": "code",
      "source": [
        "posts_df.isna().value_counts().T"
      ],
      "metadata": {
        "colab": {
          "base_uri": "https://localhost:8080/"
        },
        "id": "WwidUkQ17DNH",
        "outputId": "a0791523-d2f9-4d14-8107-85e01807cac7"
      },
      "execution_count": null,
      "outputs": [
        {
          "output_type": "execute_result",
          "data": {
            "text/plain": [
              "id     subreddit  thread_score  comment_score  title  content  comment\n",
              "False  False      False         False          False  False    False      28628\n",
              "dtype: int64"
            ]
          },
          "metadata": {},
          "execution_count": 94
        }
      ]
    },
    {
      "cell_type": "code",
      "source": [
        "posts_df.dropna(inplace=True)"
      ],
      "metadata": {
        "id": "RWRat_KgMQ_s"
      },
      "execution_count": null,
      "outputs": []
    },
    {
      "cell_type": "code",
      "source": [
        "posts_df.isna().value_counts()"
      ],
      "metadata": {
        "colab": {
          "base_uri": "https://localhost:8080/"
        },
        "id": "fFVEs0y_MUlf",
        "outputId": "1eb9cc0d-00f1-4292-c667-30bfa764ef2b"
      },
      "execution_count": null,
      "outputs": [
        {
          "output_type": "execute_result",
          "data": {
            "text/plain": [
              "id     subreddit  thread_score  comment_score  title  content  comment\n",
              "False  False      False         False          False  False    False      28628\n",
              "dtype: int64"
            ]
          },
          "metadata": {},
          "execution_count": 96
        }
      ]
    },
    {
      "cell_type": "code",
      "source": [
        "posts_df.groupby('subreddit').count()"
      ],
      "metadata": {
        "colab": {
          "base_uri": "https://localhost:8080/",
          "height": 300
        },
        "id": "u-EwzsgTMYw0",
        "outputId": "8d748131-d7a8-4fbf-e1c4-63ab956e3a9e"
      },
      "execution_count": null,
      "outputs": [
        {
          "output_type": "execute_result",
          "data": {
            "text/html": [
              "\n",
              "  <div id=\"df-41d92c6a-c1ad-4cc0-a636-93e173a754a5\">\n",
              "    <div class=\"colab-df-container\">\n",
              "      <div>\n",
              "<style scoped>\n",
              "    .dataframe tbody tr th:only-of-type {\n",
              "        vertical-align: middle;\n",
              "    }\n",
              "\n",
              "    .dataframe tbody tr th {\n",
              "        vertical-align: top;\n",
              "    }\n",
              "\n",
              "    .dataframe thead th {\n",
              "        text-align: right;\n",
              "    }\n",
              "</style>\n",
              "<table border=\"1\" class=\"dataframe\">\n",
              "  <thead>\n",
              "    <tr style=\"text-align: right;\">\n",
              "      <th></th>\n",
              "      <th>id</th>\n",
              "      <th>thread_score</th>\n",
              "      <th>comment_score</th>\n",
              "      <th>title</th>\n",
              "      <th>content</th>\n",
              "      <th>comment</th>\n",
              "    </tr>\n",
              "    <tr>\n",
              "      <th>subreddit</th>\n",
              "      <th></th>\n",
              "      <th></th>\n",
              "      <th></th>\n",
              "      <th></th>\n",
              "      <th></th>\n",
              "      <th></th>\n",
              "    </tr>\n",
              "  </thead>\n",
              "  <tbody>\n",
              "    <tr>\n",
              "      <th>anxiety</th>\n",
              "      <td>2855</td>\n",
              "      <td>2855</td>\n",
              "      <td>2855</td>\n",
              "      <td>2855</td>\n",
              "      <td>2855</td>\n",
              "      <td>2855</td>\n",
              "    </tr>\n",
              "    <tr>\n",
              "      <th>changemyview</th>\n",
              "      <td>14329</td>\n",
              "      <td>14329</td>\n",
              "      <td>14329</td>\n",
              "      <td>14329</td>\n",
              "      <td>14329</td>\n",
              "      <td>14329</td>\n",
              "    </tr>\n",
              "    <tr>\n",
              "      <th>depression</th>\n",
              "      <td>932</td>\n",
              "      <td>932</td>\n",
              "      <td>932</td>\n",
              "      <td>932</td>\n",
              "      <td>932</td>\n",
              "      <td>932</td>\n",
              "    </tr>\n",
              "    <tr>\n",
              "      <th>mentalhealth</th>\n",
              "      <td>1843</td>\n",
              "      <td>1843</td>\n",
              "      <td>1843</td>\n",
              "      <td>1843</td>\n",
              "      <td>1843</td>\n",
              "      <td>1843</td>\n",
              "    </tr>\n",
              "    <tr>\n",
              "      <th>relationship_advice</th>\n",
              "      <td>855</td>\n",
              "      <td>855</td>\n",
              "      <td>855</td>\n",
              "      <td>855</td>\n",
              "      <td>855</td>\n",
              "      <td>855</td>\n",
              "    </tr>\n",
              "    <tr>\n",
              "      <th>self</th>\n",
              "      <td>4193</td>\n",
              "      <td>4193</td>\n",
              "      <td>4193</td>\n",
              "      <td>4193</td>\n",
              "      <td>4193</td>\n",
              "      <td>4193</td>\n",
              "    </tr>\n",
              "    <tr>\n",
              "      <th>selfimprovement</th>\n",
              "      <td>3621</td>\n",
              "      <td>3621</td>\n",
              "      <td>3621</td>\n",
              "      <td>3621</td>\n",
              "      <td>3621</td>\n",
              "      <td>3621</td>\n",
              "    </tr>\n",
              "  </tbody>\n",
              "</table>\n",
              "</div>\n",
              "      <button class=\"colab-df-convert\" onclick=\"convertToInteractive('df-41d92c6a-c1ad-4cc0-a636-93e173a754a5')\"\n",
              "              title=\"Convert this dataframe to an interactive table.\"\n",
              "              style=\"display:none;\">\n",
              "        \n",
              "  <svg xmlns=\"http://www.w3.org/2000/svg\" height=\"24px\"viewBox=\"0 0 24 24\"\n",
              "       width=\"24px\">\n",
              "    <path d=\"M0 0h24v24H0V0z\" fill=\"none\"/>\n",
              "    <path d=\"M18.56 5.44l.94 2.06.94-2.06 2.06-.94-2.06-.94-.94-2.06-.94 2.06-2.06.94zm-11 1L8.5 8.5l.94-2.06 2.06-.94-2.06-.94L8.5 2.5l-.94 2.06-2.06.94zm10 10l.94 2.06.94-2.06 2.06-.94-2.06-.94-.94-2.06-.94 2.06-2.06.94z\"/><path d=\"M17.41 7.96l-1.37-1.37c-.4-.4-.92-.59-1.43-.59-.52 0-1.04.2-1.43.59L10.3 9.45l-7.72 7.72c-.78.78-.78 2.05 0 2.83L4 21.41c.39.39.9.59 1.41.59.51 0 1.02-.2 1.41-.59l7.78-7.78 2.81-2.81c.8-.78.8-2.07 0-2.86zM5.41 20L4 18.59l7.72-7.72 1.47 1.35L5.41 20z\"/>\n",
              "  </svg>\n",
              "      </button>\n",
              "      \n",
              "  <style>\n",
              "    .colab-df-container {\n",
              "      display:flex;\n",
              "      flex-wrap:wrap;\n",
              "      gap: 12px;\n",
              "    }\n",
              "\n",
              "    .colab-df-convert {\n",
              "      background-color: #E8F0FE;\n",
              "      border: none;\n",
              "      border-radius: 50%;\n",
              "      cursor: pointer;\n",
              "      display: none;\n",
              "      fill: #1967D2;\n",
              "      height: 32px;\n",
              "      padding: 0 0 0 0;\n",
              "      width: 32px;\n",
              "    }\n",
              "\n",
              "    .colab-df-convert:hover {\n",
              "      background-color: #E2EBFA;\n",
              "      box-shadow: 0px 1px 2px rgba(60, 64, 67, 0.3), 0px 1px 3px 1px rgba(60, 64, 67, 0.15);\n",
              "      fill: #174EA6;\n",
              "    }\n",
              "\n",
              "    [theme=dark] .colab-df-convert {\n",
              "      background-color: #3B4455;\n",
              "      fill: #D2E3FC;\n",
              "    }\n",
              "\n",
              "    [theme=dark] .colab-df-convert:hover {\n",
              "      background-color: #434B5C;\n",
              "      box-shadow: 0px 1px 3px 1px rgba(0, 0, 0, 0.15);\n",
              "      filter: drop-shadow(0px 1px 2px rgba(0, 0, 0, 0.3));\n",
              "      fill: #FFFFFF;\n",
              "    }\n",
              "  </style>\n",
              "\n",
              "      <script>\n",
              "        const buttonEl =\n",
              "          document.querySelector('#df-41d92c6a-c1ad-4cc0-a636-93e173a754a5 button.colab-df-convert');\n",
              "        buttonEl.style.display =\n",
              "          google.colab.kernel.accessAllowed ? 'block' : 'none';\n",
              "\n",
              "        async function convertToInteractive(key) {\n",
              "          const element = document.querySelector('#df-41d92c6a-c1ad-4cc0-a636-93e173a754a5');\n",
              "          const dataTable =\n",
              "            await google.colab.kernel.invokeFunction('convertToInteractive',\n",
              "                                                     [key], {});\n",
              "          if (!dataTable) return;\n",
              "\n",
              "          const docLinkHtml = 'Like what you see? Visit the ' +\n",
              "            '<a target=\"_blank\" href=https://colab.research.google.com/notebooks/data_table.ipynb>data table notebook</a>'\n",
              "            + ' to learn more about interactive tables.';\n",
              "          element.innerHTML = '';\n",
              "          dataTable['output_type'] = 'display_data';\n",
              "          await google.colab.output.renderOutput(dataTable, element);\n",
              "          const docLink = document.createElement('div');\n",
              "          docLink.innerHTML = docLinkHtml;\n",
              "          element.appendChild(docLink);\n",
              "        }\n",
              "      </script>\n",
              "    </div>\n",
              "  </div>\n",
              "  "
            ],
            "text/plain": [
              "                        id  thread_score  comment_score  title  content  \\\n",
              "subreddit                                                                 \n",
              "anxiety               2855          2855           2855   2855     2855   \n",
              "changemyview         14329         14329          14329  14329    14329   \n",
              "depression             932           932            932    932      932   \n",
              "mentalhealth          1843          1843           1843   1843     1843   \n",
              "relationship_advice    855           855            855    855      855   \n",
              "self                  4193          4193           4193   4193     4193   \n",
              "selfimprovement       3621          3621           3621   3621     3621   \n",
              "\n",
              "                     comment  \n",
              "subreddit                     \n",
              "anxiety                 2855  \n",
              "changemyview           14329  \n",
              "depression               932  \n",
              "mentalhealth            1843  \n",
              "relationship_advice      855  \n",
              "self                    4193  \n",
              "selfimprovement         3621  "
            ]
          },
          "metadata": {},
          "execution_count": 92
        }
      ]
    },
    {
      "cell_type": "code",
      "source": [
        "posts_df"
      ],
      "metadata": {
        "id": "jhhzbfdTM_lx",
        "outputId": "3dd02838-908b-4314-a61d-f8d13706e90d",
        "colab": {
          "base_uri": "https://localhost:8080/",
          "height": 1000
        }
      },
      "execution_count": null,
      "outputs": [
        {
          "output_type": "execute_result",
          "data": {
            "text/html": [
              "\n",
              "  <div id=\"df-c5460ef0-c7ef-4f63-a39f-470222736ed6\">\n",
              "    <div class=\"colab-df-container\">\n",
              "      <div>\n",
              "<style scoped>\n",
              "    .dataframe tbody tr th:only-of-type {\n",
              "        vertical-align: middle;\n",
              "    }\n",
              "\n",
              "    .dataframe tbody tr th {\n",
              "        vertical-align: top;\n",
              "    }\n",
              "\n",
              "    .dataframe thead th {\n",
              "        text-align: right;\n",
              "    }\n",
              "</style>\n",
              "<table border=\"1\" class=\"dataframe\">\n",
              "  <thead>\n",
              "    <tr style=\"text-align: right;\">\n",
              "      <th></th>\n",
              "      <th>id</th>\n",
              "      <th>subreddit</th>\n",
              "      <th>thread_score</th>\n",
              "      <th>comment_score</th>\n",
              "      <th>title</th>\n",
              "      <th>content</th>\n",
              "      <th>comment</th>\n",
              "    </tr>\n",
              "  </thead>\n",
              "  <tbody>\n",
              "    <tr>\n",
              "      <th>0</th>\n",
              "      <td>swijxe</td>\n",
              "      <td>mentalhealth</td>\n",
              "      <td>1</td>\n",
              "      <td>1</td>\n",
              "      <td>Once again schizophrenia episodes caught on camera.</td>\n",
              "      <td>I am michelle hammer and i have schizophrenia i set up a security camera to record myself having schizophrenia, psychosis episodes. In this video i show different episodes i had while sitting on m...</td>\n",
              "      <td>Thank you for sharing a reminder if you are seeking resources in your local area, please provide that in the post so that users can share appropriate links and phone numbers if you are in distress...</td>\n",
              "    </tr>\n",
              "    <tr>\n",
              "      <th>1</th>\n",
              "      <td>swifud</td>\n",
              "      <td>mentalhealth</td>\n",
              "      <td>1</td>\n",
              "      <td>1</td>\n",
              "      <td>Why does everything stress me out?</td>\n",
              "      <td>Literally nothing like deciding to hang out with my friend later, will repeat in my head until i go insane maybe even like getting one question wrong on a test will stay with me for hours on end i...</td>\n",
              "      <td>Thank you for sharing a reminder if you are seeking resources in your local area, please provide that in the post so that users can share appropriate links and phone numbers if you are in distress...</td>\n",
              "    </tr>\n",
              "    <tr>\n",
              "      <th>2</th>\n",
              "      <td>swiepa</td>\n",
              "      <td>mentalhealth</td>\n",
              "      <td>1</td>\n",
              "      <td>1</td>\n",
              "      <td>I have got appointment with the early invention team this coming monday.</td>\n",
              "      <td>I am wondering if i should write stuff down as been trying to get help for years now and do not what to forget anything. The other half of me is worried that if i do that, they will think i am exa...</td>\n",
              "      <td>Thank you for sharing a reminder if you are seeking resources in your local area, please provide that in the post so that users can share appropriate links and phone numbers if you are in distress...</td>\n",
              "    </tr>\n",
              "    <tr>\n",
              "      <th>3</th>\n",
              "      <td>swicrr</td>\n",
              "      <td>mentalhealth</td>\n",
              "      <td>2</td>\n",
              "      <td>1</td>\n",
              "      <td>Is there something wrong with me?</td>\n",
              "      <td>I am a junior in high school, and i have not made one new friend in my entire time here. No one ever approached me and tried to talk to me unless they were just asking a work related question. I h...</td>\n",
              "      <td>Thank you for sharing a reminder if you are seeking resources in your local area, please provide that in the post so that users can share appropriate links and phone numbers if you are in distress...</td>\n",
              "    </tr>\n",
              "    <tr>\n",
              "      <th>4</th>\n",
              "      <td>swicrr</td>\n",
              "      <td>mentalhealth</td>\n",
              "      <td>2</td>\n",
              "      <td>2</td>\n",
              "      <td>Is there something wrong with me?</td>\n",
              "      <td>I am a junior in high school, and i have not made one new friend in my entire time here. No one ever approached me and tried to talk to me unless they were just asking a work related question. I h...</td>\n",
              "      <td>I do not think there is anything wrong with you. Highschool is brutal. That is the just of it. Highschool sucks. If you do not have any friends heading into highschool, you will have a difficult t...</td>\n",
              "    </tr>\n",
              "    <tr>\n",
              "      <th>...</th>\n",
              "      <td>...</td>\n",
              "      <td>...</td>\n",
              "      <td>...</td>\n",
              "      <td>...</td>\n",
              "      <td>...</td>\n",
              "      <td>...</td>\n",
              "      <td>...</td>\n",
              "    </tr>\n",
              "    <tr>\n",
              "      <th>28623</th>\n",
              "      <td>sjvfj1</td>\n",
              "      <td>selfimprovement</td>\n",
              "      <td>197</td>\n",
              "      <td>1</td>\n",
              "      <td>I am scared of making mistakes to the point i avoid the possibily of making them</td>\n",
              "      <td>This is my biggest problem in life. All my years, i have been programmed to the mindset that making mistakes are bad and that you have to be perfect. I now know deep inside that thats not true, bu...</td>\n",
              "      <td>Hello, my friend, it and foremost, you are valuing yourself and others too much based on brain capacity. Being smart is a nice thing, but it is not an essential thing. Essentials are being trustwo...</td>\n",
              "    </tr>\n",
              "    <tr>\n",
              "      <th>28624</th>\n",
              "      <td>sjvfj1</td>\n",
              "      <td>selfimprovement</td>\n",
              "      <td>197</td>\n",
              "      <td>1</td>\n",
              "      <td>I am scared of making mistakes to the point i avoid the possibily of making them</td>\n",
              "      <td>This is my biggest problem in life. All my years, i have been programmed to the mindset that making mistakes are bad and that you have to be perfect. I now know deep inside that thats not true, bu...</td>\n",
              "      <td>Its very difficult to feel stuck and not know how to proceed i follow the works of the holistic psychologist on ig for analysis on trauma reactions and inner child works. Hope it helps.</td>\n",
              "    </tr>\n",
              "    <tr>\n",
              "      <th>28625</th>\n",
              "      <td>sjvfj1</td>\n",
              "      <td>selfimprovement</td>\n",
              "      <td>197</td>\n",
              "      <td>1</td>\n",
              "      <td>I am scared of making mistakes to the point i avoid the possibily of making them</td>\n",
              "      <td>This is my biggest problem in life. All my years, i have been programmed to the mindset that making mistakes are bad and that you have to be perfect. I now know deep inside that thats not true, bu...</td>\n",
              "      <td>Welcome to the club.</td>\n",
              "    </tr>\n",
              "    <tr>\n",
              "      <th>28626</th>\n",
              "      <td>sjvfj1</td>\n",
              "      <td>selfimprovement</td>\n",
              "      <td>197</td>\n",
              "      <td>1</td>\n",
              "      <td>I am scared of making mistakes to the point i avoid the possibily of making them</td>\n",
              "      <td>This is my biggest problem in life. All my years, i have been programmed to the mindset that making mistakes are bad and that you have to be perfect. I now know deep inside that thats not true, bu...</td>\n",
              "      <td>Baseball do you know how often the greatest batters actually hit the ball they miss far more than they connect and yet they get paid to do it at one time they hit the ball even less than what they...</td>\n",
              "    </tr>\n",
              "    <tr>\n",
              "      <th>28627</th>\n",
              "      <td>sjvfj1</td>\n",
              "      <td>selfimprovement</td>\n",
              "      <td>197</td>\n",
              "      <td>1</td>\n",
              "      <td>I am scared of making mistakes to the point i avoid the possibily of making them</td>\n",
              "      <td>This is my biggest problem in life. All my years, i have been programmed to the mindset that making mistakes are bad and that you have to be perfect. I now know deep inside that thats not true, bu...</td>\n",
              "      <td>For starters, i am the same. Youre not alone.</td>\n",
              "    </tr>\n",
              "  </tbody>\n",
              "</table>\n",
              "<p>28628 rows × 7 columns</p>\n",
              "</div>\n",
              "      <button class=\"colab-df-convert\" onclick=\"convertToInteractive('df-c5460ef0-c7ef-4f63-a39f-470222736ed6')\"\n",
              "              title=\"Convert this dataframe to an interactive table.\"\n",
              "              style=\"display:none;\">\n",
              "        \n",
              "  <svg xmlns=\"http://www.w3.org/2000/svg\" height=\"24px\"viewBox=\"0 0 24 24\"\n",
              "       width=\"24px\">\n",
              "    <path d=\"M0 0h24v24H0V0z\" fill=\"none\"/>\n",
              "    <path d=\"M18.56 5.44l.94 2.06.94-2.06 2.06-.94-2.06-.94-.94-2.06-.94 2.06-2.06.94zm-11 1L8.5 8.5l.94-2.06 2.06-.94-2.06-.94L8.5 2.5l-.94 2.06-2.06.94zm10 10l.94 2.06.94-2.06 2.06-.94-2.06-.94-.94-2.06-.94 2.06-2.06.94z\"/><path d=\"M17.41 7.96l-1.37-1.37c-.4-.4-.92-.59-1.43-.59-.52 0-1.04.2-1.43.59L10.3 9.45l-7.72 7.72c-.78.78-.78 2.05 0 2.83L4 21.41c.39.39.9.59 1.41.59.51 0 1.02-.2 1.41-.59l7.78-7.78 2.81-2.81c.8-.78.8-2.07 0-2.86zM5.41 20L4 18.59l7.72-7.72 1.47 1.35L5.41 20z\"/>\n",
              "  </svg>\n",
              "      </button>\n",
              "      \n",
              "  <style>\n",
              "    .colab-df-container {\n",
              "      display:flex;\n",
              "      flex-wrap:wrap;\n",
              "      gap: 12px;\n",
              "    }\n",
              "\n",
              "    .colab-df-convert {\n",
              "      background-color: #E8F0FE;\n",
              "      border: none;\n",
              "      border-radius: 50%;\n",
              "      cursor: pointer;\n",
              "      display: none;\n",
              "      fill: #1967D2;\n",
              "      height: 32px;\n",
              "      padding: 0 0 0 0;\n",
              "      width: 32px;\n",
              "    }\n",
              "\n",
              "    .colab-df-convert:hover {\n",
              "      background-color: #E2EBFA;\n",
              "      box-shadow: 0px 1px 2px rgba(60, 64, 67, 0.3), 0px 1px 3px 1px rgba(60, 64, 67, 0.15);\n",
              "      fill: #174EA6;\n",
              "    }\n",
              "\n",
              "    [theme=dark] .colab-df-convert {\n",
              "      background-color: #3B4455;\n",
              "      fill: #D2E3FC;\n",
              "    }\n",
              "\n",
              "    [theme=dark] .colab-df-convert:hover {\n",
              "      background-color: #434B5C;\n",
              "      box-shadow: 0px 1px 3px 1px rgba(0, 0, 0, 0.15);\n",
              "      filter: drop-shadow(0px 1px 2px rgba(0, 0, 0, 0.3));\n",
              "      fill: #FFFFFF;\n",
              "    }\n",
              "  </style>\n",
              "\n",
              "      <script>\n",
              "        const buttonEl =\n",
              "          document.querySelector('#df-c5460ef0-c7ef-4f63-a39f-470222736ed6 button.colab-df-convert');\n",
              "        buttonEl.style.display =\n",
              "          google.colab.kernel.accessAllowed ? 'block' : 'none';\n",
              "\n",
              "        async function convertToInteractive(key) {\n",
              "          const element = document.querySelector('#df-c5460ef0-c7ef-4f63-a39f-470222736ed6');\n",
              "          const dataTable =\n",
              "            await google.colab.kernel.invokeFunction('convertToInteractive',\n",
              "                                                     [key], {});\n",
              "          if (!dataTable) return;\n",
              "\n",
              "          const docLinkHtml = 'Like what you see? Visit the ' +\n",
              "            '<a target=\"_blank\" href=https://colab.research.google.com/notebooks/data_table.ipynb>data table notebook</a>'\n",
              "            + ' to learn more about interactive tables.';\n",
              "          element.innerHTML = '';\n",
              "          dataTable['output_type'] = 'display_data';\n",
              "          await google.colab.output.renderOutput(dataTable, element);\n",
              "          const docLink = document.createElement('div');\n",
              "          docLink.innerHTML = docLinkHtml;\n",
              "          element.appendChild(docLink);\n",
              "        }\n",
              "      </script>\n",
              "    </div>\n",
              "  </div>\n",
              "  "
            ],
            "text/plain": [
              "           id        subreddit  thread_score  comment_score  \\\n",
              "0      swijxe     mentalhealth             1              1   \n",
              "1      swifud     mentalhealth             1              1   \n",
              "2      swiepa     mentalhealth             1              1   \n",
              "3      swicrr     mentalhealth             2              1   \n",
              "4      swicrr     mentalhealth             2              2   \n",
              "...       ...              ...           ...            ...   \n",
              "28623  sjvfj1  selfimprovement           197              1   \n",
              "28624  sjvfj1  selfimprovement           197              1   \n",
              "28625  sjvfj1  selfimprovement           197              1   \n",
              "28626  sjvfj1  selfimprovement           197              1   \n",
              "28627  sjvfj1  selfimprovement           197              1   \n",
              "\n",
              "                                                                                  title  \\\n",
              "0                                   Once again schizophrenia episodes caught on camera.   \n",
              "1                                                    Why does everything stress me out?   \n",
              "2              I have got appointment with the early invention team this coming monday.   \n",
              "3                                                     Is there something wrong with me?   \n",
              "4                                                     Is there something wrong with me?   \n",
              "...                                                                                 ...   \n",
              "28623  I am scared of making mistakes to the point i avoid the possibily of making them   \n",
              "28624  I am scared of making mistakes to the point i avoid the possibily of making them   \n",
              "28625  I am scared of making mistakes to the point i avoid the possibily of making them   \n",
              "28626  I am scared of making mistakes to the point i avoid the possibily of making them   \n",
              "28627  I am scared of making mistakes to the point i avoid the possibily of making them   \n",
              "\n",
              "                                                                                                                                                                                                       content  \\\n",
              "0      I am michelle hammer and i have schizophrenia i set up a security camera to record myself having schizophrenia, psychosis episodes. In this video i show different episodes i had while sitting on m...   \n",
              "1      Literally nothing like deciding to hang out with my friend later, will repeat in my head until i go insane maybe even like getting one question wrong on a test will stay with me for hours on end i...   \n",
              "2      I am wondering if i should write stuff down as been trying to get help for years now and do not what to forget anything. The other half of me is worried that if i do that, they will think i am exa...   \n",
              "3      I am a junior in high school, and i have not made one new friend in my entire time here. No one ever approached me and tried to talk to me unless they were just asking a work related question. I h...   \n",
              "4      I am a junior in high school, and i have not made one new friend in my entire time here. No one ever approached me and tried to talk to me unless they were just asking a work related question. I h...   \n",
              "...                                                                                                                                                                                                        ...   \n",
              "28623  This is my biggest problem in life. All my years, i have been programmed to the mindset that making mistakes are bad and that you have to be perfect. I now know deep inside that thats not true, bu...   \n",
              "28624  This is my biggest problem in life. All my years, i have been programmed to the mindset that making mistakes are bad and that you have to be perfect. I now know deep inside that thats not true, bu...   \n",
              "28625  This is my biggest problem in life. All my years, i have been programmed to the mindset that making mistakes are bad and that you have to be perfect. I now know deep inside that thats not true, bu...   \n",
              "28626  This is my biggest problem in life. All my years, i have been programmed to the mindset that making mistakes are bad and that you have to be perfect. I now know deep inside that thats not true, bu...   \n",
              "28627  This is my biggest problem in life. All my years, i have been programmed to the mindset that making mistakes are bad and that you have to be perfect. I now know deep inside that thats not true, bu...   \n",
              "\n",
              "                                                                                                                                                                                                       comment  \n",
              "0      Thank you for sharing a reminder if you are seeking resources in your local area, please provide that in the post so that users can share appropriate links and phone numbers if you are in distress...  \n",
              "1      Thank you for sharing a reminder if you are seeking resources in your local area, please provide that in the post so that users can share appropriate links and phone numbers if you are in distress...  \n",
              "2      Thank you for sharing a reminder if you are seeking resources in your local area, please provide that in the post so that users can share appropriate links and phone numbers if you are in distress...  \n",
              "3      Thank you for sharing a reminder if you are seeking resources in your local area, please provide that in the post so that users can share appropriate links and phone numbers if you are in distress...  \n",
              "4      I do not think there is anything wrong with you. Highschool is brutal. That is the just of it. Highschool sucks. If you do not have any friends heading into highschool, you will have a difficult t...  \n",
              "...                                                                                                                                                                                                        ...  \n",
              "28623  Hello, my friend, it and foremost, you are valuing yourself and others too much based on brain capacity. Being smart is a nice thing, but it is not an essential thing. Essentials are being trustwo...  \n",
              "28624                Its very difficult to feel stuck and not know how to proceed i follow the works of the holistic psychologist on ig for analysis on trauma reactions and inner child works. Hope it helps.  \n",
              "28625                                                                                                                                                                                     Welcome to the club.  \n",
              "28626  Baseball do you know how often the greatest batters actually hit the ball they miss far more than they connect and yet they get paid to do it at one time they hit the ball even less than what they...  \n",
              "28627                                                                                                                                                            For starters, i am the same. Youre not alone.  \n",
              "\n",
              "[28628 rows x 7 columns]"
            ]
          },
          "metadata": {},
          "execution_count": 97
        }
      ]
    },
    {
      "cell_type": "code",
      "source": [
        "from matplotlib.pyplot import title\n",
        "sns.set(style='darkgrid')\n",
        "fig, axes = plt.subplots(7, 3, figsize=(21, 21))\n",
        "fig.suptitle('Compare between Number of words in the Context',\n",
        "             size=24, color='SlateBlue')\n",
        "\n",
        "colors = ['DarkSlateBlue', 'CornflowerBlue', 'DeepSkyBlue']\n",
        "\n",
        "for x, topic in enumerate(LIST_OF_TOPICS):\n",
        "  for y, (feature, bin, color) in enumerate(zip(LIST_OF_FEATURES[1:], BINS,\n",
        "                                                colors)):\n",
        "    plot_n_words(posts_df,\n",
        "                 column_name=feature,\n",
        "                 subreddit_name=topic,\n",
        "                 n_bins=bin,\n",
        "                 color=color,\n",
        "                 axes=axes[x, y])\n",
        "fig.tight_layout(pad=5.0)\n",
        "plt.show()"
      ],
      "metadata": {
        "id": "yBNFM816FNLx",
        "colab": {
          "base_uri": "https://localhost:8080/",
          "height": 959
        },
        "outputId": "a17a6231-c62b-44e4-ff3a-18a7b01d04fd"
      },
      "execution_count": null,
      "outputs": [
        {
          "output_type": "display_data",
          "data": {
            "image/png": "[encoded data removed]",
            "text/plain": [
              "<Figure size 1512x1512 with 21 Axes>"
            ]
          },
          "metadata": {}
        }
      ]
    },
    {
      "cell_type": "markdown",
      "source": [
        "### Data Readability"
      ],
      "metadata": {
        "id": "-TnyoVkn7D9s"
      }
    },
    {
      "cell_type": "code",
      "source": [
        "import inspect\n",
        "funcs = [\"textstat.\" + inspect.getmembers(textstat, predicate=inspect.ismethod)[i][0] for i in range(1,28)]"
      ],
      "metadata": {
        "id": "576ckkTW-hc-"
      },
      "execution_count": null,
      "outputs": []
    },
    {
      "cell_type": "code",
      "source": [
        "title = '\\n'.join(set(posts_df['title'].tolist()))\n",
        "content = '\\n'.join(set(posts_df['content'].tolist()))\n",
        "comment = '\\n'.join(set(posts_df['comment'].tolist()))"
      ],
      "metadata": {
        "id": "4Tu2Ml_N-zgS"
      },
      "execution_count": null,
      "outputs": []
    },
    {
      "cell_type": "code",
      "source": [
        "def readability(title: Text, text: Text) -> None:\n",
        "  print(f' {title} '.center(100, '='))\n",
        "  for elem in funcs:\n",
        "    method = eval(elem)\n",
        "    textstat.set_lang(\"en\")\n",
        "    print(elem.split(\".\")[1])\n",
        "    print(method(text))\n",
        "    print(\" \")"
      ],
      "metadata": {
        "id": "L8OXNz52_CYM"
      },
      "execution_count": null,
      "outputs": []
    },
    {
      "cell_type": "markdown",
      "source": [
        "***Write the Report on Text file***"
      ],
      "metadata": {
        "id": "HVJb5SG0AJpm"
      }
    },
    {
      "cell_type": "code",
      "source": [
        "from contextlib import redirect_stdout\n",
        "with open('readability_report_after_punc.txt', 'w') as f:\n",
        "    with redirect_stdout(f):\n",
        "      for title, text in zip(['title', 'content', 'comment'], [title, content, comment]):\n",
        "        readability(title, text)"
      ],
      "metadata": {
        "id": "tBh2C5CL-sOr"
      },
      "execution_count": null,
      "outputs": []
    },
    {
      "cell_type": "markdown",
      "source": [
        "### Save the Dataset\n"
      ],
      "metadata": {
        "id": "vrWBcK_ARoWe"
      }
    },
    {
      "cell_type": "code",
      "source": [
        "posts_df.to_feather('Dataset/cleaned_dataset.feather')"
      ],
      "metadata": {
        "id": "12czd4kQRwS7"
      },
      "execution_count": null,
      "outputs": []
    }
  ]
}