{
  "nbformat": 4,
  "nbformat_minor": 0,
  "metadata": {
    "colab": {
      "name": "COMET-ATOMIC2020-BART.ipynb",
      "provenance": [],
      "collapsed_sections": [
        "AceWBpP8h13R",
        "C76hk3_InDQU"
      ],
      "include_colab_link": true
    },
    "kernelspec": {
      "name": "python3",
      "display_name": "Python 3"
    },
    "language_info": {
      "name": "python"
    }
  },
  "cells": [
    {
      "cell_type": "markdown",
      "metadata": {
        "id": "view-in-github",
        "colab_type": "text"
      },
      "source": [
        "<a href=\"https://colab.research.google.com/github/vlordier/colabs/blob/main/COMET_ATOMIC2020_BART.ipynb\" target=\"_parent\"><img src=\"https://colab.research.google.com/assets/colab-badge.svg\" alt=\"Open In Colab\"/></a>"
      ]
    },
    {
      "cell_type": "markdown",
      "source": [
        "# (Comet-) Atomic 2020: On Symbolic and Neural Commonsense Knowledge Graphs."
      ],
      "metadata": {
        "id": "fc026vOTi41b"
      }
    },
    {
      "cell_type": "markdown",
      "source": [
        "@inproceedings{Hwang2021COMETATOMIC2O,\n",
        "\n",
        "\n",
        "  title={COMET-ATOMIC 2020: On Symbolic and Neural Commonsense Knowledge Graphs},\n",
        "\n",
        "  author={Jena D. Hwang and Chandra Bhagavatula and Ronan {Le Bras} and Jeff Da and Keisuke Sakaguchi and Antoine Bosselut and Yejin Choi},\n",
        "\n",
        "  booktitle={AAAI},\n",
        "\n",
        "  year={2021}\n",
        "}"
      ],
      "metadata": {
        "id": "rUzL4BEViirk"
      }
    },
    {
      "cell_type": "markdown",
      "source": [
        "## My Understanding"
      ],
      "metadata": {
        "id": "J-Y1yiOWrrqo"
      }
    },
    {
      "cell_type": "markdown",
      "source": [
        "***All the followed Information is based on my understanding of The (Comet-) Atomic 2020: On Symbolic and Neural Commonsense Knowledge Graphs Understnading***"
      ],
      "metadata": {
        "id": "o548a9FRv07I"
      }
    },
    {
      "cell_type": "markdown",
      "source": [
        "**What is CSKGs?**"
      ],
      "metadata": {
        "id": "qQ7JS_CXru3j"
      }
    },
    {
      "cell_type": "markdown",
      "source": [
        "> *Large scale commonsense knowledge graphs are ubiquitous tool in Natural Language Processing*"
      ],
      "metadata": {
        "id": "IJTjmnWJrfYW"
      }
    },
    {
      "cell_type": "markdown",
      "source": [
        "**What are the CSKGs?**"
      ],
      "metadata": {
        "id": "6ntZuZxlr5N9"
      }
    },
    {
      "cell_type": "markdown",
      "source": [
        "\n",
        "Three of them were experimented by the team that create **$ATOMIC_{20}^{20}$**\n",
        "\n",
        "1. **ConceptNet**: \n",
        "  - *Advantages*:\n",
        "    - Knowledge graph consist of <u>36 relations</u>.\n",
        "    -Has <u>3.4M entity-relation tuples (in English)</u> (i.e. this made it overcome $ATOMIC_{20}^{20}$ in **Human Evaluation Setup** by %12.8)\n",
        "  - *Disadvantages*:\n",
        "    - Focus mostly on <u>taxonomic & Lexical knowledge</u> & <u>physical commonsense</u>.\n",
        "\n",
        "\n",
        "2. **ATOMIC**:\n",
        "  - *Advantages*\n",
        "    - Knowledge Graph consists of <u>880K of tuples</u> across <u>9 relations</u> that cover <u>social commonsense knowledge</u> including dynamic aspects of events such as <u>causes and effects</u>, <u>`if-then` conditional statements</u>, and <u>mental state</u>.\n",
        "    - **ATOMIC** dataset is collected and validated completely through crowdsourcing.\n",
        "  - *Disadvantages*\n",
        "    - It doesn't has the diversity of **ConceptNET**.\n",
        "    - It has fewer relations.\n",
        "3. **TransOMCS**:\n",
        "  - Knowledge graph consists of <u>18.48M tuples</u> that  were automatically converted from syntactic parse of sentences from various web sources.\n",
        "  - Although **TransOMCS** is much larger than other commonsense knowledge is <u>significantly lower</u> compared to other resources, and </u>perform poorly as an adaptation resource relative to other KGs."
      ],
      "metadata": {
        "id": "rVk41esLseWJ"
      }
    },
    {
      "cell_type": "markdown",
      "source": [
        "**Where did COMET come from?**"
      ],
      "metadata": {
        "id": "ijoPcfTizkId"
      }
    },
    {
      "cell_type": "markdown",
      "source": [
        "> *The fact that subset commonsense knowledge is primarily found <u>explicitly stated in text</u>.However, commonsense facts are often implied. The state of art of neural models struggle to express</u> implicit commonsense knowledge</u> that involoves complex relationships.*\n",
        "\n",
        "\n",
        "To overcome this limitation, take the best of both worlds between <u>commonsense graphs, or COMET</u>, adapts <u>pre-trained neural language model</u> by training on example of tuples from commonsense knowledge graphs.\n",
        "\n",
        "\n",
        "The idea is simple, It takes a `head/source` phrase and `relation` and generate `tail/target`\n",
        "\n",
        "**Example**:\n",
        "> \"*PersonX eats an apple*\"\n",
        "  - `head/source`: *PersonX eats an apple*\n",
        "  - `relation`: `XNeed`\n",
        "  - `tail/target`:\n",
        "  [[' to buy an apple', ' to get an apple', ' to pick one up', ' to pick one', ' none']]\n",
        "\n",
        "*Bosselut (Scholer)* shows that **COMET** trained on the **ConceptNet** and **ATOMIC** knowledge grpah is able to adapt to generate novel (and valid commonsense kowledge tuples. \n"
      ],
      "metadata": {
        "id": "dmrLSBd5z90h"
      }
    },
    {
      "cell_type": "markdown",
      "source": [
        "**Tell Me more about -$ATOMIC_{20}^{20}$**!"
      ],
      "metadata": {
        "id": "mDqh2rel5rEk"
      }
    },
    {
      "cell_type": "markdown",
      "source": [
        "> *A commonsense knowledge graph with 1.33M everyday inferential knowledge tuples about entities and events. It represents a large-scale common sense repository of textual descriptions that encode both the social and the physical aspects of common human everyday experiences*.[$^1$](https://mosaickg.apps.allenai.org/kg_atomic2020/?l=PersonX%20is%20a%20big%20deal#:~:text=explore%20the%20atomic%202020%20knowledge%20graph)"
      ],
      "metadata": {
        "id": "ZkkiWpKn5xGi"
      }
    },
    {
      "cell_type": "markdown",
      "source": [
        "**How many relations in $ATOMIC_{20}^{20}$? and What're the relations of it?**"
      ],
      "metadata": {
        "id": "4BCnBaaN59FZ"
      }
    },
    {
      "cell_type": "markdown",
      "source": [
        "- $ATOMIC_{20}^{20}$ is consist of <u>23 commonsense relation types</u>:\n",
        "  - (9) commonsense relations of <u>Social-interaction</u>\n",
        "  - (7) commonsense relations of <u>physical-entity</u> commonsense relations.\n",
        "  - (7) <u>event-centered</u> commonsense relations.\n",
        "\n",
        "> In terms of *physical-entity* and *event-centered commonsense* by far, the largest new relation in $ATOMIC_{20}^{20}$. "
      ],
      "metadata": {
        "id": "8ROGvjx36Of5"
      }
    },
    {
      "cell_type": "markdown",
      "source": [
        "## Accuracy Assessment (Quote)\n"
      ],
      "metadata": {
        "id": "okX1UMJc92L3"
      }
    },
    {
      "cell_type": "markdown",
      "source": [
        "**(IMPORTANT)**\n",
        "\n",
        "**Neural Knowledge Graph Comparison**\n",
        "\n",
        "**Experimental Setup**\n"
      ],
      "metadata": {
        "id": "-Vjazwjp7e3z"
      }
    },
    {
      "cell_type": "markdown",
      "source": [
        "> *To evaluate whether knowledge\n",
        "graphs can help language models effectively transfer to\n",
        "knowledge models, they trained different pretrained language\n",
        "models on the knowledge graphs*\n",
        "\n",
        "1. **GPT2**: is a `Transformer` based language model. In their experiments, they used the\n",
        "largest GPT2 model, they also used *GPT2-XL* (fined-tuned model with 1.5B parameters) on each **CSKGs** to predict the `tail` (e.g., wheat) of a tuple given `head` (e.g., bread) and `relation` (e.g., `MadeUpOf`)\n",
        "\n",
        "> For fair comparison, they converted each\n",
        "relation manually to an English language prompt expecting\n",
        "the tail of each tuple as output generated by the model.\n",
        "\n",
        "2. **BART**:  is a <u>Bidirectional and Autoregressive\n",
        "Transformer</u>, an adaptation from **BERT** that is <u>better suited for natural language generation</u>\n",
        "(e.g., **translation**, **summarization**).\n",
        "\n",
        "So that, we're going to use **Trained COMET-BART** in our testing and evaluation."
      ],
      "metadata": {
        "id": "7k9cLIto7iL_"
      }
    },
    {
      "cell_type": "markdown",
      "source": [
        "## Connect with Google Drive"
      ],
      "metadata": {
        "id": "AceWBpP8h13R"
      }
    },
    {
      "cell_type": "code",
      "source": [
        "# With help of [cheem](https://github.com/cheems)\n",
        "#@markdown <br><center><img src='https://upload.wikimedia.org/wikipedia/commons/thumb/d/da/Google_Drive_logo.png/600px-Google_Drive_logo.png' height=\"50\" alt=\"Gdrive-logo\"/></center>\n",
        "#@markdown <center><h3> Mount GDrive to /content/drive/MyDrive/Factual-summarisation-using-COMET-T5</h3></center></br>\n",
        "MODE = \"Mount\" #@param ['Mount', 'Unmount']\n",
        "# Mount your GDrive\n",
        "import os\n",
        "from google.colab import drive\n",
        "drive.mount._DEBUG = False\n",
        "if MODE == \"Mount\":\n",
        "  drive.mount('/content/drive')\n",
        "  try:\n",
        "    os.chdir(\"/content/drive/MyDrive/Factual-summarisation-using-COMET-T5\")\n",
        "  except ValueError:\n",
        "    print(\"Can't find the directory\")\n",
        "elif MODE == \"Unmount\":\n",
        "  try:\n",
        "    drive.flush_and_unmount()\n",
        "  except ValueError:\n",
        "    pass\n",
        "  get_ipython().system_raw(\"rm -rf /root/.config/Google/DriveFS\")"
      ],
      "metadata": {
        "colab": {
          "base_uri": "https://localhost:8080/"
        },
        "cellView": "form",
        "id": "LBNg9DpSiQk_",
        "outputId": "1d84e28e-6899-4738-cc9f-21f7972449db"
      },
      "execution_count": null,
      "outputs": [
        {
          "output_type": "stream",
          "name": "stdout",
          "text": [
            "Drive already mounted at /content/drive; to attempt to forcibly remount, call drive.mount(\"/content/drive\", force_remount=True).\n"
          ]
        }
      ]
    },
    {
      "cell_type": "markdown",
      "source": [
        "## Start the code"
      ],
      "metadata": {
        "id": "2pWxbhzQkUBx"
      }
    },
    {
      "cell_type": "markdown",
      "source": [
        "**Please Don't run anything on this Notebook, since we have not shared the resource**\n",
        "\n",
        "This **Test Model** shows you an example of what the model produce."
      ],
      "metadata": {
        "id": "-54Tqp-n-Hkq"
      }
    },
    {
      "cell_type": "markdown",
      "source": [
        "### Install Dependencies"
      ],
      "metadata": {
        "id": "C76hk3_InDQU"
      }
    },
    {
      "cell_type": "code",
      "source": [
        "!pip install -r 'comet-atomic-2020/requirements.txt'"
      ],
      "metadata": {
        "colab": {
          "base_uri": "https://localhost:8080/"
        },
        "id": "QYdYw3eNkXaq",
        "outputId": "cbce7fcd-6993-4126-90ab-110195a70f0b"
      },
      "execution_count": null,
      "outputs": [
        {
          "output_type": "stream",
          "name": "stdout",
          "text": [
            "Requirement already satisfied: tensorboard in /usr/local/lib/python3.7/dist-packages (from -r comet-atomic-2020/requirements.txt (line 1)) (2.7.0)\n",
            "Requirement already satisfied: scikit-learn in /usr/local/lib/python3.7/dist-packages (from -r comet-atomic-2020/requirements.txt (line 2)) (1.0.2)\n",
            "Requirement already satisfied: seqeval in /usr/local/lib/python3.7/dist-packages (from -r comet-atomic-2020/requirements.txt (line 3)) (1.2.2)\n",
            "Requirement already satisfied: psutil in /usr/local/lib/python3.7/dist-packages (from -r comet-atomic-2020/requirements.txt (line 4)) (5.4.8)\n",
            "Requirement already satisfied: sacrebleu in /usr/local/lib/python3.7/dist-packages (from -r comet-atomic-2020/requirements.txt (line 5)) (2.0.0)\n",
            "Requirement already satisfied: rouge-score in /usr/local/lib/python3.7/dist-packages (from -r comet-atomic-2020/requirements.txt (line 6)) (0.0.4)\n",
            "Requirement already satisfied: tensorflow_datasets in /usr/local/lib/python3.7/dist-packages (from -r comet-atomic-2020/requirements.txt (line 7)) (4.0.1)\n",
            "Collecting pytorch-lightning==0.8.5\n",
            "  Using cached pytorch_lightning-0.8.5-py3-none-any.whl (313 kB)\n",
            "Requirement already satisfied: matplotlib in /usr/local/lib/python3.7/dist-packages (from -r comet-atomic-2020/requirements.txt (line 9)) (3.2.2)\n",
            "Requirement already satisfied: git-python==1.0.3 in /usr/local/lib/python3.7/dist-packages (from -r comet-atomic-2020/requirements.txt (line 10)) (1.0.3)\n",
            "Requirement already satisfied: streamlit in /usr/local/lib/python3.7/dist-packages (from -r comet-atomic-2020/requirements.txt (line 11)) (1.4.0)\n",
            "Requirement already satisfied: elasticsearch in /usr/local/lib/python3.7/dist-packages (from -r comet-atomic-2020/requirements.txt (line 12)) (7.16.3)\n",
            "Requirement already satisfied: pandas in /usr/local/lib/python3.7/dist-packages (from -r comet-atomic-2020/requirements.txt (line 13)) (1.1.5)\n",
            "Requirement already satisfied: pytest in /usr/local/lib/python3.7/dist-packages (from -r comet-atomic-2020/requirements.txt (line 14)) (3.6.4)\n",
            "Requirement already satisfied: conllu in /usr/local/lib/python3.7/dist-packages (from -r comet-atomic-2020/requirements.txt (line 15)) (4.4.1)\n",
            "Requirement already satisfied: spacy in /usr/local/lib/python3.7/dist-packages (from -r comet-atomic-2020/requirements.txt (line 16)) (2.2.4)\n",
            "Requirement already satisfied: inflect in /usr/local/lib/python3.7/dist-packages (from -r comet-atomic-2020/requirements.txt (line 17)) (2.1.0)\n",
            "Requirement already satisfied: numpy>=1.16.4 in /usr/local/lib/python3.7/dist-packages (from pytorch-lightning==0.8.5->-r comet-atomic-2020/requirements.txt (line 8)) (1.19.5)\n",
            "Requirement already satisfied: PyYAML>=5.1 in /usr/local/lib/python3.7/dist-packages (from pytorch-lightning==0.8.5->-r comet-atomic-2020/requirements.txt (line 8)) (6.0)\n",
            "Requirement already satisfied: torch>=1.3 in /usr/local/lib/python3.7/dist-packages (from pytorch-lightning==0.8.5->-r comet-atomic-2020/requirements.txt (line 8)) (1.5.1)\n",
            "Requirement already satisfied: future>=0.17.1 in /usr/local/lib/python3.7/dist-packages (from pytorch-lightning==0.8.5->-r comet-atomic-2020/requirements.txt (line 8)) (0.18.2)\n",
            "Requirement already satisfied: tqdm>=4.41.0 in /usr/local/lib/python3.7/dist-packages (from pytorch-lightning==0.8.5->-r comet-atomic-2020/requirements.txt (line 8)) (4.62.3)\n",
            "Requirement already satisfied: gitpython in /usr/local/lib/python3.7/dist-packages (from git-python==1.0.3->-r comet-atomic-2020/requirements.txt (line 10)) (3.1.26)\n",
            "Requirement already satisfied: setuptools>=41.0.0 in /usr/local/lib/python3.7/dist-packages (from tensorboard->-r comet-atomic-2020/requirements.txt (line 1)) (57.4.0)\n",
            "Requirement already satisfied: wheel>=0.26 in /usr/local/lib/python3.7/dist-packages (from tensorboard->-r comet-atomic-2020/requirements.txt (line 1)) (0.37.1)\n",
            "Requirement already satisfied: werkzeug>=0.11.15 in /usr/local/lib/python3.7/dist-packages (from tensorboard->-r comet-atomic-2020/requirements.txt (line 1)) (1.0.1)\n",
            "Requirement already satisfied: google-auth<3,>=1.6.3 in /usr/local/lib/python3.7/dist-packages (from tensorboard->-r comet-atomic-2020/requirements.txt (line 1)) (1.35.0)\n",
            "Requirement already satisfied: grpcio>=1.24.3 in /usr/local/lib/python3.7/dist-packages (from tensorboard->-r comet-atomic-2020/requirements.txt (line 1)) (1.43.0)\n",
            "Requirement already satisfied: requests<3,>=2.21.0 in /usr/local/lib/python3.7/dist-packages (from tensorboard->-r comet-atomic-2020/requirements.txt (line 1)) (2.23.0)\n",
            "Requirement already satisfied: protobuf>=3.6.0 in /usr/local/lib/python3.7/dist-packages (from tensorboard->-r comet-atomic-2020/requirements.txt (line 1)) (3.17.3)\n",
            "Requirement already satisfied: tensorboard-plugin-wit>=1.6.0 in /usr/local/lib/python3.7/dist-packages (from tensorboard->-r comet-atomic-2020/requirements.txt (line 1)) (1.8.1)\n",
            "Requirement already satisfied: markdown>=2.6.8 in /usr/local/lib/python3.7/dist-packages (from tensorboard->-r comet-atomic-2020/requirements.txt (line 1)) (3.3.6)\n",
            "Requirement already satisfied: google-auth-oauthlib<0.5,>=0.4.1 in /usr/local/lib/python3.7/dist-packages (from tensorboard->-r comet-atomic-2020/requirements.txt (line 1)) (0.4.6)\n",
            "Requirement already satisfied: tensorboard-data-server<0.7.0,>=0.6.0 in /usr/local/lib/python3.7/dist-packages (from tensorboard->-r comet-atomic-2020/requirements.txt (line 1)) (0.6.1)\n",
            "Requirement already satisfied: absl-py>=0.4 in /usr/local/lib/python3.7/dist-packages (from tensorboard->-r comet-atomic-2020/requirements.txt (line 1)) (0.12.0)\n",
            "Requirement already satisfied: six in /usr/local/lib/python3.7/dist-packages (from absl-py>=0.4->tensorboard->-r comet-atomic-2020/requirements.txt (line 1)) (1.15.0)\n",
            "Requirement already satisfied: cachetools<5.0,>=2.0.0 in /usr/local/lib/python3.7/dist-packages (from google-auth<3,>=1.6.3->tensorboard->-r comet-atomic-2020/requirements.txt (line 1)) (4.2.4)\n",
            "Requirement already satisfied: rsa<5,>=3.1.4 in /usr/local/lib/python3.7/dist-packages (from google-auth<3,>=1.6.3->tensorboard->-r comet-atomic-2020/requirements.txt (line 1)) (4.8)\n",
            "Requirement already satisfied: pyasn1-modules>=0.2.1 in /usr/local/lib/python3.7/dist-packages (from google-auth<3,>=1.6.3->tensorboard->-r comet-atomic-2020/requirements.txt (line 1)) (0.2.8)\n",
            "Requirement already satisfied: requests-oauthlib>=0.7.0 in /usr/local/lib/python3.7/dist-packages (from google-auth-oauthlib<0.5,>=0.4.1->tensorboard->-r comet-atomic-2020/requirements.txt (line 1)) (1.3.0)\n",
            "Requirement already satisfied: importlib-metadata>=4.4 in /usr/local/lib/python3.7/dist-packages (from markdown>=2.6.8->tensorboard->-r comet-atomic-2020/requirements.txt (line 1)) (4.10.0)\n",
            "Requirement already satisfied: zipp>=0.5 in /usr/local/lib/python3.7/dist-packages (from importlib-metadata>=4.4->markdown>=2.6.8->tensorboard->-r comet-atomic-2020/requirements.txt (line 1)) (3.7.0)\n",
            "Requirement already satisfied: typing-extensions>=3.6.4 in /usr/local/lib/python3.7/dist-packages (from importlib-metadata>=4.4->markdown>=2.6.8->tensorboard->-r comet-atomic-2020/requirements.txt (line 1)) (3.10.0.2)\n",
            "Requirement already satisfied: pyasn1<0.5.0,>=0.4.6 in /usr/local/lib/python3.7/dist-packages (from pyasn1-modules>=0.2.1->google-auth<3,>=1.6.3->tensorboard->-r comet-atomic-2020/requirements.txt (line 1)) (0.4.8)\n",
            "Requirement already satisfied: certifi>=2017.4.17 in /usr/local/lib/python3.7/dist-packages (from requests<3,>=2.21.0->tensorboard->-r comet-atomic-2020/requirements.txt (line 1)) (2021.10.8)\n",
            "Requirement already satisfied: idna<3,>=2.5 in /usr/local/lib/python3.7/dist-packages (from requests<3,>=2.21.0->tensorboard->-r comet-atomic-2020/requirements.txt (line 1)) (2.10)\n",
            "Requirement already satisfied: chardet<4,>=3.0.2 in /usr/local/lib/python3.7/dist-packages (from requests<3,>=2.21.0->tensorboard->-r comet-atomic-2020/requirements.txt (line 1)) (3.0.4)\n",
            "Requirement already satisfied: urllib3!=1.25.0,!=1.25.1,<1.26,>=1.21.1 in /usr/local/lib/python3.7/dist-packages (from requests<3,>=2.21.0->tensorboard->-r comet-atomic-2020/requirements.txt (line 1)) (1.24.3)\n",
            "Requirement already satisfied: oauthlib>=3.0.0 in /usr/local/lib/python3.7/dist-packages (from requests-oauthlib>=0.7.0->google-auth-oauthlib<0.5,>=0.4.1->tensorboard->-r comet-atomic-2020/requirements.txt (line 1)) (3.1.1)\n",
            "Requirement already satisfied: scipy>=1.1.0 in /usr/local/lib/python3.7/dist-packages (from scikit-learn->-r comet-atomic-2020/requirements.txt (line 2)) (1.4.1)\n",
            "Requirement already satisfied: threadpoolctl>=2.0.0 in /usr/local/lib/python3.7/dist-packages (from scikit-learn->-r comet-atomic-2020/requirements.txt (line 2)) (3.0.0)\n",
            "Requirement already satisfied: joblib>=0.11 in /usr/local/lib/python3.7/dist-packages (from scikit-learn->-r comet-atomic-2020/requirements.txt (line 2)) (1.1.0)\n",
            "Requirement already satisfied: regex in /usr/local/lib/python3.7/dist-packages (from sacrebleu->-r comet-atomic-2020/requirements.txt (line 5)) (2019.12.20)\n",
            "Requirement already satisfied: colorama in /usr/local/lib/python3.7/dist-packages (from sacrebleu->-r comet-atomic-2020/requirements.txt (line 5)) (0.4.4)\n",
            "Requirement already satisfied: tabulate>=0.8.9 in /usr/local/lib/python3.7/dist-packages (from sacrebleu->-r comet-atomic-2020/requirements.txt (line 5)) (0.8.9)\n",
            "Requirement already satisfied: portalocker in /usr/local/lib/python3.7/dist-packages (from sacrebleu->-r comet-atomic-2020/requirements.txt (line 5)) (2.3.2)\n",
            "Requirement already satisfied: nltk in /usr/local/lib/python3.7/dist-packages (from rouge-score->-r comet-atomic-2020/requirements.txt (line 6)) (3.2.5)\n",
            "Requirement already satisfied: dm-tree in /usr/local/lib/python3.7/dist-packages (from tensorflow_datasets->-r comet-atomic-2020/requirements.txt (line 7)) (0.1.6)\n",
            "Requirement already satisfied: attrs>=18.1.0 in /usr/local/lib/python3.7/dist-packages (from tensorflow_datasets->-r comet-atomic-2020/requirements.txt (line 7)) (21.4.0)\n",
            "Requirement already satisfied: tensorflow-metadata in /usr/local/lib/python3.7/dist-packages (from tensorflow_datasets->-r comet-atomic-2020/requirements.txt (line 7)) (1.5.0)\n",
            "Requirement already satisfied: dill in /usr/local/lib/python3.7/dist-packages (from tensorflow_datasets->-r comet-atomic-2020/requirements.txt (line 7)) (0.3.4)\n",
            "Requirement already satisfied: importlib-resources in /usr/local/lib/python3.7/dist-packages (from tensorflow_datasets->-r comet-atomic-2020/requirements.txt (line 7)) (5.4.0)\n",
            "Requirement already satisfied: termcolor in /usr/local/lib/python3.7/dist-packages (from tensorflow_datasets->-r comet-atomic-2020/requirements.txt (line 7)) (1.1.0)\n",
            "Requirement already satisfied: promise in /usr/local/lib/python3.7/dist-packages (from tensorflow_datasets->-r comet-atomic-2020/requirements.txt (line 7)) (2.3)\n",
            "Requirement already satisfied: python-dateutil>=2.1 in /usr/local/lib/python3.7/dist-packages (from matplotlib->-r comet-atomic-2020/requirements.txt (line 9)) (2.8.2)\n",
            "Requirement already satisfied: kiwisolver>=1.0.1 in /usr/local/lib/python3.7/dist-packages (from matplotlib->-r comet-atomic-2020/requirements.txt (line 9)) (1.3.2)\n",
            "Requirement already satisfied: cycler>=0.10 in /usr/local/lib/python3.7/dist-packages (from matplotlib->-r comet-atomic-2020/requirements.txt (line 9)) (0.11.0)\n",
            "Requirement already satisfied: pyparsing!=2.0.4,!=2.1.2,!=2.1.6,>=2.0.1 in /usr/local/lib/python3.7/dist-packages (from matplotlib->-r comet-atomic-2020/requirements.txt (line 9)) (3.0.6)\n",
            "Requirement already satisfied: pillow>=6.2.0 in /usr/local/lib/python3.7/dist-packages (from streamlit->-r comet-atomic-2020/requirements.txt (line 11)) (7.1.2)\n",
            "Requirement already satisfied: watchdog in /usr/local/lib/python3.7/dist-packages (from streamlit->-r comet-atomic-2020/requirements.txt (line 11)) (2.1.6)\n",
            "Requirement already satisfied: astor in /usr/local/lib/python3.7/dist-packages (from streamlit->-r comet-atomic-2020/requirements.txt (line 11)) (0.8.1)\n",
            "Requirement already satisfied: pydeck>=0.1.dev5 in /usr/local/lib/python3.7/dist-packages (from streamlit->-r comet-atomic-2020/requirements.txt (line 11)) (0.7.1)\n",
            "Requirement already satisfied: validators in /usr/local/lib/python3.7/dist-packages (from streamlit->-r comet-atomic-2020/requirements.txt (line 11)) (0.18.2)\n",
            "Requirement already satisfied: tzlocal in /usr/local/lib/python3.7/dist-packages (from streamlit->-r comet-atomic-2020/requirements.txt (line 11)) (1.5.1)\n",
            "Requirement already satisfied: pympler>=0.9 in /usr/local/lib/python3.7/dist-packages (from streamlit->-r comet-atomic-2020/requirements.txt (line 11)) (1.0.1)\n",
            "Requirement already satisfied: toml in /usr/local/lib/python3.7/dist-packages (from streamlit->-r comet-atomic-2020/requirements.txt (line 11)) (0.10.2)\n",
            "Requirement already satisfied: tornado>=5.0 in /usr/local/lib/python3.7/dist-packages (from streamlit->-r comet-atomic-2020/requirements.txt (line 11)) (5.1.1)\n",
            "Requirement already satisfied: blinker in /usr/local/lib/python3.7/dist-packages (from streamlit->-r comet-atomic-2020/requirements.txt (line 11)) (1.4)\n",
            "Requirement already satisfied: altair>=3.2.0 in /usr/local/lib/python3.7/dist-packages (from streamlit->-r comet-atomic-2020/requirements.txt (line 11)) (4.2.0)\n",
            "Requirement already satisfied: base58 in /usr/local/lib/python3.7/dist-packages (from streamlit->-r comet-atomic-2020/requirements.txt (line 11)) (2.1.1)\n",
            "Requirement already satisfied: packaging in /usr/local/lib/python3.7/dist-packages (from streamlit->-r comet-atomic-2020/requirements.txt (line 11)) (21.3)\n",
            "Requirement already satisfied: pyarrow in /usr/local/lib/python3.7/dist-packages (from streamlit->-r comet-atomic-2020/requirements.txt (line 11)) (3.0.0)\n",
            "Requirement already satisfied: click>=7.0 in /usr/local/lib/python3.7/dist-packages (from streamlit->-r comet-atomic-2020/requirements.txt (line 11)) (7.1.2)\n",
            "Requirement already satisfied: pytz>=2017.2 in /usr/local/lib/python3.7/dist-packages (from pandas->-r comet-atomic-2020/requirements.txt (line 13)) (2018.9)\n",
            "Requirement already satisfied: entrypoints in /usr/local/lib/python3.7/dist-packages (from altair>=3.2.0->streamlit->-r comet-atomic-2020/requirements.txt (line 11)) (0.3)\n",
            "Requirement already satisfied: toolz in /usr/local/lib/python3.7/dist-packages (from altair>=3.2.0->streamlit->-r comet-atomic-2020/requirements.txt (line 11)) (0.11.2)\n",
            "Requirement already satisfied: jinja2 in /usr/local/lib/python3.7/dist-packages (from altair>=3.2.0->streamlit->-r comet-atomic-2020/requirements.txt (line 11)) (2.11.3)\n",
            "Requirement already satisfied: jsonschema>=3.0 in /usr/local/lib/python3.7/dist-packages (from altair>=3.2.0->streamlit->-r comet-atomic-2020/requirements.txt (line 11)) (4.3.3)\n",
            "Requirement already satisfied: gitdb<5,>=4.0.1 in /usr/local/lib/python3.7/dist-packages (from gitpython->git-python==1.0.3->-r comet-atomic-2020/requirements.txt (line 10)) (4.0.9)\n",
            "Requirement already satisfied: smmap<6,>=3.0.1 in /usr/local/lib/python3.7/dist-packages (from gitdb<5,>=4.0.1->gitpython->git-python==1.0.3->-r comet-atomic-2020/requirements.txt (line 10)) (5.0.0)\n",
            "Requirement already satisfied: pyrsistent!=0.17.0,!=0.17.1,!=0.17.2,>=0.14.0 in /usr/local/lib/python3.7/dist-packages (from jsonschema>=3.0->altair>=3.2.0->streamlit->-r comet-atomic-2020/requirements.txt (line 11)) (0.18.0)\n",
            "Requirement already satisfied: traitlets>=4.3.2 in /usr/local/lib/python3.7/dist-packages (from pydeck>=0.1.dev5->streamlit->-r comet-atomic-2020/requirements.txt (line 11)) (5.1.1)\n",
            "Requirement already satisfied: ipywidgets>=7.0.0 in /usr/local/lib/python3.7/dist-packages (from pydeck>=0.1.dev5->streamlit->-r comet-atomic-2020/requirements.txt (line 11)) (7.6.5)\n",
            "Requirement already satisfied: ipykernel>=5.1.2 in /usr/local/lib/python3.7/dist-packages (from pydeck>=0.1.dev5->streamlit->-r comet-atomic-2020/requirements.txt (line 11)) (6.7.0)\n",
            "Requirement already satisfied: ipython>=7.23.1 in /usr/local/lib/python3.7/dist-packages (from ipykernel>=5.1.2->pydeck>=0.1.dev5->streamlit->-r comet-atomic-2020/requirements.txt (line 11)) (7.31.1)\n",
            "Requirement already satisfied: nest-asyncio in /usr/local/lib/python3.7/dist-packages (from ipykernel>=5.1.2->pydeck>=0.1.dev5->streamlit->-r comet-atomic-2020/requirements.txt (line 11)) (1.5.4)\n",
            "Requirement already satisfied: debugpy<2.0,>=1.0.0 in /usr/local/lib/python3.7/dist-packages (from ipykernel>=5.1.2->pydeck>=0.1.dev5->streamlit->-r comet-atomic-2020/requirements.txt (line 11)) (1.0.0)\n",
            "Requirement already satisfied: matplotlib-inline<0.2.0,>=0.1.0 in /usr/local/lib/python3.7/dist-packages (from ipykernel>=5.1.2->pydeck>=0.1.dev5->streamlit->-r comet-atomic-2020/requirements.txt (line 11)) (0.1.3)\n",
            "Requirement already satisfied: jupyter-client<8.0 in /usr/local/lib/python3.7/dist-packages (from ipykernel>=5.1.2->pydeck>=0.1.dev5->streamlit->-r comet-atomic-2020/requirements.txt (line 11)) (5.3.5)\n",
            "Requirement already satisfied: pickleshare in /usr/local/lib/python3.7/dist-packages (from ipython>=7.23.1->ipykernel>=5.1.2->pydeck>=0.1.dev5->streamlit->-r comet-atomic-2020/requirements.txt (line 11)) (0.7.5)\n",
            "Requirement already satisfied: pygments in /usr/local/lib/python3.7/dist-packages (from ipython>=7.23.1->ipykernel>=5.1.2->pydeck>=0.1.dev5->streamlit->-r comet-atomic-2020/requirements.txt (line 11)) (2.6.1)\n",
            "Requirement already satisfied: prompt-toolkit!=3.0.0,!=3.0.1,<3.1.0,>=2.0.0 in /usr/local/lib/python3.7/dist-packages (from ipython>=7.23.1->ipykernel>=5.1.2->pydeck>=0.1.dev5->streamlit->-r comet-atomic-2020/requirements.txt (line 11)) (3.0.24)\n",
            "Requirement already satisfied: jedi>=0.16 in /usr/local/lib/python3.7/dist-packages (from ipython>=7.23.1->ipykernel>=5.1.2->pydeck>=0.1.dev5->streamlit->-r comet-atomic-2020/requirements.txt (line 11)) (0.18.1)\n",
            "Requirement already satisfied: decorator in /usr/local/lib/python3.7/dist-packages (from ipython>=7.23.1->ipykernel>=5.1.2->pydeck>=0.1.dev5->streamlit->-r comet-atomic-2020/requirements.txt (line 11)) (4.4.2)\n",
            "Requirement already satisfied: pexpect>4.3 in /usr/local/lib/python3.7/dist-packages (from ipython>=7.23.1->ipykernel>=5.1.2->pydeck>=0.1.dev5->streamlit->-r comet-atomic-2020/requirements.txt (line 11)) (4.8.0)\n",
            "Requirement already satisfied: backcall in /usr/local/lib/python3.7/dist-packages (from ipython>=7.23.1->ipykernel>=5.1.2->pydeck>=0.1.dev5->streamlit->-r comet-atomic-2020/requirements.txt (line 11)) (0.2.0)\n",
            "Requirement already satisfied: jupyterlab-widgets>=1.0.0 in /usr/local/lib/python3.7/dist-packages (from ipywidgets>=7.0.0->pydeck>=0.1.dev5->streamlit->-r comet-atomic-2020/requirements.txt (line 11)) (1.0.2)\n",
            "Requirement already satisfied: widgetsnbextension~=3.5.0 in /usr/local/lib/python3.7/dist-packages (from ipywidgets>=7.0.0->pydeck>=0.1.dev5->streamlit->-r comet-atomic-2020/requirements.txt (line 11)) (3.5.2)\n",
            "Requirement already satisfied: ipython-genutils~=0.2.0 in /usr/local/lib/python3.7/dist-packages (from ipywidgets>=7.0.0->pydeck>=0.1.dev5->streamlit->-r comet-atomic-2020/requirements.txt (line 11)) (0.2.0)\n",
            "Requirement already satisfied: nbformat>=4.2.0 in /usr/local/lib/python3.7/dist-packages (from ipywidgets>=7.0.0->pydeck>=0.1.dev5->streamlit->-r comet-atomic-2020/requirements.txt (line 11)) (5.1.3)\n",
            "Requirement already satisfied: parso<0.9.0,>=0.8.0 in /usr/local/lib/python3.7/dist-packages (from jedi>=0.16->ipython>=7.23.1->ipykernel>=5.1.2->pydeck>=0.1.dev5->streamlit->-r comet-atomic-2020/requirements.txt (line 11)) (0.8.3)\n",
            "Requirement already satisfied: MarkupSafe>=0.23 in /usr/local/lib/python3.7/dist-packages (from jinja2->altair>=3.2.0->streamlit->-r comet-atomic-2020/requirements.txt (line 11)) (2.0.1)\n",
            "Requirement already satisfied: jupyter-core>=4.6.0 in /usr/local/lib/python3.7/dist-packages (from jupyter-client<8.0->ipykernel>=5.1.2->pydeck>=0.1.dev5->streamlit->-r comet-atomic-2020/requirements.txt (line 11)) (4.9.1)\n",
            "Requirement already satisfied: pyzmq>=13 in /usr/local/lib/python3.7/dist-packages (from jupyter-client<8.0->ipykernel>=5.1.2->pydeck>=0.1.dev5->streamlit->-r comet-atomic-2020/requirements.txt (line 11)) (22.3.0)\n",
            "Requirement already satisfied: ptyprocess>=0.5 in /usr/local/lib/python3.7/dist-packages (from pexpect>4.3->ipython>=7.23.1->ipykernel>=5.1.2->pydeck>=0.1.dev5->streamlit->-r comet-atomic-2020/requirements.txt (line 11)) (0.7.0)\n",
            "Requirement already satisfied: wcwidth in /usr/local/lib/python3.7/dist-packages (from prompt-toolkit!=3.0.0,!=3.0.1,<3.1.0,>=2.0.0->ipython>=7.23.1->ipykernel>=5.1.2->pydeck>=0.1.dev5->streamlit->-r comet-atomic-2020/requirements.txt (line 11)) (0.2.5)\n",
            "Requirement already satisfied: notebook>=4.4.1 in /usr/local/lib/python3.7/dist-packages (from widgetsnbextension~=3.5.0->ipywidgets>=7.0.0->pydeck>=0.1.dev5->streamlit->-r comet-atomic-2020/requirements.txt (line 11)) (5.3.1)\n",
            "Requirement already satisfied: Send2Trash in /usr/local/lib/python3.7/dist-packages (from notebook>=4.4.1->widgetsnbextension~=3.5.0->ipywidgets>=7.0.0->pydeck>=0.1.dev5->streamlit->-r comet-atomic-2020/requirements.txt (line 11)) (1.8.0)\n",
            "Requirement already satisfied: terminado>=0.8.1 in /usr/local/lib/python3.7/dist-packages (from notebook>=4.4.1->widgetsnbextension~=3.5.0->ipywidgets>=7.0.0->pydeck>=0.1.dev5->streamlit->-r comet-atomic-2020/requirements.txt (line 11)) (0.12.1)\n",
            "Requirement already satisfied: nbconvert in /usr/local/lib/python3.7/dist-packages (from notebook>=4.4.1->widgetsnbextension~=3.5.0->ipywidgets>=7.0.0->pydeck>=0.1.dev5->streamlit->-r comet-atomic-2020/requirements.txt (line 11)) (5.6.1)\n",
            "Requirement already satisfied: atomicwrites>=1.0 in /usr/local/lib/python3.7/dist-packages (from pytest->-r comet-atomic-2020/requirements.txt (line 14)) (1.4.0)\n",
            "Requirement already satisfied: pluggy<0.8,>=0.5 in /usr/local/lib/python3.7/dist-packages (from pytest->-r comet-atomic-2020/requirements.txt (line 14)) (0.7.1)\n",
            "Requirement already satisfied: more-itertools>=4.0.0 in /usr/local/lib/python3.7/dist-packages (from pytest->-r comet-atomic-2020/requirements.txt (line 14)) (8.12.0)\n",
            "Requirement already satisfied: py>=1.5.0 in /usr/local/lib/python3.7/dist-packages (from pytest->-r comet-atomic-2020/requirements.txt (line 14)) (1.11.0)\n",
            "Requirement already satisfied: thinc==7.4.0 in /usr/local/lib/python3.7/dist-packages (from spacy->-r comet-atomic-2020/requirements.txt (line 16)) (7.4.0)\n",
            "Requirement already satisfied: murmurhash<1.1.0,>=0.28.0 in /usr/local/lib/python3.7/dist-packages (from spacy->-r comet-atomic-2020/requirements.txt (line 16)) (1.0.6)\n",
            "Requirement already satisfied: cymem<2.1.0,>=2.0.2 in /usr/local/lib/python3.7/dist-packages (from spacy->-r comet-atomic-2020/requirements.txt (line 16)) (2.0.6)\n",
            "Requirement already satisfied: wasabi<1.1.0,>=0.4.0 in /usr/local/lib/python3.7/dist-packages (from spacy->-r comet-atomic-2020/requirements.txt (line 16)) (0.9.0)\n",
            "Requirement already satisfied: catalogue<1.1.0,>=0.0.7 in /usr/local/lib/python3.7/dist-packages (from spacy->-r comet-atomic-2020/requirements.txt (line 16)) (1.0.0)\n",
            "Requirement already satisfied: preshed<3.1.0,>=3.0.2 in /usr/local/lib/python3.7/dist-packages (from spacy->-r comet-atomic-2020/requirements.txt (line 16)) (3.0.6)\n",
            "Requirement already satisfied: blis<0.5.0,>=0.4.0 in /usr/local/lib/python3.7/dist-packages (from spacy->-r comet-atomic-2020/requirements.txt (line 16)) (0.4.1)\n",
            "Requirement already satisfied: srsly<1.1.0,>=1.0.2 in /usr/local/lib/python3.7/dist-packages (from spacy->-r comet-atomic-2020/requirements.txt (line 16)) (1.0.5)\n",
            "Requirement already satisfied: plac<1.2.0,>=0.9.6 in /usr/local/lib/python3.7/dist-packages (from spacy->-r comet-atomic-2020/requirements.txt (line 16)) (1.1.3)\n",
            "Requirement already satisfied: mistune<2,>=0.8.1 in /usr/local/lib/python3.7/dist-packages (from nbconvert->notebook>=4.4.1->widgetsnbextension~=3.5.0->ipywidgets>=7.0.0->pydeck>=0.1.dev5->streamlit->-r comet-atomic-2020/requirements.txt (line 11)) (0.8.4)\n",
            "Requirement already satisfied: pandocfilters>=1.4.1 in /usr/local/lib/python3.7/dist-packages (from nbconvert->notebook>=4.4.1->widgetsnbextension~=3.5.0->ipywidgets>=7.0.0->pydeck>=0.1.dev5->streamlit->-r comet-atomic-2020/requirements.txt (line 11)) (1.5.0)\n",
            "Requirement already satisfied: bleach in /usr/local/lib/python3.7/dist-packages (from nbconvert->notebook>=4.4.1->widgetsnbextension~=3.5.0->ipywidgets>=7.0.0->pydeck>=0.1.dev5->streamlit->-r comet-atomic-2020/requirements.txt (line 11)) (4.1.0)\n",
            "Requirement already satisfied: defusedxml in /usr/local/lib/python3.7/dist-packages (from nbconvert->notebook>=4.4.1->widgetsnbextension~=3.5.0->ipywidgets>=7.0.0->pydeck>=0.1.dev5->streamlit->-r comet-atomic-2020/requirements.txt (line 11)) (0.7.1)\n",
            "Requirement already satisfied: testpath in /usr/local/lib/python3.7/dist-packages (from nbconvert->notebook>=4.4.1->widgetsnbextension~=3.5.0->ipywidgets>=7.0.0->pydeck>=0.1.dev5->streamlit->-r comet-atomic-2020/requirements.txt (line 11)) (0.5.0)\n",
            "Requirement already satisfied: webencodings in /usr/local/lib/python3.7/dist-packages (from bleach->nbconvert->notebook>=4.4.1->widgetsnbextension~=3.5.0->ipywidgets>=7.0.0->pydeck>=0.1.dev5->streamlit->-r comet-atomic-2020/requirements.txt (line 11)) (0.5.1)\n",
            "Requirement already satisfied: googleapis-common-protos<2,>=1.52.0 in /usr/local/lib/python3.7/dist-packages (from tensorflow-metadata->tensorflow_datasets->-r comet-atomic-2020/requirements.txt (line 7)) (1.54.0)\n",
            "Installing collected packages: pytorch-lightning\n",
            "  Attempting uninstall: pytorch-lightning\n",
            "    Found existing installation: pytorch-lightning 0.8.1\n",
            "    Uninstalling pytorch-lightning-0.8.1:\n",
            "      Successfully uninstalled pytorch-lightning-0.8.1\n",
            "Successfully installed pytorch-lightning-0.8.5\n"
          ]
        }
      ]
    },
    {
      "cell_type": "code",
      "source": [
        "!pip install -r 'comet-atomic-2020/models/comet_atomic2020_bart/requirements.txt'"
      ],
      "metadata": {
        "colab": {
          "base_uri": "https://localhost:8080/"
        },
        "id": "ts345mUnnA0b",
        "outputId": "18a0efc4-75cd-4940-ed57-92fb7ac34220"
      },
      "execution_count": null,
      "outputs": [
        {
          "output_type": "stream",
          "name": "stdout",
          "text": [
            "Requirement already satisfied: tensorboard in /usr/local/lib/python3.7/dist-packages (from -r comet-atomic-2020/models/comet_atomic2020_bart/requirements.txt (line 1)) (2.7.0)\n",
            "Requirement already satisfied: scikit-learn in /usr/local/lib/python3.7/dist-packages (from -r comet-atomic-2020/models/comet_atomic2020_bart/requirements.txt (line 2)) (1.0.2)\n",
            "Requirement already satisfied: seqeval in /usr/local/lib/python3.7/dist-packages (from -r comet-atomic-2020/models/comet_atomic2020_bart/requirements.txt (line 3)) (1.2.2)\n",
            "Requirement already satisfied: psutil in /usr/local/lib/python3.7/dist-packages (from -r comet-atomic-2020/models/comet_atomic2020_bart/requirements.txt (line 4)) (5.4.8)\n",
            "Requirement already satisfied: sacrebleu in /usr/local/lib/python3.7/dist-packages (from -r comet-atomic-2020/models/comet_atomic2020_bart/requirements.txt (line 5)) (2.0.0)\n",
            "Requirement already satisfied: rouge-score in /usr/local/lib/python3.7/dist-packages (from -r comet-atomic-2020/models/comet_atomic2020_bart/requirements.txt (line 6)) (0.0.4)\n",
            "Requirement already satisfied: tensorflow_datasets in /usr/local/lib/python3.7/dist-packages (from -r comet-atomic-2020/models/comet_atomic2020_bart/requirements.txt (line 7)) (4.0.1)\n",
            "Collecting pytorch-lightning==0.8.1\n",
            "  Using cached pytorch_lightning-0.8.1-py3-none-any.whl (293 kB)\n",
            "Requirement already satisfied: matplotlib in /usr/local/lib/python3.7/dist-packages (from -r comet-atomic-2020/models/comet_atomic2020_bart/requirements.txt (line 9)) (3.2.2)\n",
            "Requirement already satisfied: git-python==1.0.3 in /usr/local/lib/python3.7/dist-packages (from -r comet-atomic-2020/models/comet_atomic2020_bart/requirements.txt (line 10)) (1.0.3)\n",
            "Requirement already satisfied: faiss in /usr/local/lib/python3.7/dist-packages (from -r comet-atomic-2020/models/comet_atomic2020_bart/requirements.txt (line 11)) (1.5.3)\n",
            "Requirement already satisfied: streamlit in /usr/local/lib/python3.7/dist-packages (from -r comet-atomic-2020/models/comet_atomic2020_bart/requirements.txt (line 12)) (1.4.0)\n",
            "Requirement already satisfied: elasticsearch in /usr/local/lib/python3.7/dist-packages (from -r comet-atomic-2020/models/comet_atomic2020_bart/requirements.txt (line 13)) (7.16.3)\n",
            "Requirement already satisfied: pandas in /usr/local/lib/python3.7/dist-packages (from -r comet-atomic-2020/models/comet_atomic2020_bart/requirements.txt (line 14)) (1.1.5)\n",
            "Requirement already satisfied: nlp in /usr/local/lib/python3.7/dist-packages (from -r comet-atomic-2020/models/comet_atomic2020_bart/requirements.txt (line 15)) (0.4.0)\n",
            "Requirement already satisfied: spacy in /usr/local/lib/python3.7/dist-packages (from -r comet-atomic-2020/models/comet_atomic2020_bart/requirements.txt (line 16)) (2.2.4)\n",
            "Requirement already satisfied: transformers==3.0.2 in /usr/local/lib/python3.7/dist-packages (from -r comet-atomic-2020/models/comet_atomic2020_bart/requirements.txt (line 17)) (3.0.2)\n",
            "Requirement already satisfied: torch==1.5.1 in /usr/local/lib/python3.7/dist-packages (from -r comet-atomic-2020/models/comet_atomic2020_bart/requirements.txt (line 18)) (1.5.1)\n",
            "Requirement already satisfied: torchtext in /usr/local/lib/python3.7/dist-packages (from -r comet-atomic-2020/models/comet_atomic2020_bart/requirements.txt (line 19)) (0.8.0)\n",
            "Requirement already satisfied: PyYAML>=5.1 in /usr/local/lib/python3.7/dist-packages (from pytorch-lightning==0.8.1->-r comet-atomic-2020/models/comet_atomic2020_bart/requirements.txt (line 8)) (6.0)\n",
            "Requirement already satisfied: tqdm>=4.41.0 in /usr/local/lib/python3.7/dist-packages (from pytorch-lightning==0.8.1->-r comet-atomic-2020/models/comet_atomic2020_bart/requirements.txt (line 8)) (4.62.3)\n",
            "Requirement already satisfied: future>=0.17.1 in /usr/local/lib/python3.7/dist-packages (from pytorch-lightning==0.8.1->-r comet-atomic-2020/models/comet_atomic2020_bart/requirements.txt (line 8)) (0.18.2)\n",
            "Requirement already satisfied: numpy>=1.15 in /usr/local/lib/python3.7/dist-packages (from pytorch-lightning==0.8.1->-r comet-atomic-2020/models/comet_atomic2020_bart/requirements.txt (line 8)) (1.19.5)\n",
            "Requirement already satisfied: gitpython in /usr/local/lib/python3.7/dist-packages (from git-python==1.0.3->-r comet-atomic-2020/models/comet_atomic2020_bart/requirements.txt (line 10)) (3.1.26)\n",
            "Requirement already satisfied: packaging in /usr/local/lib/python3.7/dist-packages (from transformers==3.0.2->-r comet-atomic-2020/models/comet_atomic2020_bart/requirements.txt (line 17)) (21.3)\n",
            "Requirement already satisfied: regex!=2019.12.17 in /usr/local/lib/python3.7/dist-packages (from transformers==3.0.2->-r comet-atomic-2020/models/comet_atomic2020_bart/requirements.txt (line 17)) (2019.12.20)\n",
            "Requirement already satisfied: filelock in /usr/local/lib/python3.7/dist-packages (from transformers==3.0.2->-r comet-atomic-2020/models/comet_atomic2020_bart/requirements.txt (line 17)) (3.4.2)\n",
            "Requirement already satisfied: requests in /usr/local/lib/python3.7/dist-packages (from transformers==3.0.2->-r comet-atomic-2020/models/comet_atomic2020_bart/requirements.txt (line 17)) (2.23.0)\n",
            "Requirement already satisfied: sentencepiece!=0.1.92 in /usr/local/lib/python3.7/dist-packages (from transformers==3.0.2->-r comet-atomic-2020/models/comet_atomic2020_bart/requirements.txt (line 17)) (0.1.96)\n",
            "Requirement already satisfied: sacremoses in /usr/local/lib/python3.7/dist-packages (from transformers==3.0.2->-r comet-atomic-2020/models/comet_atomic2020_bart/requirements.txt (line 17)) (0.0.47)\n",
            "Requirement already satisfied: tokenizers==0.8.1.rc1 in /usr/local/lib/python3.7/dist-packages (from transformers==3.0.2->-r comet-atomic-2020/models/comet_atomic2020_bart/requirements.txt (line 17)) (0.8.1rc1)\n",
            "Requirement already satisfied: protobuf>=3.6.0 in /usr/local/lib/python3.7/dist-packages (from tensorboard->-r comet-atomic-2020/models/comet_atomic2020_bart/requirements.txt (line 1)) (3.17.3)\n",
            "Requirement already satisfied: tensorboard-plugin-wit>=1.6.0 in /usr/local/lib/python3.7/dist-packages (from tensorboard->-r comet-atomic-2020/models/comet_atomic2020_bart/requirements.txt (line 1)) (1.8.1)\n",
            "Requirement already satisfied: werkzeug>=0.11.15 in /usr/local/lib/python3.7/dist-packages (from tensorboard->-r comet-atomic-2020/models/comet_atomic2020_bart/requirements.txt (line 1)) (1.0.1)\n",
            "Requirement already satisfied: absl-py>=0.4 in /usr/local/lib/python3.7/dist-packages (from tensorboard->-r comet-atomic-2020/models/comet_atomic2020_bart/requirements.txt (line 1)) (0.12.0)\n",
            "Requirement already satisfied: google-auth-oauthlib<0.5,>=0.4.1 in /usr/local/lib/python3.7/dist-packages (from tensorboard->-r comet-atomic-2020/models/comet_atomic2020_bart/requirements.txt (line 1)) (0.4.6)\n",
            "Requirement already satisfied: wheel>=0.26 in /usr/local/lib/python3.7/dist-packages (from tensorboard->-r comet-atomic-2020/models/comet_atomic2020_bart/requirements.txt (line 1)) (0.37.1)\n",
            "Requirement already satisfied: setuptools>=41.0.0 in /usr/local/lib/python3.7/dist-packages (from tensorboard->-r comet-atomic-2020/models/comet_atomic2020_bart/requirements.txt (line 1)) (57.4.0)\n",
            "Requirement already satisfied: grpcio>=1.24.3 in /usr/local/lib/python3.7/dist-packages (from tensorboard->-r comet-atomic-2020/models/comet_atomic2020_bart/requirements.txt (line 1)) (1.43.0)\n",
            "Requirement already satisfied: markdown>=2.6.8 in /usr/local/lib/python3.7/dist-packages (from tensorboard->-r comet-atomic-2020/models/comet_atomic2020_bart/requirements.txt (line 1)) (3.3.6)\n",
            "Requirement already satisfied: google-auth<3,>=1.6.3 in /usr/local/lib/python3.7/dist-packages (from tensorboard->-r comet-atomic-2020/models/comet_atomic2020_bart/requirements.txt (line 1)) (1.35.0)\n",
            "Requirement already satisfied: tensorboard-data-server<0.7.0,>=0.6.0 in /usr/local/lib/python3.7/dist-packages (from tensorboard->-r comet-atomic-2020/models/comet_atomic2020_bart/requirements.txt (line 1)) (0.6.1)\n",
            "Requirement already satisfied: six in /usr/local/lib/python3.7/dist-packages (from absl-py>=0.4->tensorboard->-r comet-atomic-2020/models/comet_atomic2020_bart/requirements.txt (line 1)) (1.15.0)\n",
            "Requirement already satisfied: pyasn1-modules>=0.2.1 in /usr/local/lib/python3.7/dist-packages (from google-auth<3,>=1.6.3->tensorboard->-r comet-atomic-2020/models/comet_atomic2020_bart/requirements.txt (line 1)) (0.2.8)\n",
            "Requirement already satisfied: cachetools<5.0,>=2.0.0 in /usr/local/lib/python3.7/dist-packages (from google-auth<3,>=1.6.3->tensorboard->-r comet-atomic-2020/models/comet_atomic2020_bart/requirements.txt (line 1)) (4.2.4)\n",
            "Requirement already satisfied: rsa<5,>=3.1.4 in /usr/local/lib/python3.7/dist-packages (from google-auth<3,>=1.6.3->tensorboard->-r comet-atomic-2020/models/comet_atomic2020_bart/requirements.txt (line 1)) (4.8)\n",
            "Requirement already satisfied: requests-oauthlib>=0.7.0 in /usr/local/lib/python3.7/dist-packages (from google-auth-oauthlib<0.5,>=0.4.1->tensorboard->-r comet-atomic-2020/models/comet_atomic2020_bart/requirements.txt (line 1)) (1.3.0)\n",
            "Requirement already satisfied: importlib-metadata>=4.4 in /usr/local/lib/python3.7/dist-packages (from markdown>=2.6.8->tensorboard->-r comet-atomic-2020/models/comet_atomic2020_bart/requirements.txt (line 1)) (4.10.0)\n",
            "Requirement already satisfied: typing-extensions>=3.6.4 in /usr/local/lib/python3.7/dist-packages (from importlib-metadata>=4.4->markdown>=2.6.8->tensorboard->-r comet-atomic-2020/models/comet_atomic2020_bart/requirements.txt (line 1)) (3.10.0.2)\n",
            "Requirement already satisfied: zipp>=0.5 in /usr/local/lib/python3.7/dist-packages (from importlib-metadata>=4.4->markdown>=2.6.8->tensorboard->-r comet-atomic-2020/models/comet_atomic2020_bart/requirements.txt (line 1)) (3.7.0)\n",
            "Requirement already satisfied: pyasn1<0.5.0,>=0.4.6 in /usr/local/lib/python3.7/dist-packages (from pyasn1-modules>=0.2.1->google-auth<3,>=1.6.3->tensorboard->-r comet-atomic-2020/models/comet_atomic2020_bart/requirements.txt (line 1)) (0.4.8)\n",
            "Requirement already satisfied: idna<3,>=2.5 in /usr/local/lib/python3.7/dist-packages (from requests->transformers==3.0.2->-r comet-atomic-2020/models/comet_atomic2020_bart/requirements.txt (line 17)) (2.10)\n",
            "Requirement already satisfied: urllib3!=1.25.0,!=1.25.1,<1.26,>=1.21.1 in /usr/local/lib/python3.7/dist-packages (from requests->transformers==3.0.2->-r comet-atomic-2020/models/comet_atomic2020_bart/requirements.txt (line 17)) (1.24.3)\n",
            "Requirement already satisfied: certifi>=2017.4.17 in /usr/local/lib/python3.7/dist-packages (from requests->transformers==3.0.2->-r comet-atomic-2020/models/comet_atomic2020_bart/requirements.txt (line 17)) (2021.10.8)\n",
            "Requirement already satisfied: chardet<4,>=3.0.2 in /usr/local/lib/python3.7/dist-packages (from requests->transformers==3.0.2->-r comet-atomic-2020/models/comet_atomic2020_bart/requirements.txt (line 17)) (3.0.4)\n",
            "Requirement already satisfied: oauthlib>=3.0.0 in /usr/local/lib/python3.7/dist-packages (from requests-oauthlib>=0.7.0->google-auth-oauthlib<0.5,>=0.4.1->tensorboard->-r comet-atomic-2020/models/comet_atomic2020_bart/requirements.txt (line 1)) (3.1.1)\n",
            "Requirement already satisfied: threadpoolctl>=2.0.0 in /usr/local/lib/python3.7/dist-packages (from scikit-learn->-r comet-atomic-2020/models/comet_atomic2020_bart/requirements.txt (line 2)) (3.0.0)\n",
            "Requirement already satisfied: joblib>=0.11 in /usr/local/lib/python3.7/dist-packages (from scikit-learn->-r comet-atomic-2020/models/comet_atomic2020_bart/requirements.txt (line 2)) (1.1.0)\n",
            "Requirement already satisfied: scipy>=1.1.0 in /usr/local/lib/python3.7/dist-packages (from scikit-learn->-r comet-atomic-2020/models/comet_atomic2020_bart/requirements.txt (line 2)) (1.4.1)\n",
            "Requirement already satisfied: colorama in /usr/local/lib/python3.7/dist-packages (from sacrebleu->-r comet-atomic-2020/models/comet_atomic2020_bart/requirements.txt (line 5)) (0.4.4)\n",
            "Requirement already satisfied: tabulate>=0.8.9 in /usr/local/lib/python3.7/dist-packages (from sacrebleu->-r comet-atomic-2020/models/comet_atomic2020_bart/requirements.txt (line 5)) (0.8.9)\n",
            "Requirement already satisfied: portalocker in /usr/local/lib/python3.7/dist-packages (from sacrebleu->-r comet-atomic-2020/models/comet_atomic2020_bart/requirements.txt (line 5)) (2.3.2)\n",
            "Requirement already satisfied: nltk in /usr/local/lib/python3.7/dist-packages (from rouge-score->-r comet-atomic-2020/models/comet_atomic2020_bart/requirements.txt (line 6)) (3.2.5)\n",
            "Requirement already satisfied: attrs>=18.1.0 in /usr/local/lib/python3.7/dist-packages (from tensorflow_datasets->-r comet-atomic-2020/models/comet_atomic2020_bart/requirements.txt (line 7)) (21.4.0)\n",
            "Requirement already satisfied: importlib-resources in /usr/local/lib/python3.7/dist-packages (from tensorflow_datasets->-r comet-atomic-2020/models/comet_atomic2020_bart/requirements.txt (line 7)) (5.4.0)\n",
            "Requirement already satisfied: dill in /usr/local/lib/python3.7/dist-packages (from tensorflow_datasets->-r comet-atomic-2020/models/comet_atomic2020_bart/requirements.txt (line 7)) (0.3.4)\n",
            "Requirement already satisfied: dm-tree in /usr/local/lib/python3.7/dist-packages (from tensorflow_datasets->-r comet-atomic-2020/models/comet_atomic2020_bart/requirements.txt (line 7)) (0.1.6)\n",
            "Requirement already satisfied: promise in /usr/local/lib/python3.7/dist-packages (from tensorflow_datasets->-r comet-atomic-2020/models/comet_atomic2020_bart/requirements.txt (line 7)) (2.3)\n",
            "Requirement already satisfied: tensorflow-metadata in /usr/local/lib/python3.7/dist-packages (from tensorflow_datasets->-r comet-atomic-2020/models/comet_atomic2020_bart/requirements.txt (line 7)) (1.5.0)\n",
            "Requirement already satisfied: termcolor in /usr/local/lib/python3.7/dist-packages (from tensorflow_datasets->-r comet-atomic-2020/models/comet_atomic2020_bart/requirements.txt (line 7)) (1.1.0)\n",
            "Requirement already satisfied: python-dateutil>=2.1 in /usr/local/lib/python3.7/dist-packages (from matplotlib->-r comet-atomic-2020/models/comet_atomic2020_bart/requirements.txt (line 9)) (2.8.2)\n",
            "Requirement already satisfied: pyparsing!=2.0.4,!=2.1.2,!=2.1.6,>=2.0.1 in /usr/local/lib/python3.7/dist-packages (from matplotlib->-r comet-atomic-2020/models/comet_atomic2020_bart/requirements.txt (line 9)) (3.0.6)\n",
            "Requirement already satisfied: kiwisolver>=1.0.1 in /usr/local/lib/python3.7/dist-packages (from matplotlib->-r comet-atomic-2020/models/comet_atomic2020_bart/requirements.txt (line 9)) (1.3.2)\n",
            "Requirement already satisfied: cycler>=0.10 in /usr/local/lib/python3.7/dist-packages (from matplotlib->-r comet-atomic-2020/models/comet_atomic2020_bart/requirements.txt (line 9)) (0.11.0)\n",
            "Requirement already satisfied: validators in /usr/local/lib/python3.7/dist-packages (from streamlit->-r comet-atomic-2020/models/comet_atomic2020_bart/requirements.txt (line 12)) (0.18.2)\n",
            "Requirement already satisfied: pympler>=0.9 in /usr/local/lib/python3.7/dist-packages (from streamlit->-r comet-atomic-2020/models/comet_atomic2020_bart/requirements.txt (line 12)) (1.0.1)\n",
            "Requirement already satisfied: watchdog in /usr/local/lib/python3.7/dist-packages (from streamlit->-r comet-atomic-2020/models/comet_atomic2020_bart/requirements.txt (line 12)) (2.1.6)\n",
            "Requirement already satisfied: pydeck>=0.1.dev5 in /usr/local/lib/python3.7/dist-packages (from streamlit->-r comet-atomic-2020/models/comet_atomic2020_bart/requirements.txt (line 12)) (0.7.1)\n",
            "Requirement already satisfied: tornado>=5.0 in /usr/local/lib/python3.7/dist-packages (from streamlit->-r comet-atomic-2020/models/comet_atomic2020_bart/requirements.txt (line 12)) (5.1.1)\n",
            "Requirement already satisfied: base58 in /usr/local/lib/python3.7/dist-packages (from streamlit->-r comet-atomic-2020/models/comet_atomic2020_bart/requirements.txt (line 12)) (2.1.1)\n",
            "Requirement already satisfied: blinker in /usr/local/lib/python3.7/dist-packages (from streamlit->-r comet-atomic-2020/models/comet_atomic2020_bart/requirements.txt (line 12)) (1.4)\n",
            "Requirement already satisfied: click>=7.0 in /usr/local/lib/python3.7/dist-packages (from streamlit->-r comet-atomic-2020/models/comet_atomic2020_bart/requirements.txt (line 12)) (7.1.2)\n",
            "Requirement already satisfied: tzlocal in /usr/local/lib/python3.7/dist-packages (from streamlit->-r comet-atomic-2020/models/comet_atomic2020_bart/requirements.txt (line 12)) (1.5.1)\n",
            "Requirement already satisfied: astor in /usr/local/lib/python3.7/dist-packages (from streamlit->-r comet-atomic-2020/models/comet_atomic2020_bart/requirements.txt (line 12)) (0.8.1)\n",
            "Requirement already satisfied: pyarrow in /usr/local/lib/python3.7/dist-packages (from streamlit->-r comet-atomic-2020/models/comet_atomic2020_bart/requirements.txt (line 12)) (3.0.0)\n",
            "Requirement already satisfied: toml in /usr/local/lib/python3.7/dist-packages (from streamlit->-r comet-atomic-2020/models/comet_atomic2020_bart/requirements.txt (line 12)) (0.10.2)\n",
            "Requirement already satisfied: pillow>=6.2.0 in /usr/local/lib/python3.7/dist-packages (from streamlit->-r comet-atomic-2020/models/comet_atomic2020_bart/requirements.txt (line 12)) (7.1.2)\n",
            "Requirement already satisfied: altair>=3.2.0 in /usr/local/lib/python3.7/dist-packages (from streamlit->-r comet-atomic-2020/models/comet_atomic2020_bart/requirements.txt (line 12)) (4.2.0)\n",
            "Requirement already satisfied: pytz>=2017.2 in /usr/local/lib/python3.7/dist-packages (from pandas->-r comet-atomic-2020/models/comet_atomic2020_bart/requirements.txt (line 14)) (2018.9)\n",
            "Requirement already satisfied: jinja2 in /usr/local/lib/python3.7/dist-packages (from altair>=3.2.0->streamlit->-r comet-atomic-2020/models/comet_atomic2020_bart/requirements.txt (line 12)) (2.11.3)\n",
            "Requirement already satisfied: jsonschema>=3.0 in /usr/local/lib/python3.7/dist-packages (from altair>=3.2.0->streamlit->-r comet-atomic-2020/models/comet_atomic2020_bart/requirements.txt (line 12)) (4.3.3)\n",
            "Requirement already satisfied: toolz in /usr/local/lib/python3.7/dist-packages (from altair>=3.2.0->streamlit->-r comet-atomic-2020/models/comet_atomic2020_bart/requirements.txt (line 12)) (0.11.2)\n",
            "Requirement already satisfied: entrypoints in /usr/local/lib/python3.7/dist-packages (from altair>=3.2.0->streamlit->-r comet-atomic-2020/models/comet_atomic2020_bart/requirements.txt (line 12)) (0.3)\n",
            "Requirement already satisfied: gitdb<5,>=4.0.1 in /usr/local/lib/python3.7/dist-packages (from gitpython->git-python==1.0.3->-r comet-atomic-2020/models/comet_atomic2020_bart/requirements.txt (line 10)) (4.0.9)\n",
            "Requirement already satisfied: smmap<6,>=3.0.1 in /usr/local/lib/python3.7/dist-packages (from gitdb<5,>=4.0.1->gitpython->git-python==1.0.3->-r comet-atomic-2020/models/comet_atomic2020_bart/requirements.txt (line 10)) (5.0.0)\n",
            "Requirement already satisfied: pyrsistent!=0.17.0,!=0.17.1,!=0.17.2,>=0.14.0 in /usr/local/lib/python3.7/dist-packages (from jsonschema>=3.0->altair>=3.2.0->streamlit->-r comet-atomic-2020/models/comet_atomic2020_bart/requirements.txt (line 12)) (0.18.0)\n",
            "Requirement already satisfied: traitlets>=4.3.2 in /usr/local/lib/python3.7/dist-packages (from pydeck>=0.1.dev5->streamlit->-r comet-atomic-2020/models/comet_atomic2020_bart/requirements.txt (line 12)) (5.1.1)\n",
            "Requirement already satisfied: ipywidgets>=7.0.0 in /usr/local/lib/python3.7/dist-packages (from pydeck>=0.1.dev5->streamlit->-r comet-atomic-2020/models/comet_atomic2020_bart/requirements.txt (line 12)) (7.6.5)\n",
            "Requirement already satisfied: ipykernel>=5.1.2 in /usr/local/lib/python3.7/dist-packages (from pydeck>=0.1.dev5->streamlit->-r comet-atomic-2020/models/comet_atomic2020_bart/requirements.txt (line 12)) (6.7.0)\n",
            "Requirement already satisfied: debugpy<2.0,>=1.0.0 in /usr/local/lib/python3.7/dist-packages (from ipykernel>=5.1.2->pydeck>=0.1.dev5->streamlit->-r comet-atomic-2020/models/comet_atomic2020_bart/requirements.txt (line 12)) (1.0.0)\n",
            "Requirement already satisfied: ipython>=7.23.1 in /usr/local/lib/python3.7/dist-packages (from ipykernel>=5.1.2->pydeck>=0.1.dev5->streamlit->-r comet-atomic-2020/models/comet_atomic2020_bart/requirements.txt (line 12)) (7.31.1)\n",
            "Requirement already satisfied: matplotlib-inline<0.2.0,>=0.1.0 in /usr/local/lib/python3.7/dist-packages (from ipykernel>=5.1.2->pydeck>=0.1.dev5->streamlit->-r comet-atomic-2020/models/comet_atomic2020_bart/requirements.txt (line 12)) (0.1.3)\n",
            "Requirement already satisfied: nest-asyncio in /usr/local/lib/python3.7/dist-packages (from ipykernel>=5.1.2->pydeck>=0.1.dev5->streamlit->-r comet-atomic-2020/models/comet_atomic2020_bart/requirements.txt (line 12)) (1.5.4)\n",
            "Requirement already satisfied: jupyter-client<8.0 in /usr/local/lib/python3.7/dist-packages (from ipykernel>=5.1.2->pydeck>=0.1.dev5->streamlit->-r comet-atomic-2020/models/comet_atomic2020_bart/requirements.txt (line 12)) (5.3.5)\n",
            "Requirement already satisfied: jedi>=0.16 in /usr/local/lib/python3.7/dist-packages (from ipython>=7.23.1->ipykernel>=5.1.2->pydeck>=0.1.dev5->streamlit->-r comet-atomic-2020/models/comet_atomic2020_bart/requirements.txt (line 12)) (0.18.1)\n",
            "Requirement already satisfied: pickleshare in /usr/local/lib/python3.7/dist-packages (from ipython>=7.23.1->ipykernel>=5.1.2->pydeck>=0.1.dev5->streamlit->-r comet-atomic-2020/models/comet_atomic2020_bart/requirements.txt (line 12)) (0.7.5)\n",
            "Requirement already satisfied: decorator in /usr/local/lib/python3.7/dist-packages (from ipython>=7.23.1->ipykernel>=5.1.2->pydeck>=0.1.dev5->streamlit->-r comet-atomic-2020/models/comet_atomic2020_bart/requirements.txt (line 12)) (4.4.2)\n",
            "Requirement already satisfied: pexpect>4.3 in /usr/local/lib/python3.7/dist-packages (from ipython>=7.23.1->ipykernel>=5.1.2->pydeck>=0.1.dev5->streamlit->-r comet-atomic-2020/models/comet_atomic2020_bart/requirements.txt (line 12)) (4.8.0)\n",
            "Requirement already satisfied: backcall in /usr/local/lib/python3.7/dist-packages (from ipython>=7.23.1->ipykernel>=5.1.2->pydeck>=0.1.dev5->streamlit->-r comet-atomic-2020/models/comet_atomic2020_bart/requirements.txt (line 12)) (0.2.0)\n",
            "Requirement already satisfied: pygments in /usr/local/lib/python3.7/dist-packages (from ipython>=7.23.1->ipykernel>=5.1.2->pydeck>=0.1.dev5->streamlit->-r comet-atomic-2020/models/comet_atomic2020_bart/requirements.txt (line 12)) (2.6.1)\n",
            "Requirement already satisfied: prompt-toolkit!=3.0.0,!=3.0.1,<3.1.0,>=2.0.0 in /usr/local/lib/python3.7/dist-packages (from ipython>=7.23.1->ipykernel>=5.1.2->pydeck>=0.1.dev5->streamlit->-r comet-atomic-2020/models/comet_atomic2020_bart/requirements.txt (line 12)) (3.0.24)\n",
            "Requirement already satisfied: widgetsnbextension~=3.5.0 in /usr/local/lib/python3.7/dist-packages (from ipywidgets>=7.0.0->pydeck>=0.1.dev5->streamlit->-r comet-atomic-2020/models/comet_atomic2020_bart/requirements.txt (line 12)) (3.5.2)\n",
            "Requirement already satisfied: nbformat>=4.2.0 in /usr/local/lib/python3.7/dist-packages (from ipywidgets>=7.0.0->pydeck>=0.1.dev5->streamlit->-r comet-atomic-2020/models/comet_atomic2020_bart/requirements.txt (line 12)) (5.1.3)\n",
            "Requirement already satisfied: ipython-genutils~=0.2.0 in /usr/local/lib/python3.7/dist-packages (from ipywidgets>=7.0.0->pydeck>=0.1.dev5->streamlit->-r comet-atomic-2020/models/comet_atomic2020_bart/requirements.txt (line 12)) (0.2.0)\n",
            "Requirement already satisfied: jupyterlab-widgets>=1.0.0 in /usr/local/lib/python3.7/dist-packages (from ipywidgets>=7.0.0->pydeck>=0.1.dev5->streamlit->-r comet-atomic-2020/models/comet_atomic2020_bart/requirements.txt (line 12)) (1.0.2)\n",
            "Requirement already satisfied: parso<0.9.0,>=0.8.0 in /usr/local/lib/python3.7/dist-packages (from jedi>=0.16->ipython>=7.23.1->ipykernel>=5.1.2->pydeck>=0.1.dev5->streamlit->-r comet-atomic-2020/models/comet_atomic2020_bart/requirements.txt (line 12)) (0.8.3)\n",
            "Requirement already satisfied: MarkupSafe>=0.23 in /usr/local/lib/python3.7/dist-packages (from jinja2->altair>=3.2.0->streamlit->-r comet-atomic-2020/models/comet_atomic2020_bart/requirements.txt (line 12)) (2.0.1)\n",
            "Requirement already satisfied: pyzmq>=13 in /usr/local/lib/python3.7/dist-packages (from jupyter-client<8.0->ipykernel>=5.1.2->pydeck>=0.1.dev5->streamlit->-r comet-atomic-2020/models/comet_atomic2020_bart/requirements.txt (line 12)) (22.3.0)\n",
            "Requirement already satisfied: jupyter-core>=4.6.0 in /usr/local/lib/python3.7/dist-packages (from jupyter-client<8.0->ipykernel>=5.1.2->pydeck>=0.1.dev5->streamlit->-r comet-atomic-2020/models/comet_atomic2020_bart/requirements.txt (line 12)) (4.9.1)\n",
            "Requirement already satisfied: ptyprocess>=0.5 in /usr/local/lib/python3.7/dist-packages (from pexpect>4.3->ipython>=7.23.1->ipykernel>=5.1.2->pydeck>=0.1.dev5->streamlit->-r comet-atomic-2020/models/comet_atomic2020_bart/requirements.txt (line 12)) (0.7.0)\n",
            "Requirement already satisfied: wcwidth in /usr/local/lib/python3.7/dist-packages (from prompt-toolkit!=3.0.0,!=3.0.1,<3.1.0,>=2.0.0->ipython>=7.23.1->ipykernel>=5.1.2->pydeck>=0.1.dev5->streamlit->-r comet-atomic-2020/models/comet_atomic2020_bart/requirements.txt (line 12)) (0.2.5)\n",
            "Requirement already satisfied: notebook>=4.4.1 in /usr/local/lib/python3.7/dist-packages (from widgetsnbextension~=3.5.0->ipywidgets>=7.0.0->pydeck>=0.1.dev5->streamlit->-r comet-atomic-2020/models/comet_atomic2020_bart/requirements.txt (line 12)) (5.3.1)\n",
            "Requirement already satisfied: Send2Trash in /usr/local/lib/python3.7/dist-packages (from notebook>=4.4.1->widgetsnbextension~=3.5.0->ipywidgets>=7.0.0->pydeck>=0.1.dev5->streamlit->-r comet-atomic-2020/models/comet_atomic2020_bart/requirements.txt (line 12)) (1.8.0)\n",
            "Requirement already satisfied: terminado>=0.8.1 in /usr/local/lib/python3.7/dist-packages (from notebook>=4.4.1->widgetsnbextension~=3.5.0->ipywidgets>=7.0.0->pydeck>=0.1.dev5->streamlit->-r comet-atomic-2020/models/comet_atomic2020_bart/requirements.txt (line 12)) (0.12.1)\n",
            "Requirement already satisfied: nbconvert in /usr/local/lib/python3.7/dist-packages (from notebook>=4.4.1->widgetsnbextension~=3.5.0->ipywidgets>=7.0.0->pydeck>=0.1.dev5->streamlit->-r comet-atomic-2020/models/comet_atomic2020_bart/requirements.txt (line 12)) (5.6.1)\n",
            "Requirement already satisfied: xxhash in /usr/local/lib/python3.7/dist-packages (from nlp->-r comet-atomic-2020/models/comet_atomic2020_bart/requirements.txt (line 15)) (2.0.2)\n",
            "Requirement already satisfied: catalogue<1.1.0,>=0.0.7 in /usr/local/lib/python3.7/dist-packages (from spacy->-r comet-atomic-2020/models/comet_atomic2020_bart/requirements.txt (line 16)) (1.0.0)\n",
            "Requirement already satisfied: preshed<3.1.0,>=3.0.2 in /usr/local/lib/python3.7/dist-packages (from spacy->-r comet-atomic-2020/models/comet_atomic2020_bart/requirements.txt (line 16)) (3.0.6)\n",
            "Requirement already satisfied: srsly<1.1.0,>=1.0.2 in /usr/local/lib/python3.7/dist-packages (from spacy->-r comet-atomic-2020/models/comet_atomic2020_bart/requirements.txt (line 16)) (1.0.5)\n",
            "Requirement already satisfied: plac<1.2.0,>=0.9.6 in /usr/local/lib/python3.7/dist-packages (from spacy->-r comet-atomic-2020/models/comet_atomic2020_bart/requirements.txt (line 16)) (1.1.3)\n",
            "Requirement already satisfied: wasabi<1.1.0,>=0.4.0 in /usr/local/lib/python3.7/dist-packages (from spacy->-r comet-atomic-2020/models/comet_atomic2020_bart/requirements.txt (line 16)) (0.9.0)\n",
            "Requirement already satisfied: cymem<2.1.0,>=2.0.2 in /usr/local/lib/python3.7/dist-packages (from spacy->-r comet-atomic-2020/models/comet_atomic2020_bart/requirements.txt (line 16)) (2.0.6)\n",
            "Requirement already satisfied: blis<0.5.0,>=0.4.0 in /usr/local/lib/python3.7/dist-packages (from spacy->-r comet-atomic-2020/models/comet_atomic2020_bart/requirements.txt (line 16)) (0.4.1)\n",
            "Requirement already satisfied: thinc==7.4.0 in /usr/local/lib/python3.7/dist-packages (from spacy->-r comet-atomic-2020/models/comet_atomic2020_bart/requirements.txt (line 16)) (7.4.0)\n",
            "Requirement already satisfied: murmurhash<1.1.0,>=0.28.0 in /usr/local/lib/python3.7/dist-packages (from spacy->-r comet-atomic-2020/models/comet_atomic2020_bart/requirements.txt (line 16)) (1.0.6)\n",
            "Requirement already satisfied: pandocfilters>=1.4.1 in /usr/local/lib/python3.7/dist-packages (from nbconvert->notebook>=4.4.1->widgetsnbextension~=3.5.0->ipywidgets>=7.0.0->pydeck>=0.1.dev5->streamlit->-r comet-atomic-2020/models/comet_atomic2020_bart/requirements.txt (line 12)) (1.5.0)\n",
            "Requirement already satisfied: defusedxml in /usr/local/lib/python3.7/dist-packages (from nbconvert->notebook>=4.4.1->widgetsnbextension~=3.5.0->ipywidgets>=7.0.0->pydeck>=0.1.dev5->streamlit->-r comet-atomic-2020/models/comet_atomic2020_bart/requirements.txt (line 12)) (0.7.1)\n",
            "Requirement already satisfied: bleach in /usr/local/lib/python3.7/dist-packages (from nbconvert->notebook>=4.4.1->widgetsnbextension~=3.5.0->ipywidgets>=7.0.0->pydeck>=0.1.dev5->streamlit->-r comet-atomic-2020/models/comet_atomic2020_bart/requirements.txt (line 12)) (4.1.0)\n",
            "Requirement already satisfied: testpath in /usr/local/lib/python3.7/dist-packages (from nbconvert->notebook>=4.4.1->widgetsnbextension~=3.5.0->ipywidgets>=7.0.0->pydeck>=0.1.dev5->streamlit->-r comet-atomic-2020/models/comet_atomic2020_bart/requirements.txt (line 12)) (0.5.0)\n",
            "Requirement already satisfied: mistune<2,>=0.8.1 in /usr/local/lib/python3.7/dist-packages (from nbconvert->notebook>=4.4.1->widgetsnbextension~=3.5.0->ipywidgets>=7.0.0->pydeck>=0.1.dev5->streamlit->-r comet-atomic-2020/models/comet_atomic2020_bart/requirements.txt (line 12)) (0.8.4)\n",
            "Requirement already satisfied: webencodings in /usr/local/lib/python3.7/dist-packages (from bleach->nbconvert->notebook>=4.4.1->widgetsnbextension~=3.5.0->ipywidgets>=7.0.0->pydeck>=0.1.dev5->streamlit->-r comet-atomic-2020/models/comet_atomic2020_bart/requirements.txt (line 12)) (0.5.1)\n",
            "Requirement already satisfied: googleapis-common-protos<2,>=1.52.0 in /usr/local/lib/python3.7/dist-packages (from tensorflow-metadata->tensorflow_datasets->-r comet-atomic-2020/models/comet_atomic2020_bart/requirements.txt (line 7)) (1.54.0)\n",
            "Installing collected packages: pytorch-lightning\n",
            "  Attempting uninstall: pytorch-lightning\n",
            "    Found existing installation: pytorch-lightning 0.8.5\n",
            "    Uninstalling pytorch-lightning-0.8.5:\n",
            "      Successfully uninstalled pytorch-lightning-0.8.5\n",
            "Successfully installed pytorch-lightning-0.8.1\n"
          ]
        }
      ]
    },
    {
      "cell_type": "markdown",
      "source": [
        "### Test Model"
      ],
      "metadata": {
        "id": "BOxQA9khnK5-"
      }
    },
    {
      "cell_type": "code",
      "source": [
        "import os\n",
        "os.chdir(\"/content/drive/MyDrive/Factual-summarisation-using-COMET-T5/comet-atomic-2020/models/comet_atomic2020_bart\")"
      ],
      "metadata": {
        "id": "iQKAS3yQo5a0"
      },
      "execution_count": null,
      "outputs": []
    },
    {
      "cell_type": "code",
      "source": [
        "!python ./generation_example.py"
      ],
      "metadata": {
        "colab": {
          "base_uri": "https://localhost:8080/"
        },
        "id": "JEmTYGL5lIqZ",
        "outputId": "05156883-497b-44a7-827e-3731f798ffc2"
      },
      "execution_count": null,
      "outputs": [
        {
          "output_type": "stream",
          "name": "stdout",
          "text": [
            "model loading ...\n",
            "model loaded\n",
            "['PersonX eats an apple xNeed [GEN]']\n",
            "[[' to buy an apple', ' to get an apple', ' to pick one up', ' to pick one', ' none']]\n"
          ]
        }
      ]
    }
  ]
}