{
  "nbformat": 4,
  "nbformat_minor": 0,
  "metadata": {
    "colab": {
      "name": "MoEL_model_11.ipynb",
      "provenance": [],
      "collapsed_sections": [],
      "include_colab_link": true
    },
    "kernelspec": {
      "name": "python3",
      "display_name": "Python 3"
    },
    "language_info": {
      "name": "python"
    }
  },
  "cells": [
    {
      "cell_type": "markdown",
      "metadata": {
        "id": "view-in-github",
        "colab_type": "text"
      },
      "source": [
        "<a href=\"https://colab.research.google.com/github/vlordier/colabs/blob/main/MoEL_model_11.ipynb\" target=\"_parent\"><img src=\"https://colab.research.google.com/assets/colab-badge.svg\" alt=\"Open In Colab\"/></a>"
      ]
    },
    {
      "cell_type": "code",
      "execution_count": null,
      "metadata": {
        "colab": {
          "base_uri": "https://localhost:8080/"
        },
        "id": "nyq5BwrsewKw",
        "outputId": "193cbd0a-f577-45f6-8073-2cbf8a1a5d81"
      },
      "outputs": [
        {
          "output_type": "stream",
          "name": "stdout",
          "text": [
            "Cloning into 'MoEL'...\n",
            "remote: Enumerating objects: 94, done.\u001b[K\n",
            "remote: Total 94 (delta 0), reused 0 (delta 0), pack-reused 94\u001b[K\n",
            "Unpacking objects: 100% (94/94), done.\n"
          ]
        }
      ],
      "source": [
        "!git clone https://github.com/HLTCHKUST/MoEL.git"
      ]
    },
    {
      "cell_type": "code",
      "source": [
        "%cd MoEL/"
      ],
      "metadata": {
        "id": "oYMIy6gvh25q",
        "colab": {
          "base_uri": "https://localhost:8080/"
        },
        "outputId": "d23957e0-6848-423e-bc90-bfc220d18833"
      },
      "execution_count": null,
      "outputs": [
        {
          "output_type": "stream",
          "name": "stdout",
          "text": [
            "[Errno 2] No such file or directory: 'MoEL/'\n",
            "/content/MoEL\n"
          ]
        }
      ]
    },
    {
      "cell_type": "code",
      "source": [
        "!wget nlp.stanford.edu/data/glove.6B.zip"
      ],
      "metadata": {
        "colab": {
          "base_uri": "https://localhost:8080/"
        },
        "id": "ikjY2roALKeW",
        "outputId": "c6285a4d-b93c-464b-cdcf-65c8ae0ffb91"
      },
      "execution_count": null,
      "outputs": [
        {
          "output_type": "stream",
          "name": "stdout",
          "text": [
            "--2022-02-01 21:48:10--  http://nlp.stanford.edu/data/glove.6B.zip\n",
            "Resolving nlp.stanford.edu (nlp.stanford.edu)... 171.64.67.140\n",
            "Connecting to nlp.stanford.edu (nlp.stanford.edu)|171.64.67.140|:80... connected.\n",
            "HTTP request sent, awaiting response... 302 Found\n",
            "Location: https://nlp.stanford.edu/data/glove.6B.zip [following]\n",
            "--2022-02-01 21:48:10--  https://nlp.stanford.edu/data/glove.6B.zip\n",
            "Connecting to nlp.stanford.edu (nlp.stanford.edu)|171.64.67.140|:443... connected.\n",
            "HTTP request sent, awaiting response... 301 Moved Permanently\n",
            "Location: http://downloads.cs.stanford.edu/nlp/data/glove.6B.zip [following]\n",
            "--2022-02-01 21:48:10--  http://downloads.cs.stanford.edu/nlp/data/glove.6B.zip\n",
            "Resolving downloads.cs.stanford.edu (downloads.cs.stanford.edu)... 171.64.64.22\n",
            "Connecting to downloads.cs.stanford.edu (downloads.cs.stanford.edu)|171.64.64.22|:80... connected.\n",
            "HTTP request sent, awaiting response... 200 OK\n",
            "Length: 862182613 (822M) [application/zip]\n",
            "Saving to: ‘glove.6B.zip’\n",
            "\n",
            "glove.6B.zip        100%[===================>] 822.24M  5.06MB/s    in 2m 40s  \n",
            "\n",
            "2022-02-01 21:50:51 (5.13 MB/s) - ‘glove.6B.zip’ saved [862182613/862182613]\n",
            "\n"
          ]
        }
      ]
    },
    {
      "cell_type": "code",
      "source": [
        "!unzip glove.6B.zip"
      ],
      "metadata": {
        "colab": {
          "base_uri": "https://localhost:8080/"
        },
        "id": "2ubsnhN8Lp0m",
        "outputId": "6feccdb1-8f3d-44c0-b49f-c46547ea3889"
      },
      "execution_count": null,
      "outputs": [
        {
          "output_type": "stream",
          "name": "stdout",
          "text": [
            "Archive:  glove.6B.zip\n",
            "  inflating: glove.6B.50d.txt        \n",
            "  inflating: glove.6B.100d.txt       \n",
            "  inflating: glove.6B.200d.txt       \n",
            "  inflating: glove.6B.300d.txt       \n"
          ]
        }
      ]
    },
    {
      "cell_type": "code",
      "source": [
        "import os\n",
        "\n",
        "dir = 'vectors/'\n",
        "if os.path.exists(dir):\n",
        "  pass\n",
        "else:\n",
        "  os.mkdir(dir)"
      ],
      "metadata": {
        "id": "4w6krmSyMmiR"
      },
      "execution_count": null,
      "outputs": []
    },
    {
      "cell_type": "code",
      "source": [
        "!cp glove.6B.300d.txt vectors/"
      ],
      "metadata": {
        "id": "lf7-qaA0QQQV"
      },
      "execution_count": null,
      "outputs": []
    },
    {
      "cell_type": "code",
      "source": [
        "!pip install -r requirements.txt"
      ],
      "metadata": {
        "colab": {
          "base_uri": "https://localhost:8080/"
        },
        "id": "tNPpDbdFMm6O",
        "outputId": "794378d3-b632-42f5-8873-5bbda54d384f"
      },
      "execution_count": null,
      "outputs": [
        {
          "output_type": "stream",
          "name": "stdout",
          "text": [
            "\u001b[31mERROR: Could not find a version that satisfies the requirement torch==0.4.1 (from versions: 1.0.0, 1.0.1, 1.0.1.post2, 1.1.0, 1.2.0, 1.3.0, 1.3.1, 1.4.0, 1.5.0, 1.5.1, 1.6.0, 1.7.0, 1.7.1, 1.8.0, 1.8.1, 1.9.0, 1.9.1, 1.10.0, 1.10.1, 1.10.2)\u001b[0m\n",
            "\u001b[31mERROR: No matching distribution found for torch==0.4.1\u001b[0m\n"
          ]
        }
      ]
    },
    {
      "cell_type": "code",
      "source": [
        "!pip install tensorboardX==1.6"
      ],
      "metadata": {
        "colab": {
          "base_uri": "https://localhost:8080/"
        },
        "id": "wS_PA8hOQcVN",
        "outputId": "9bef3761-5ba0-41d6-85c9-42bab1459bbe"
      },
      "execution_count": null,
      "outputs": [
        {
          "output_type": "stream",
          "name": "stdout",
          "text": [
            "Collecting tensorboardX==1.6\n",
            "  Downloading tensorboardX-1.6-py2.py3-none-any.whl (129 kB)\n",
            "\u001b[K     |████████████████████████████████| 129 kB 5.4 MB/s \n",
            "\u001b[?25hRequirement already satisfied: protobuf>=3.2.0 in /usr/local/lib/python3.7/dist-packages (from tensorboardX==1.6) (3.17.3)\n",
            "Requirement already satisfied: six in /usr/local/lib/python3.7/dist-packages (from tensorboardX==1.6) (1.15.0)\n",
            "Requirement already satisfied: numpy in /usr/local/lib/python3.7/dist-packages (from tensorboardX==1.6) (1.19.5)\n",
            "Installing collected packages: tensorboardX\n",
            "Successfully installed tensorboardX-1.6\n"
          ]
        }
      ]
    },
    {
      "cell_type": "code",
      "source": [
        "train = 0\n",
        "if train == 1:\n",
        "  !python3 main.py --model experts  --label_smoothing --noam --emb_dim 300 --hidden_dim 300 --hop 1 --heads 2 --topk 5 --cuda --pretrain_emb --softmax --basic_learner --schedule 10000 --save_path save/moel/"
      ],
      "metadata": {
        "id": "OVx73Wd8SxVN"
      },
      "execution_count": null,
      "outputs": []
    },
    {
      "cell_type": "code",
      "source": [
        "!pip install numpy==1.16.1"
      ],
      "metadata": {
        "id": "gp_isz8MVUzA"
      },
      "execution_count": null,
      "outputs": []
    },
    {
      "cell_type": "code",
      "source": [
        "import numpy as np\n",
        "\n",
        "cntxt_data = np.load('empathetic-dialogue/sys_dialog_texts.test.npy', allow_pickle=True)\n",
        "emot_data = np.load('empathetic-dialogue/sys_emotion_texts.test.npy', allow_pickle=True)\n",
        "ref_data = np.load('empathetic-dialogue/sys_target_texts.test.npy', allow_pickle=True)\n"
      ],
      "metadata": {
        "id": "Mu6TSjXtS9mb"
      },
      "execution_count": null,
      "outputs": []
    },
    {
      "cell_type": "code",
      "source": [
        "with open('generation_result.txt') as f:\n",
        "    lines = f.readlines()"
      ],
      "metadata": {
        "id": "2t0EnTZyWnEy"
      },
      "execution_count": null,
      "outputs": []
    },
    {
      "cell_type": "code",
      "source": [
        "MOE_preds = []\n",
        "i = 5\n",
        "while i < len(lines):\n",
        "  MOE_preds.append(lines[i].rstrip()[12:])\n",
        "  i += 8"
      ],
      "metadata": {
        "id": "KJUt0cUoUj20"
      },
      "execution_count": null,
      "outputs": []
    },
    {
      "cell_type": "code",
      "source": [
        "sample_no = 7\n",
        "print(f'Context: {cntxt_data[sample_no]}')\n",
        "print('Emotion: '+emot_data[sample_no])\n",
        "print('Reference: '+ref_data[sample_no])\n",
        "print('MOEL prediction: '+MOE_preds[sample_no])"
      ],
      "metadata": {
        "colab": {
          "base_uri": "https://localhost:8080/"
        },
        "id": "LD1vfSetWrKk",
        "outputId": "b76bac5a-ca50-4c73-b9ab-27899f639c3f"
      },
      "execution_count": null,
      "outputs": [
        {
          "output_type": "stream",
          "name": "stdout",
          "text": [
            "Context: [\"I couldn't wait to go to the concert.\", 'Which Concert?', 'The U2 concert. Tickets were really expensive and I never thought we would be able to go, but somehow we did!!!']\n",
            "Emotion: excited\n",
            "Reference: Wow, that's awesome! I have never been to an actual concert.\n",
            "MOEL prediction: that sounds like fun !\n"
          ]
        }
      ]
    },
    {
      "cell_type": "code",
      "source": [
        ""
      ],
      "metadata": {
        "id": "OXMgfxxuXnUs"
      },
      "execution_count": null,
      "outputs": []
    }
  ]
}